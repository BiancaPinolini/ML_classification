{
 "cells": [
  {
   "cell_type": "code",
   "execution_count": 1,
   "metadata": {
    "ExecuteTime": {
     "end_time": "2020-01-28T07:34:42.924771Z",
     "start_time": "2020-01-28T07:34:39.983555Z"
    }
   },
   "outputs": [],
   "source": [
    "import pickle\n",
    "import pandas as pd\n",
    "import numpy as np\n",
    "import matplotlib.pyplot as plt\n",
    "import os\n",
    "from collections import defaultdict\n",
    "import matplotlib as mpl\n",
    "\n",
    "mpl.rcParams['figure.figsize'] = (6,6)\n",
    "mpl.rcParams['figure.dpi'] = 100\n",
    "mpl.rcParams[\"image.origin\"] = 'lower'"
   ]
  },
  {
   "cell_type": "code",
   "execution_count": 2,
   "metadata": {},
   "outputs": [],
   "source": [
    "classes = { \"WWewk\": 0, \"top\":1 }\n",
    "signal_name = \"WWewk\"\n",
    "sample_names = [\"WWewk\", \"top\"]"
   ]
  },
  {
   "cell_type": "code",
   "execution_count": 3,
   "metadata": {},
   "outputs": [],
   "source": [
    "samples = {}"
   ]
  },
  {
   "cell_type": "code",
   "execution_count": 4,
   "metadata": {},
   "outputs": [],
   "source": [
    "base_dir=\"/eos/home-b/bpinolin/ML_classification/output/\"\n",
    "plot_config=\"VBSOS\"\n",
    "cut= \"em_tight\"\n",
    "version = \"v3\""
   ]
  },
  {
   "cell_type": "code",
   "execution_count": 5,
   "metadata": {},
   "outputs": [],
   "source": [
    "samples_dir = os.path.join(base_dir, plot_config, cut, \"samples/\" + version)\n",
    "#output_dir = os.path.join(base_dir, plot_config, cut, \"samples/\" + version)"
   ]
  },
  {
   "cell_type": "code",
   "execution_count": 6,
   "metadata": {
    "scrolled": true
   },
   "outputs": [
    {
     "name": "stdout",
     "output_type": "stream",
     "text": [
      "WWewk\n",
      "/eos/home-b/bpinolin/ML_classification/output/VBSOS/em_tight/samples/v3/WWewk_part1.pkl\n",
      "top\n",
      "/eos/home-b/bpinolin/ML_classification/output/VBSOS/em_tight/samples/v3/top_part1.pkl\n",
      "top\n",
      "/eos/home-b/bpinolin/ML_classification/output/VBSOS/em_tight/samples/v3/top_part2.pkl\n"
     ]
    }
   ],
   "source": [
    "for file in os.listdir(samples_dir):\n",
    "    if os.path.isdir(os.path.join(samples_dir, file)): continue\n",
    "    sname = file.split(\"_part\")[0]\n",
    "    print(sname)\n",
    "    print(os.path.join(samples_dir, file))\n",
    "    s = pickle.load(open(os.path.join(samples_dir, file), \"rb\"))\n",
    "    s.rename(columns=lambda c: c.split(cut+\"_\")[1] if cut in c else c, inplace=True)\n",
    "    s[\"sample_name\"]= sname\n",
    "    s[\"class\"] = classes[sname]\n",
    "    if sname == signal_name:\n",
    "        s[\"signal\"] = 1\n",
    "    else: \n",
    "        s[\"signal\"] = 0\n",
    "    if sname in samples:\n",
    "        samples[sname] = pd.concat([samples[sname], s], ignore_index=True)\n",
    "    else:\n",
    "        samples[sname] = s"
   ]
  },
  {
   "cell_type": "code",
   "execution_count": 7,
   "metadata": {},
   "outputs": [
    {
     "name": "stdout",
     "output_type": "stream",
     "text": [
      "Sample name WWewk     , nsamples:      11171,   XS total: 114.85178009853344\n",
      "Sample name top       , nsamples:     108446,   XS total: 7500.626491892971\n"
     ]
    }
   ],
   "source": [
    "for s, df in samples.items():\n",
    "    print(f\"Sample name {s:10}, nsamples: {len(df):10},   XS total: {(df.weight_).sum()*41.5 :15}\")"
   ]
  },
  {
   "cell_type": "code",
   "execution_count": 8,
   "metadata": {},
   "outputs": [],
   "source": [
    "from sklearn.utils.class_weight import compute_sample_weight, compute_class_weight\n",
    "from sklearn.preprocessing import LabelEncoder "
   ]
  },
  {
   "cell_type": "code",
   "execution_count": 9,
   "metadata": {},
   "outputs": [],
   "source": [
    "# _ = plt.hist(samples[\"WWewk\"][\"weight_\"], bins=100, range=(0,0.001))"
   ]
  },
  {
   "cell_type": "markdown",
   "metadata": {},
   "source": [
    "# Balancing"
   ]
  },
  {
   "cell_type": "code",
   "execution_count": 10,
   "metadata": {},
   "outputs": [],
   "source": [
    "bkg_list = []\n",
    "bkg_names = [ name for name in sample_names if name != signal_name ]\n",
    "for bkg_name in bkg_names:\n",
    "    bkg_list.append(samples[bkg_name])"
   ]
  },
  {
   "cell_type": "code",
   "execution_count": 11,
   "metadata": {},
   "outputs": [],
   "source": [
    "background = pd.concat(bkg_list, ignore_index=True)"
   ]
  },
  {
   "cell_type": "code",
   "execution_count": 12,
   "metadata": {},
   "outputs": [],
   "source": [
    "signal = samples[\"WWewk\"]"
   ]
  },
  {
   "cell_type": "code",
   "execution_count": 13,
   "metadata": {},
   "outputs": [
    {
     "name": "stdout",
     "output_type": "stream",
     "text": [
      "9.707814877808612\n"
     ]
    }
   ],
   "source": [
    "ratio_neve_bkgsignal= len(background) / len(signal)\n",
    "print(ratio_neve_bkgsignal)"
   ]
  },
  {
   "cell_type": "code",
   "execution_count": 14,
   "metadata": {},
   "outputs": [
    {
     "name": "stdout",
     "output_type": "stream",
     "text": [
      "TOT signal weighted events 11171.0\n"
     ]
    }
   ],
   "source": [
    "tot_ev_weighted_sig = (signal.weight_ / signal.weight_.mean()).sum()\n",
    "print(\"TOT signal weighted events\", tot_ev_weighted_sig)"
   ]
  },
  {
   "cell_type": "code",
   "execution_count": 15,
   "metadata": {},
   "outputs": [
    {
     "name": "stdout",
     "output_type": "stream",
     "text": [
      "600.0177458328797\n"
     ]
    }
   ],
   "source": [
    "rescale_factor_bkg = (tot_ev_weighted_sig *ratio_neve_bkgsignal )/ background.weight_.sum()\n",
    "print(rescale_factor_bkg)"
   ]
  },
  {
   "cell_type": "code",
   "execution_count": 16,
   "metadata": {},
   "outputs": [],
   "source": [
    "signal[\"weight_norm\"] = signal.weight_ / signal.weight_.mean()\n",
    "background[\"weight_norm\"] = background.weight_ * rescale_factor_bkg"
   ]
  },
  {
   "cell_type": "markdown",
   "metadata": {},
   "source": [
    "# Save signal and bkg samples"
   ]
  },
  {
   "cell_type": "code",
   "execution_count": 17,
   "metadata": {},
   "outputs": [],
   "source": [
    "import os\n",
    "\n",
    "os.makedirs(os.path.join(samples_dir, \"for_training\"), exist_ok=True)\n",
    "pickle.dump(background, open(os.path.join(samples_dir, \"for_training/background_balanced.pkl\"), \"wb\"))\n",
    "pickle.dump(signal, open(os.path.join(samples_dir, \"for_training/signal_balanced.pkl\"), \"wb\"))"
   ]
  },
  {
   "cell_type": "code",
   "execution_count": 18,
   "metadata": {},
   "outputs": [],
   "source": [
    "#plt.hist(background[\"weight_norm\"], bins=100, range=(0, 50))\n",
    "#plt.yscale(\"log\")"
   ]
  },
  {
   "cell_type": "code",
   "execution_count": 19,
   "metadata": {},
   "outputs": [],
   "source": [
    "#plt.hist(signal[\"weight_norm\"], bins=100, range=(0, 100))\n",
    "#plt.yscale(\"log\")"
   ]
  },
  {
   "cell_type": "code",
   "execution_count": null,
   "metadata": {},
   "outputs": [],
   "source": []
  }
 ],
 "metadata": {
  "kernelspec": {
   "display_name": "Python 3",
   "language": "python",
   "name": "python3"
  },
  "language_info": {
   "codemirror_mode": {
    "name": "ipython",
    "version": 3
   },
   "file_extension": ".py",
   "mimetype": "text/x-python",
   "name": "python",
   "nbconvert_exporter": "python",
   "pygments_lexer": "ipython3",
   "version": "3.7.6"
  },
  "toc": {
   "base_numbering": 1,
   "nav_menu": {},
   "number_sections": true,
   "sideBar": true,
   "skip_h1_title": false,
   "title_cell": "Table of Contents",
   "title_sidebar": "Contents",
   "toc_cell": false,
   "toc_position": {},
   "toc_section_display": true,
   "toc_window_display": false
  },
  "varInspector": {
   "cols": {
    "lenName": 16,
    "lenType": 16,
    "lenVar": 40
   },
   "kernels_config": {
    "python": {
     "delete_cmd_postfix": "",
     "delete_cmd_prefix": "del ",
     "library": "var_list.py",
     "varRefreshCmd": "print(var_dic_list())"
    },
    "r": {
     "delete_cmd_postfix": ") ",
     "delete_cmd_prefix": "rm(",
     "library": "var_list.r",
     "varRefreshCmd": "cat(var_dic_list()) "
    }
   },
   "types_to_exclude": [
    "module",
    "function",
    "builtin_function_or_method",
    "instance",
    "_Feature"
   ],
   "window_display": false
  }
 },
 "nbformat": 4,
 "nbformat_minor": 2
}
