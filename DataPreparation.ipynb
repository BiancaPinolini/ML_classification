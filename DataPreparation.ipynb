{
 "cells": [
  {
   "cell_type": "code",
   "execution_count": 1,
   "metadata": {
    "ExecuteTime": {
     "end_time": "2020-01-28T07:34:42.924771Z",
     "start_time": "2020-01-28T07:34:39.983555Z"
    }
   },
   "outputs": [],
   "source": [
    "import pickle\n",
    "import pandas as pd\n",
    "import numpy as np\n",
    "import matplotlib.pyplot as plt\n",
    "import os\n",
    "from collections import defaultdict\n",
    "import matplotlib as mpl\n",
    "\n",
    "mpl.rcParams['figure.figsize'] = (6,6)\n",
    "mpl.rcParams['figure.dpi'] = 100\n",
    "mpl.rcParams[\"image.origin\"] = 'lower'"
   ]
  },
  {
   "cell_type": "code",
   "execution_count": 2,
   "metadata": {},
   "outputs": [],
   "source": [
    "classes = { \"WWewk\": 0, \"top\":1 }\n",
    "signal_name = \"WWewk\"\n",
    "sample_names = [\"WWewk\", \"top\"]"
   ]
  },
  {
   "cell_type": "code",
   "execution_count": 3,
   "metadata": {},
   "outputs": [],
   "source": [
    "samples = {}"
   ]
  },
  {
   "cell_type": "code",
   "execution_count": 4,
   "metadata": {},
   "outputs": [],
   "source": [
    "base_dir=\"/eos/home-b/bpinolin/ML_output/\"\n",
    "plot_config=\"VBSOS\"\n",
    "cut= \"sr\"\n",
    "version = \"v0\""
   ]
  },
  {
   "cell_type": "code",
   "execution_count": 5,
   "metadata": {},
   "outputs": [],
   "source": [
    "output_dir = os.path.join(base_dir, plot_config, cut, \"samples/\", version)"
   ]
  },
  {
   "cell_type": "code",
   "execution_count": 6,
   "metadata": {},
   "outputs": [],
   "source": [
    "datasets  = [\"2016\",\"2017\",\"2018\"]\n",
    "samples_dirs = [os.path.join(base_dir, plot_config, cut, \"samples/\", version, p) for p in datasets]"
   ]
  },
  {
   "cell_type": "code",
   "execution_count": 7,
   "metadata": {},
   "outputs": [],
   "source": [
    "lumi = { 2016: 35.867, 2017: 41.5 , 2018: 59.74}"
   ]
  },
  {
   "cell_type": "code",
   "execution_count": 8,
   "metadata": {
    "scrolled": true
   },
   "outputs": [
    {
     "name": "stdout",
     "output_type": "stream",
     "text": [
      "WWewk\n",
      "top\n",
      "top\n",
      "WWewk\n",
      "top\n",
      "top\n",
      "WWewk\n",
      "top\n",
      "top\n"
     ]
    }
   ],
   "source": [
    "for samples_dir in samples_dirs:\n",
    "    for file in os.listdir(samples_dir):\n",
    "        if os.path.isdir(os.path.join(samples_dir, file)): continue\n",
    "        sname = file.split(\"_part\")[0]\n",
    "        print(sname)\n",
    "        s = pickle.load(open(os.path.join(samples_dir, file), \"rb\"))\n",
    "        s.rename(columns=lambda c: c.split(cut+\"_\")[1] if cut in c else c, inplace=True)\n",
    "        s[\"sample_name\"]= sname\n",
    "        s[\"class\"] = classes[sname]\n",
    "        if sname == signal_name:\n",
    "            s[\"signal\"] = 1\n",
    "        else: \n",
    "            s[\"signal\"] = 0\n",
    "            \n",
    "            \n",
    "        if \"2016\" in samples_dir:\n",
    "            s[\"year\"] = 2016\n",
    "            s[\"weight_\"] = s[\"weight_\"] * lumi[2016] #lumi is included \n",
    "        if \"2017\" in samples_dir:\n",
    "            s[\"year\"] = 2017\n",
    "            s[\"weight_\"] = s[\"weight_\"] * lumi[2017] #lumi is included \n",
    "        if \"2018\" in samples_dir:\n",
    "            s[\"year\"] = 2018 \n",
    "            s[\"weight_\"] = s[\"weight_\"] * lumi[2018] #lumi is included \n",
    "            \n",
    "        if sname in samples:\n",
    "            samples[sname] = pd.concat([samples[sname], s], ignore_index=True)\n",
    "        else:\n",
    "            samples[sname] = s"
   ]
  },
  {
   "cell_type": "code",
   "execution_count": 9,
   "metadata": {},
   "outputs": [
    {
     "name": "stdout",
     "output_type": "stream",
     "text": [
      "Sample name WWewk     , nsamples:       6462,   XS total: 127.73515381923868\n",
      "Sample name top       , nsamples:      79835,   XS total: 38959.854364948726\n"
     ]
    }
   ],
   "source": [
    "for s, df in samples.items():\n",
    "    print(f\"Sample name {s:10}, nsamples: {len(df):10},   XS total: {(df.weight_).sum():15}\")"
   ]
  },
  {
   "cell_type": "raw",
   "metadata": {},
   "source": [
    "2016:\n",
    "Sample name WWewk     , nsamples:       2156,   XS total: 1.4096154979886735\n",
    "Sample name top       , nsamples:      16531,   XS total: 86.7367194439968\n",
    "\n",
    "2017:\n",
    "Sample name WWewk     , nsamples:       2165,   XS total: 0.28067623907914646\n",
    "Sample name top       , nsamples:      53284,   XS total: 98.33193467478306\n",
    "\n",
    "2018:\n",
    "Sample name WWewk     , nsamples:       2141,   XS total: 1.0968933851873843\n",
    "Sample name top       , nsamples:      10020,   XS total: 531.7725671183026\n",
    "\n",
    "2016 + 2017 + 2018:\n",
    "Sample name WWewk     , nsamples:       6462,   XS total: 2.787185122255204\n",
    "Sample name top       , nsamples:      79835,   XS total: 716.8412212370824"
   ]
  },
  {
   "cell_type": "code",
   "execution_count": 10,
   "metadata": {},
   "outputs": [],
   "source": [
    "from sklearn.utils.class_weight import compute_sample_weight, compute_class_weight\n",
    "from sklearn.preprocessing import LabelEncoder "
   ]
  },
  {
   "cell_type": "raw",
   "metadata": {},
   "source": [
    " _ = plt.hist(samples[\"top\"][\"weight_\"], bins=100, range=(0,0.005))"
   ]
  },
  {
   "cell_type": "markdown",
   "metadata": {},
   "source": [
    "# Balancing"
   ]
  },
  {
   "cell_type": "code",
   "execution_count": 11,
   "metadata": {},
   "outputs": [],
   "source": [
    "bkg_list = []\n",
    "bkg_names = [ name for name in sample_names if name != signal_name ]\n",
    "for bkg_name in bkg_names:\n",
    "    bkg_list.append(samples[bkg_name])"
   ]
  },
  {
   "cell_type": "code",
   "execution_count": 12,
   "metadata": {},
   "outputs": [],
   "source": [
    "background = pd.concat(bkg_list, ignore_index=True)"
   ]
  },
  {
   "cell_type": "raw",
   "metadata": {},
   "source": [
    "background = background[background['weight_'] >= 0.00009]"
   ]
  },
  {
   "cell_type": "raw",
   "metadata": {},
   "source": [
    " _ = plt.hist(background['weight_'], bins=100, range=(0,0.005))"
   ]
  },
  {
   "cell_type": "code",
   "execution_count": 13,
   "metadata": {},
   "outputs": [],
   "source": [
    "signal = samples[\"WWewk\"]"
   ]
  },
  {
   "cell_type": "raw",
   "metadata": {},
   "source": [
    "background = background[background['mjj'] > 500]\n",
    "signal = signal[signal['mjj'] > 500]"
   ]
  },
  {
   "cell_type": "code",
   "execution_count": 14,
   "metadata": {},
   "outputs": [
    {
     "name": "stdout",
     "output_type": "stream",
     "text": [
      "12.354534199938099\n"
     ]
    }
   ],
   "source": [
    "ratio_neve_bkgsignal= len(background) / len(signal)\n",
    "print(ratio_neve_bkgsignal)"
   ]
  },
  {
   "cell_type": "code",
   "execution_count": 15,
   "metadata": {},
   "outputs": [
    {
     "name": "stdout",
     "output_type": "stream",
     "text": [
      "TOT signal weighted events 6462.0\n"
     ]
    }
   ],
   "source": [
    "tot_ev_weighted_sig = (signal.weight_ / signal.weight_.mean()).sum()\n",
    "print(\"TOT signal weighted events\", tot_ev_weighted_sig)"
   ]
  },
  {
   "cell_type": "code",
   "execution_count": 16,
   "metadata": {},
   "outputs": [
    {
     "name": "stdout",
     "output_type": "stream",
     "text": [
      "2.0491606373104334\n"
     ]
    }
   ],
   "source": [
    "rescale_factor_bkg = (tot_ev_weighted_sig *ratio_neve_bkgsignal )/ background.weight_.sum()\n",
    "print(rescale_factor_bkg)"
   ]
  },
  {
   "cell_type": "code",
   "execution_count": 17,
   "metadata": {},
   "outputs": [],
   "source": [
    "signal[\"weight_norm\"] = signal.weight_ / signal.weight_.mean()\n",
    "background[\"weight_norm\"] = background.weight_ * rescale_factor_bkg"
   ]
  },
  {
   "cell_type": "raw",
   "metadata": {},
   "source": [
    "_ = plt.hist(background[\"weight_norm\"], bins=100, range=(0, 50))\n",
    "plt.yscale(\"log\")"
   ]
  },
  {
   "cell_type": "markdown",
   "metadata": {},
   "source": [
    "# Save signal and bkg samples"
   ]
  },
  {
   "cell_type": "code",
   "execution_count": 18,
   "metadata": {},
   "outputs": [],
   "source": [
    "import os\n",
    "\n",
    "os.makedirs(os.path.join(output_dir, \"for_training\"), exist_ok=True)\n",
    "pickle.dump(background, open(os.path.join(output_dir, \"for_training/background_balanced.pkl\"), \"wb\"))\n",
    "pickle.dump(signal, open(os.path.join(output_dir, \"for_training/signal_balanced.pkl\"), \"wb\"))"
   ]
  },
  {
   "cell_type": "raw",
   "metadata": {},
   "source": [
    "plt.hist(background[\"weight_norm\"], bins=100, range=(0, 50))\n",
    "plt.yscale(\"log\")"
   ]
  },
  {
   "cell_type": "raw",
   "metadata": {},
   "source": [
    " _ = plt.hist(background['weight_'], bins=100, range=(0,0.005))\n",
    "plt.yscale(\"log\")"
   ]
  },
  {
   "cell_type": "code",
   "execution_count": 19,
   "metadata": {},
   "outputs": [
    {
     "name": "stdout",
     "output_type": "stream",
     "text": [
      "Effective sig events:  6462.0\n",
      "Effective bkg events:  79835.0\n"
     ]
    }
   ],
   "source": [
    "print(\"Effective sig events: \", signal.weight_norm.sum())\n",
    "print(\"Effective bkg events: \", background.weight_norm.sum())"
   ]
  },
  {
   "cell_type": "code",
   "execution_count": 20,
   "metadata": {},
   "outputs": [
    {
     "name": "stdout",
     "output_type": "stream",
     "text": [
      "XS Signal =  127.7\n",
      "XS Background =  38959.9\n"
     ]
    }
   ],
   "source": [
    "print(\"XS Signal = \", round((signal.weight_).sum(),1))\n",
    "print(\"XS Background = \", round((background.weight_).sum(),1))"
   ]
  },
  {
   "cell_type": "code",
   "execution_count": 21,
   "metadata": {
    "scrolled": true
   },
   "outputs": [
    {
     "data": {
      "text/plain": [
       "6462"
      ]
     },
     "execution_count": 21,
     "metadata": {},
     "output_type": "execute_result"
    }
   ],
   "source": [
    "len(signal)"
   ]
  },
  {
   "cell_type": "code",
   "execution_count": 22,
   "metadata": {
    "scrolled": true
   },
   "outputs": [
    {
     "data": {
      "text/plain": [
       "79835"
      ]
     },
     "execution_count": 22,
     "metadata": {},
     "output_type": "execute_result"
    }
   ],
   "source": [
    "len(background)"
   ]
  },
  {
   "cell_type": "code",
   "execution_count": null,
   "metadata": {},
   "outputs": [],
   "source": []
  },
  {
   "cell_type": "code",
   "execution_count": null,
   "metadata": {},
   "outputs": [],
   "source": []
  },
  {
   "cell_type": "code",
   "execution_count": null,
   "metadata": {},
   "outputs": [],
   "source": []
  }
 ],
 "metadata": {
  "kernelspec": {
   "display_name": "Python 3",
   "language": "python",
   "name": "python3"
  },
  "language_info": {
   "codemirror_mode": {
    "name": "ipython",
    "version": 3
   },
   "file_extension": ".py",
   "mimetype": "text/x-python",
   "name": "python",
   "nbconvert_exporter": "python",
   "pygments_lexer": "ipython3",
   "version": "3.7.6"
  },
  "toc": {
   "base_numbering": 1,
   "nav_menu": {},
   "number_sections": true,
   "sideBar": true,
   "skip_h1_title": false,
   "title_cell": "Table of Contents",
   "title_sidebar": "Contents",
   "toc_cell": false,
   "toc_position": {},
   "toc_section_display": true,
   "toc_window_display": false
  },
  "varInspector": {
   "cols": {
    "lenName": 16,
    "lenType": 16,
    "lenVar": 40
   },
   "kernels_config": {
    "python": {
     "delete_cmd_postfix": "",
     "delete_cmd_prefix": "del ",
     "library": "var_list.py",
     "varRefreshCmd": "print(var_dic_list())"
    },
    "r": {
     "delete_cmd_postfix": ") ",
     "delete_cmd_prefix": "rm(",
     "library": "var_list.r",
     "varRefreshCmd": "cat(var_dic_list()) "
    }
   },
   "types_to_exclude": [
    "module",
    "function",
    "builtin_function_or_method",
    "instance",
    "_Feature"
   ],
   "window_display": false
  }
 },
 "nbformat": 4,
 "nbformat_minor": 2
}
