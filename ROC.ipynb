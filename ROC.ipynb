{
 "cells": [
  {
   "cell_type": "code",
   "execution_count": 1,
   "metadata": {
    "ExecuteTime": {
     "end_time": "2020-01-27T10:17:08.744141Z",
     "start_time": "2020-01-27T10:17:07.742537Z"
    }
   },
   "outputs": [],
   "source": [
    "import pandas as pd\n",
    "import numpy as np\n",
    "import matplotlib.pyplot as plt"
   ]
  },
  {
   "cell_type": "code",
   "execution_count": 2,
   "metadata": {},
   "outputs": [],
   "source": [
    "config = {\n",
    "    \"base_dir\":        \"/eos/home-b/bpinolin/ML_output/\",\n",
    "    \"plot_config\":     \"VBSOS\",\n",
    "    \"cut\":             \"sr\",\n",
    "    \"model_version\":   \"new_DNN/highZ/reweight/v0\", #Aggiornare modello\n",
    "    \"batch_size\": 512,   #Inserire il batch_size corretto\n",
    "    \"test_size\": 0.2,\n",
    "}"
   ]
  },
  {
   "cell_type": "code",
   "execution_count": 3,
   "metadata": {},
   "outputs": [],
   "source": [
    "sample = \"mjj_v7/top_WW/highZ/\""
   ]
  },
  {
   "cell_type": "code",
   "execution_count": 4,
   "metadata": {},
   "outputs": [],
   "source": [
    "import os\n",
    "\n",
    "config_base_dir = os.path.join(config[\"base_dir\"], config[\"plot_config\"])\n",
    "\n",
    "# create the model directory\n",
    "model_dir   = os.path.join(config_base_dir, config[\"cut\"] , \"models\",  config[\"model_version\"])"
   ]
  },
  {
   "cell_type": "code",
   "execution_count": 5,
   "metadata": {
    "ExecuteTime": {
     "end_time": "2020-01-27T10:38:23.026303Z",
     "start_time": "2020-01-27T10:38:22.620559Z"
    }
   },
   "outputs": [],
   "source": [
    "import yaml\n",
    "model_config_file = open(model_dir + \"/model_config.yml\", \"r\")\n",
    "model_config = yaml.safe_load(model_config_file)\n",
    "\n",
    "for key in [\"samples_version\", \"cols\"]:\n",
    "    config[key] = model_config[key]"
   ]
  },
  {
   "cell_type": "code",
   "execution_count": 6,
   "metadata": {},
   "outputs": [],
   "source": [
    "samples_dir = os.path.join(config_base_dir, config[\"cut\"] , \"samples/\", sample)\n",
    "import pickle\n",
    "signal = pickle.load(open(os.path.join(samples_dir, \"for_training/signal_balanced.pkl\"),     \"rb\"))\n",
    "bkg    = pickle.load(open(os.path.join(samples_dir, \"for_training/background_balanced.pkl\"), \"rb\"))"
   ]
  },
  {
   "cell_type": "markdown",
   "metadata": {},
   "source": [
    "#### Per ottenere le ROC del modello applicato ai vari anni anni è sufficiente \n",
    "1. Commentare la casella sopra questa\n",
    "2. Scommenta la casella sotto questa\n",
    "3. Modificare la variabile \"ye\" di volta in volta (ricorda che è una stringa, non un int!)\n",
    "\n",
    "Ricorda, per commentare e scommentare, seleziona e premi ``ctrl+ù``"
   ]
  },
  {
   "cell_type": "code",
   "execution_count": 7,
   "metadata": {},
   "outputs": [],
   "source": [
    "# ye = \"2018\"\n",
    "# samples_dir = os.path.join(config_base_dir, config[\"cut\"] , \"samples/\", sample)\n",
    "# import pickle\n",
    "# signal = pickle.load(open(os.path.join(samples_dir, \"for_training_\"+ye+\"/signal_balanced.pkl\"),     \"rb\"))\n",
    "# bkg    = pickle.load(open(os.path.join(samples_dir, \"for_training_\"+ye+\"/background_balanced.pkl\"), \"rb\"))"
   ]
  },
  {
   "cell_type": "code",
   "execution_count": 8,
   "metadata": {},
   "outputs": [],
   "source": [
    "bkg = bkg.dropna()\n",
    "signal = signal.dropna()\n",
    "\n",
    "# signal[\"log(mjj)\"] = np.log(signal['mjj'])\n",
    "# bkg[\"log(mjj)\"] = np.log(bkg['mjj'])"
   ]
  },
  {
   "cell_type": "code",
   "execution_count": 9,
   "metadata": {},
   "outputs": [],
   "source": [
    "from sklearn.preprocessing import StandardScaler\n",
    "from sklearn.model_selection import train_test_split"
   ]
  },
  {
   "cell_type": "code",
   "execution_count": 10,
   "metadata": {},
   "outputs": [],
   "source": [
    "X_sig = signal[config[\"cols\"]].values\n",
    "X_bkg = bkg[config[\"cols\"]].values\n",
    "Y_sig = np.ones(len(X_sig))\n",
    "Y_bkg = np.zeros(len(X_bkg))\n",
    "Wnn_sig = (signal[\"weight_\"]).values\n",
    "Wnn_bkg = (bkg[\"weight_\"]).values\n",
    "\n",
    "X = np.vstack([X_sig, X_bkg])\n",
    "Y = np.hstack([Y_sig, Y_bkg])\n",
    "Wnn = np.hstack([Wnn_sig, Wnn_bkg])\n",
    "\n",
    "scaler = pickle.load(open(f\"{model_dir}/scaler_model.pkl\", \"rb\"))\n",
    "X_scaled = scaler.fit_transform(X)"
   ]
  },
  {
   "cell_type": "code",
   "execution_count": 11,
   "metadata": {
    "scrolled": true
   },
   "outputs": [
    {
     "name": "stderr",
     "output_type": "stream",
     "text": [
      "WARNING: Logging before flag parsing goes to stderr.\n",
      "W0202 15:41:27.212121 139690019350336 deprecation.py:323] From /cvmfs/sft.cern.ch/lcg/views/LCG_97apython3/x86_64-centos7-gcc8-opt/lib/python3.7/site-packages/tensorflow/python/ops/nn_impl.py:180: add_dispatch_support.<locals>.wrapper (from tensorflow.python.ops.array_ops) is deprecated and will be removed in a future version.\n",
      "Instructions for updating:\n",
      "Use tf.where in 2.0, which has the same broadcast rule as np.where\n"
     ]
    },
    {
     "name": "stdout",
     "output_type": "stream",
     "text": [
      "Model: \"sequential_2\"\n",
      "_________________________________________________________________\n",
      "Layer (type)                 Output Shape              Param #   \n",
      "=================================================================\n",
      "dense_4 (Dense)              (None, 64)                192       \n",
      "_________________________________________________________________\n",
      "batch_normalization_3 (Batch (None, 64)                256       \n",
      "_________________________________________________________________\n",
      "activation_3 (Activation)    (None, 64)                0         \n",
      "_________________________________________________________________\n",
      "dense_5 (Dense)              (None, 64)                4160      \n",
      "_________________________________________________________________\n",
      "batch_normalization_4 (Batch (None, 64)                256       \n",
      "_________________________________________________________________\n",
      "activation_4 (Activation)    (None, 64)                0         \n",
      "_________________________________________________________________\n",
      "dense_6 (Dense)              (None, 1)                 65        \n",
      "=================================================================\n",
      "Total params: 4,929\n",
      "Trainable params: 4,673\n",
      "Non-trainable params: 256\n",
      "_________________________________________________________________\n"
     ]
    }
   ],
   "source": [
    "import tensorflow as tf\n",
    "\n",
    "model = tf.keras.models.load_model(os.path.join(model_dir, \"model.h5\"))\n",
    "\n",
    "model.summary()"
   ]
  },
  {
   "cell_type": "code",
   "execution_count": 12,
   "metadata": {},
   "outputs": [],
   "source": [
    "y_pred = model.predict(X_scaled, batch_size=config[\"batch_size\"])\n",
    "y_pred = np.array(y_pred).flatten()"
   ]
  },
  {
   "cell_type": "code",
   "execution_count": 13,
   "metadata": {},
   "outputs": [
    {
     "data": {
      "image/png": "[encoded data removed]",
      "text/plain": [
       "<Figure size 600x500 with 1 Axes>"
      ]
     },
     "metadata": {
      "needs_background": "light"
     },
     "output_type": "display_data"
    }
   ],
   "source": [
    "fig = plt.figure(figsize=(6,5), dpi=100)\n",
    "weights_sig = np.ones_like(y_pred[Y==1])/float(len(y_pred[Y==1]))\n",
    "weights_bkg = np.ones_like(y_pred[Y==0])/float(len(y_pred[Y==0]))\n",
    "_ = plt.hist(y_pred[Y==1], weights=weights_sig, bins=50, lw = 1, histtype=\"step\", label=\"Signal\", color='red')#, density=True)\n",
    "_ = plt.hist(y_pred[Y==0], weights=weights_bkg,bins=50, lw = 1, histtype=\"step\", label=\"top\", color='blue')#, density=True)\n",
    "plt.legend(loc=\"upper right\", fontsize=10)\n",
    "plt.xlabel(\"DNN score\", fontsize=10)\n",
    "plt.xticks(fontsize=10)\n",
    "plt.yticks(fontsize=10)\n",
    "plt.savefig(os.path.join(model_dir, \"plots/DNN_score.pdf\"))\n",
    "plt.savefig(os.path.join(model_dir, \"plots/DNN_score.png\"))\n",
    "\n",
    "\n",
    "\n",
    "plt.xlim(left=0)\n",
    "plt.yscale('log')\n",
    "plt.show()"
   ]
  },
  {
   "cell_type": "code",
   "execution_count": 14,
   "metadata": {},
   "outputs": [
    {
     "data": {
      "image/png": "[encoded data removed]",
      "text/plain": [
       "<Figure size 600x500 with 1 Axes>"
      ]
     },
     "metadata": {
      "needs_background": "light"
     },
     "output_type": "display_data"
    }
   ],
   "source": [
    "fig = plt.figure(figsize=(6,5), dpi=100)\n",
    "\n",
    "weights_sig = np.ones_like(y_pred[Y==1])/float(len(y_pred[Y==1]))\n",
    "weights_bkg = np.ones_like(y_pred[Y==0])/float(len(y_pred[Y==0]))\n",
    "\n",
    "_ = plt.hist(y_pred[Y==1], weights=weights_sig, bins=50, lw = 1, histtype=\"step\", label=\"Signal\", color='red')#, density=True)\n",
    "_ = plt.hist(y_pred[Y==0], weights=weights_bkg,bins=50, lw = 1, histtype=\"step\", label=\"top\", color='blue')#, density=True)\n",
    "plt.legend(loc=\"upper right\", fontsize=10)\n",
    "plt.xlabel(\"DNN score\", fontsize=10)\n",
    "plt.xticks(fontsize=10)\n",
    "plt.yticks(fontsize=10)\n",
    "plt.savefig(os.path.join(model_dir, \"plots/DNN_score.pdf\"))\n",
    "plt.savefig(os.path.join(model_dir, \"plots/DNN_score.png\"))\n",
    "plt.xlim(left=0)\n",
    "plt.show()"
   ]
  },
  {
   "cell_type": "code",
   "execution_count": 15,
   "metadata": {},
   "outputs": [
    {
     "data": {
      "image/png": "[encoded data removed]",
      "text/plain": [
       "<Figure size 600x500 with 1 Axes>"
      ]
     },
     "metadata": {
      "needs_background": "light"
     },
     "output_type": "display_data"
    }
   ],
   "source": [
    "fig = plt.figure(figsize=(6,5), dpi=100)\n",
    "n_sig, b, _ = plt.hist(y_pred[Y==1], bins=20, histtype=\"step\", weights=Wnn[Y==1], label=\"Signal\", color='red')\n",
    "n_bkg, b, _ = plt.hist(y_pred[Y==0], bins=20, histtype=\"step\", weights=Wnn[Y==0], label=\"top\", color='blue')\n",
    "plt.legend()\n",
    "plt.title(\"DNN score\")\n",
    "plt.yscale('log')\n",
    "plt.xlim(left=0)\n",
    "plt.show()"
   ]
  },
  {
   "cell_type": "code",
   "execution_count": 16,
   "metadata": {},
   "outputs": [],
   "source": [
    "effS = np.array([])\n",
    "effB = np.array([])\n",
    "\n",
    "for i in range(len(n_sig)):\n",
    "    i = i+1\n",
    "    S = sum(n_sig[-i:len(n_sig)])\n",
    "    effS = np.append(effS, S/sum(n_sig))\n",
    "    \n",
    "for j in range(len(n_bkg)):\n",
    "    j = j+1\n",
    "    B = sum(n_bkg[-j:len(n_bkg)])\n",
    "    effB = np.append(effB, B/sum(n_bkg))"
   ]
  },
  {
   "cell_type": "code",
   "execution_count": 17,
   "metadata": {},
   "outputs": [
    {
     "data": {
      "image/png": "[encoded data removed]",
      "text/plain": [
       "<Figure size 720x504 with 1 Axes>"
      ]
     },
     "metadata": {
      "needs_background": "light"
     },
     "output_type": "display_data"
    }
   ],
   "source": [
    "plt.figure(figsize=(10,7))\n",
    "plt.rc('xtick',labelsize=15)\n",
    "plt.rc('ytick',labelsize=15)\n",
    "plt.xlabel(\"Bkg contamination\", fontsize=15)\n",
    "plt.ylabel(\"Signal efficiency\", fontsize=15)\n",
    "\n",
    "plt.title(\"ROC curve of the DNN score\", fontsize=15)\n",
    "plt.plot(effB,effS,linewidth=3, color=\"red\")\n",
    "plt.show()"
   ]
  },
  {
   "cell_type": "code",
   "execution_count": 18,
   "metadata": {},
   "outputs": [],
   "source": [
    "B = effB.tolist()\n",
    "B.insert(0,0)"
   ]
  },
  {
   "cell_type": "code",
   "execution_count": 19,
   "metadata": {},
   "outputs": [],
   "source": [
    "S = effS.tolist()\n",
    "S.insert(0,0)"
   ]
  },
  {
   "cell_type": "code",
   "execution_count": 20,
   "metadata": {
    "scrolled": true
   },
   "outputs": [
    {
     "name": "stdout",
     "output_type": "stream",
     "text": [
      "[0, 0.00015321192784872965, 0.0017481165506217022, 0.004119916408858537, 0.007738338085768755, 0.012153901408347515, 0.015511190646311946, 0.01973374352706728, 0.028836523741212858, 0.04198185510179935, 0.06260887493658618, 0.11819368385877171, 0.1849843223114362, 0.2916407756677134, 0.4609119198338505, 0.6633011348912878, 0.7984967774660302, 0.8831808283730015, 0.9516994316463813, 0.9894268455907201, 1.0]\n",
      "[0, 0.011418236704696867, 0.025928328995805733, 0.04569029599918713, 0.06457050468788317, 0.0869509453199154, 0.11197695314113901, 0.13849676027699573, 0.17271484484634392, 0.21727919261948167, 0.27457329138594716, 0.38677855661146104, 0.4813470346983459, 0.6114459015748918, 0.73007706659283, 0.8371174230254649, 0.9001632275235767, 0.9469818210299328, 0.9749728887495102, 0.9952016651496812, 1.0]\n"
     ]
    }
   ],
   "source": [
    "print(B)\n",
    "print(S)"
   ]
  },
  {
   "cell_type": "markdown",
   "metadata": {},
   "source": [
    "## 2D plots: DNN vs mjj"
   ]
  },
  {
   "cell_type": "raw",
   "metadata": {},
   "source": [
    "plt.hist(bkg['mjj'], linewidth=2, bins=10, histtype=\"step\", density=True, label='bkg')\n",
    "plt.hist(signal['mjj'], linewidth=2, bins=10, histtype=\"step\", density=True, label='sig')\n",
    "plt.title('mjj')\n",
    "plt.show()"
   ]
  },
  {
   "cell_type": "raw",
   "metadata": {},
   "source": [
    "plt.hist(y_pred[Y==0], linewidth=2, bins=100, histtype=\"step\", density=True, label=\"bkg\")\n",
    "plt.hist(y_pred[Y==1], linewidth=2, bins=100, histtype=\"step\", density=True, label=\"sig\")\n",
    "plt.show()"
   ]
  },
  {
   "cell_type": "raw",
   "metadata": {},
   "source": [
    "import matplotlib.colors as colors\n",
    "plt.hist2d(y_pred[Y==1], signal['mjj'], norm=colors.LogNorm(), cmap='PuBu_r', bins=(100, 10))\n",
    "plt.xlabel(\"DNN score\",fontsize=20)\n",
    "plt.ylabel(\"mjj\",fontsize=20)\n",
    "plt.colorbar(extend='max')\n",
    "plt.title(\"signal\",fontsize=20)\n",
    "plt.show()"
   ]
  },
  {
   "cell_type": "raw",
   "metadata": {},
   "source": [
    "import matplotlib.colors as colors\n",
    "plt.hist2d(y_pred[Y==0]/bkg['mjj'], bkg['mjj'], norm=colors.LogNorm(), cmap='PuBu_r', bins=(50,50))\n",
    "plt.xlabel(\"DNN score/mjj\",fontsize=20)\n",
    "plt.ylabel(\"mjj\",fontsize=20)\n",
    "plt.colorbar(extend='max')\n",
    "plt.title(\"bkg\",fontsize=20)\n",
    "plt.show()"
   ]
  },
  {
   "cell_type": "raw",
   "metadata": {},
   "source": [
    "import matplotlib.colors as colors\n",
    "plt.hist2d(y_pred[Y==1]/signal['mjj'], signal['mjj'], norm=colors.LogNorm(), cmap='PuBu_r', bins=(50,50))\n",
    "plt.xlabel(\"DNN score/mjj\",fontsize=20)\n",
    "plt.ylabel(\"mjj\",fontsize=20)\n",
    "plt.colorbar(extend='max')\n",
    "plt.title(\"signal\",fontsize=20)\n",
    "plt.show()"
   ]
  },
  {
   "cell_type": "markdown",
   "metadata": {},
   "source": [
    "## 2D plots: DNN vs btag_central"
   ]
  },
  {
   "cell_type": "raw",
   "metadata": {},
   "source": [
    "bkg = bkg[bkg[\"btag_forward\"]>=0]"
   ]
  },
  {
   "cell_type": "raw",
   "metadata": {},
   "source": [
    "bkg_cut = bkg[bkg[\"btag_central\"]>=0]\n",
    "bkg_cut = bkg_cut[bkg_cut['btag_central']<0.4]\n",
    "    \n",
    "fig = plt.figure(figsize=(15,12))\n",
    "plt.rc('xtick',labelsize=20)\n",
    "plt.rc('ytick',labelsize=20)\n",
    "\n",
    "x1 = bkg_cut['btag_central'].to_numpy()\n",
    "x2 = bkg_cut['DNN_score'].to_numpy()\n",
    "\n",
    "w_x1 = np.full(len(x1),1/len(x1))\n",
    "w_x2 = np.full(len(x2),1/len(x2))\n",
    "\n",
    "a, b, _ = plt.hist(x1, linewidth=2, bins=40, weights=w_x1, histtype=\"step\", label=\"btag_central\")\n",
    "c, d, _ = plt.hist(x2, linewidth=2, bins=100, weights=w_x2, histtype=\"step\", label=\"DNN score\")\n",
    "\n",
    "plt.legend(fontsize=20)\n",
    "plt.title(\"Top\\n btag_central in (0,0.4)\", fontsize=20)\n",
    "\n",
    "plt.show()\n",
    "\n",
    "\n",
    "import matplotlib.colors as colors\n",
    "fig = plt.figure(figsize=(15,12))\n",
    "plt.rc('xtick',labelsize=15)\n",
    "plt.rc('ytick',labelsize=15)\n",
    "\n",
    "plt.hist2d(x2, x1, norm=colors.LogNorm(), cmap='PuBu_r', bins=(100, 40))\n",
    "plt.xlabel(\"DNN score\",fontsize=20)\n",
    "plt.ylabel(\"btag central\",fontsize=20)\n",
    "plt.title(\"Top\\n btag_central in (0,0.4)\", fontsize=20)\n",
    "plt.colorbar(extend='max')\n",
    "plt.show()"
   ]
  },
  {
   "cell_type": "raw",
   "metadata": {},
   "source": [
    "lista = [0.0, 0.1, 0.2, 0.3, 0.4]\n",
    "colors = ['blue', 'red', 'green', 'brown']\n",
    "\n",
    "fig = plt.figure(figsize=(15,12))    \n",
    "for i in range(len(lista)-1):\n",
    "    bkg_cut = bkg[bkg[\"btag_central\"]>=lista[i]]\n",
    "    bkg_cut = bkg_cut[bkg_cut['btag_central']<(lista[i+1])]\n",
    "    \n",
    "    x1 = bkg_cut['btag_central'].to_numpy()\n",
    "    x2 = bkg_cut['DNN_score'].to_numpy()\n",
    "    \n",
    "    #_ = plt.hist(x1, linestyle=None, weights=np.full(len(x1),1/len(x1)), bins=10, color=colors[i], histtype=\"stepfilled\", alpha=0.5, label='btag in ('+str(lista[i])+', '+str(lista[i+1])+')')\n",
    "    _ = plt.hist(x2, linewidth=3, weights=np.full(len(x2),1/len(x2)), bins=100, color=colors[i], histtype=\"step\", label='DNN score with btag in ('+str(lista[i])+', '+str(lista[i+1])+')')\n",
    "    \n",
    "plt.rc('xtick',labelsize=20)\n",
    "plt.rc('ytick',labelsize=20)\n",
    "plt.legend(fontsize=20)\n",
    "plt.title(\"Top sample\\n btag central in (0,0.4) in steps of 0.1\", fontsize=20)        \n",
    "plt.show()"
   ]
  },
  {
   "cell_type": "markdown",
   "metadata": {},
   "source": [
    "# "
   ]
  }
 ],
 "metadata": {
  "kernelspec": {
   "display_name": "Python 3",
   "language": "python",
   "name": "python3"
  },
  "language_info": {
   "codemirror_mode": {
    "name": "ipython",
    "version": 3
   },
   "file_extension": ".py",
   "mimetype": "text/x-python",
   "name": "python",
   "nbconvert_exporter": "python",
   "pygments_lexer": "ipython3",
   "version": "3.7.6"
  },
  "toc": {
   "base_numbering": 1,
   "nav_menu": {},
   "number_sections": true,
   "sideBar": true,
   "skip_h1_title": false,
   "title_cell": "Table of Contents",
   "title_sidebar": "Contents",
   "toc_cell": false,
   "toc_position": {},
   "toc_section_display": true,
   "toc_window_display": false
  },
  "varInspector": {
   "cols": {
    "lenName": 16,
    "lenType": 16,
    "lenVar": 40
   },
   "kernels_config": {
    "python": {
     "delete_cmd_postfix": "",
     "delete_cmd_prefix": "del ",
     "library": "var_list.py",
     "varRefreshCmd": "print(var_dic_list())"
    },
    "r": {
     "delete_cmd_postfix": ") ",
     "delete_cmd_prefix": "rm(",
     "library": "var_list.r",
     "varRefreshCmd": "cat(var_dic_list()) "
    }
   },
   "types_to_exclude": [
    "module",
    "function",
    "builtin_function_or_method",
    "instance",
    "_Feature"
   ],
   "window_display": false
  }
 },
 "nbformat": 4,
 "nbformat_minor": 2
}
