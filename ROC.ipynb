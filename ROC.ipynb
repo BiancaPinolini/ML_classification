{
 "cells": [
  {
   "cell_type": "code",
   "execution_count": 1,
   "metadata": {
    "ExecuteTime": {
     "end_time": "2020-01-27T10:17:08.744141Z",
     "start_time": "2020-01-27T10:17:07.742537Z"
    }
   },
   "outputs": [],
   "source": [
    "import pandas as pd\n",
    "import numpy as np\n",
    "import matplotlib.pyplot as plt"
   ]
  },
  {
   "cell_type": "code",
   "execution_count": 2,
   "metadata": {},
   "outputs": [],
   "source": [
    "config = {\n",
    "    \"base_dir\":        \"/eos/home-b/bpinolin/ML_output/\",\n",
    "    \"plot_config\":     \"VBSOS\",\n",
    "    \"cut\":             \"sr\",\n",
    "    \"model_version\":   \"highZ/v4/v0\",\n",
    "    \"batch_size\": 512,\n",
    "    \"test_size\": 0.2,\n",
    "}"
   ]
  },
  {
   "cell_type": "code",
   "execution_count": 3,
   "metadata": {},
   "outputs": [],
   "source": [
    "sample = \"highZ_test\""
   ]
  },
  {
   "cell_type": "code",
   "execution_count": 4,
   "metadata": {},
   "outputs": [],
   "source": [
    "import os\n",
    "\n",
    "config_base_dir = os.path.join(config[\"base_dir\"], config[\"plot_config\"])\n",
    "\n",
    "# create the model directory\n",
    "model_dir   = os.path.join(config_base_dir, config[\"cut\"] , \"models\",  config[\"model_version\"])"
   ]
  },
  {
   "cell_type": "code",
   "execution_count": 5,
   "metadata": {
    "ExecuteTime": {
     "end_time": "2020-01-27T10:38:23.026303Z",
     "start_time": "2020-01-27T10:38:22.620559Z"
    }
   },
   "outputs": [],
   "source": [
    "import yaml\n",
    "model_config_file = open(model_dir + \"/model_config.yml\", \"r\")\n",
    "model_config = yaml.safe_load(model_config_file)\n",
    "\n",
    "for key in [\"samples_version\", \"cols\"]:\n",
    "    config[key] = model_config[key]"
   ]
  },
  {
   "cell_type": "code",
   "execution_count": 6,
   "metadata": {},
   "outputs": [],
   "source": [
    "# load numpy\n",
    "#samples_dir = os.path.join(config_base_dir, config[\"cut\"] , \"samples\", config[\"samples_version\"])\n",
    "samples_dir = os.path.join(config_base_dir, config[\"cut\"] , \"samples/\", sample)\n",
    "import pickle\n",
    "signal = pickle.load(open(os.path.join(samples_dir, \"for_training/signal_balanced.pkl\"),     \"rb\"))\n",
    "bkg    = pickle.load(open(os.path.join(samples_dir, \"for_training/background_balanced.pkl\"), \"rb\"))"
   ]
  },
  {
   "cell_type": "code",
   "execution_count": 7,
   "metadata": {},
   "outputs": [
    {
     "data": {
      "text/plain": [
       "'/eos/home-b/bpinolin/ML_output/VBSOS/sr/samples/highZ_test'"
      ]
     },
     "execution_count": 7,
     "metadata": {},
     "output_type": "execute_result"
    }
   ],
   "source": [
    "samples_dir"
   ]
  },
  {
   "cell_type": "code",
   "execution_count": 8,
   "metadata": {},
   "outputs": [],
   "source": [
    "bkg = bkg.dropna()\n",
    "signal = signal.dropna()"
   ]
  },
  {
   "cell_type": "raw",
   "metadata": {},
   "source": [
    "# removing 0-weight events\n",
    "signal = signal[signal['puWeight'] >= 0.01]\n",
    "bkg = bkg[bkg['puWeight'] >= 0.09]"
   ]
  },
  {
   "cell_type": "code",
   "execution_count": 9,
   "metadata": {},
   "outputs": [],
   "source": [
    "signal[\"log(mjj)\"] = np.log(signal['mjj'])\n",
    "bkg[\"log(mjj)\"] = np.log(bkg['mjj'])\n",
    "\n",
    "signal[\"log(jetpt1)\"] = np.log(signal['jetpt1'])\n",
    "bkg[\"log(jetpt1)\"] = np.log(bkg['jetpt1'])\n",
    "\n",
    "signal[\"log(jetpt2)\"] = np.log(signal['jetpt2'])\n",
    "bkg[\"log(jetpt2)\"] = np.log(bkg['jetpt2'])"
   ]
  },
  {
   "cell_type": "code",
   "execution_count": 10,
   "metadata": {},
   "outputs": [],
   "source": [
    "from sklearn.preprocessing import StandardScaler\n",
    "from sklearn.model_selection import train_test_split"
   ]
  },
  {
   "cell_type": "code",
   "execution_count": 11,
   "metadata": {},
   "outputs": [],
   "source": [
    "X_sig = signal[config[\"cols\"]].values\n",
    "X_bkg = bkg[config[\"cols\"]].values\n",
    "Y_sig = np.ones(len(X_sig))\n",
    "Y_bkg = np.zeros(len(X_bkg))\n",
    "W_sig = (signal[\"weight_norm\"]).values\n",
    "W_bkg = (bkg[\"weight_norm\"]).values\n",
    "Wnn_sig = (signal[\"weight_\"]).values\n",
    "Wnn_bkg = (bkg[\"weight_\"]).values\n",
    "\n",
    "X = np.vstack([X_sig, X_bkg])\n",
    "Y = np.hstack([Y_sig, Y_bkg])\n",
    "W = np.hstack([W_sig, W_bkg])\n",
    "Wnn = np.hstack([Wnn_sig, Wnn_bkg])\n",
    "\n",
    "scaler = pickle.load(open(f\"{model_dir}/scaler_model.pkl\", \"rb\"))\n",
    "X_scaled = scaler.fit_transform(X)"
   ]
  },
  {
   "cell_type": "code",
   "execution_count": 12,
   "metadata": {
    "scrolled": true
   },
   "outputs": [
    {
     "name": "stderr",
     "output_type": "stream",
     "text": [
      "WARNING: Logging before flag parsing goes to stderr.\n",
      "W1220 20:10:10.369606 140607137838912 deprecation.py:323] From /cvmfs/sft.cern.ch/lcg/views/LCG_97apython3/x86_64-centos7-gcc8-opt/lib/python3.7/site-packages/tensorflow/python/ops/nn_impl.py:180: add_dispatch_support.<locals>.wrapper (from tensorflow.python.ops.array_ops) is deprecated and will be removed in a future version.\n",
      "Instructions for updating:\n",
      "Use tf.where in 2.0, which has the same broadcast rule as np.where\n"
     ]
    },
    {
     "name": "stdout",
     "output_type": "stream",
     "text": [
      "Model: \"sequential_1\"\n",
      "_________________________________________________________________\n",
      "Layer (type)                 Output Shape              Param #   \n",
      "=================================================================\n",
      "dense_1 (Dense)              (None, 50)                1050      \n",
      "_________________________________________________________________\n",
      "batch_normalization_1 (Batch (None, 50)                200       \n",
      "_________________________________________________________________\n",
      "dense_2 (Dense)              (None, 50)                2550      \n",
      "_________________________________________________________________\n",
      "batch_normalization_2 (Batch (None, 50)                200       \n",
      "_________________________________________________________________\n",
      "dense_3 (Dense)              (None, 1)                 51        \n",
      "=================================================================\n",
      "Total params: 4,051\n",
      "Trainable params: 3,851\n",
      "Non-trainable params: 200\n",
      "_________________________________________________________________\n"
     ]
    }
   ],
   "source": [
    "import tensorflow as tf\n",
    "\n",
    "model = tf.keras.models.load_model(os.path.join(model_dir, \"model.h5\"))\n",
    "\n",
    "model.summary()"
   ]
  },
  {
   "cell_type": "code",
   "execution_count": 13,
   "metadata": {},
   "outputs": [],
   "source": [
    "y_pred = model.predict(X_scaled, batch_size=config[\"batch_size\"])\n",
    "y_pred = np.array(y_pred).flatten()"
   ]
  },
  {
   "cell_type": "code",
   "execution_count": 14,
   "metadata": {},
   "outputs": [
    {
     "data": {
      "image/png": "[encoded data removed]",
      "text/plain": [
       "<Figure size 600x500 with 1 Axes>"
      ]
     },
     "metadata": {
      "needs_background": "light"
     },
     "output_type": "display_data"
    }
   ],
   "source": [
    "fig = plt.figure(figsize=(6,5), dpi=100)\n",
    "_ = plt.hist(y_pred[Y==1], bins=20, lw = 1, histtype=\"step\", label=\"Signal\", color='red', density=True)\n",
    "_ = plt.hist(y_pred[Y==0], bins=20, lw = 1, histtype=\"step\", label=\"top\", color='blue', density=True)\n",
    "plt.legend(loc=\"upper right\", fontsize=10)\n",
    "plt.xlabel(\"DNN score\", fontsize=10)\n",
    "plt.title(config[\"model_version\"])\n",
    "plt.xticks(fontsize=10)\n",
    "plt.yticks(fontsize=10)\n",
    "plt.savefig(os.path.join(model_dir, \"plots/DNN_score.pdf\"))\n",
    "plt.savefig(os.path.join(model_dir, \"plots/DNN_score.png\"))\n",
    "plt.show()"
   ]
  },
  {
   "cell_type": "code",
   "execution_count": 15,
   "metadata": {},
   "outputs": [
    {
     "data": {
      "image/png": "[encoded data removed]",
      "text/plain": [
       "<Figure size 600x500 with 1 Axes>"
      ]
     },
     "metadata": {
      "needs_background": "light"
     },
     "output_type": "display_data"
    }
   ],
   "source": [
    "fig = plt.figure(figsize=(6,5), dpi=100)\n",
    "n_sig, b, _ = plt.hist(y_pred[Y==1], bins=500, histtype=\"step\", weights=Wnn[Y==1], label=\"Signal\", color='red')\n",
    "n_bkg, b, _ = plt.hist(y_pred[Y==0], bins=500, histtype=\"step\", weights=Wnn[Y==0], label=\"top\", color='blue')\n",
    "plt.legend()\n",
    "plt.title(\"DNN score\")\n",
    "plt.show()"
   ]
  },
  {
   "cell_type": "code",
   "execution_count": 16,
   "metadata": {},
   "outputs": [],
   "source": [
    "effS = np.array([])\n",
    "effB = np.array([])\n",
    "\n",
    "for i in range(len(n_sig)):\n",
    "    i = i+1\n",
    "    S = sum(n_sig[-i:len(n_sig)])\n",
    "    effS = np.append(effS, S/sum(n_sig))\n",
    "    \n",
    "for j in range(len(n_bkg)):\n",
    "    j = j+1\n",
    "    B = sum(n_bkg[-j:len(n_bkg)])\n",
    "    effB = np.append(effB, B/sum(n_bkg))"
   ]
  },
  {
   "cell_type": "code",
   "execution_count": 17,
   "metadata": {},
   "outputs": [
    {
     "data": {
      "image/png": "[encoded data removed]",
      "text/plain": [
       "<Figure size 720x504 with 1 Axes>"
      ]
     },
     "metadata": {
      "needs_background": "light"
     },
     "output_type": "display_data"
    }
   ],
   "source": [
    "plt.figure(figsize=(10,7))\n",
    "plt.rc('xtick',labelsize=15)\n",
    "plt.rc('ytick',labelsize=15)\n",
    "plt.xlabel(\"Bkg contamination\", fontsize=15)\n",
    "plt.ylabel(\"Signal efficiency\", fontsize=15)\n",
    "\n",
    "plt.title(\"ROC curve of the DNN score\", fontsize=15)\n",
    "plt.plot(effB,effS,linewidth=3, color=\"red\")\n",
    "plt.show()"
   ]
  },
  {
   "cell_type": "code",
   "execution_count": 18,
   "metadata": {},
   "outputs": [],
   "source": [
    "B = effB.tolist()\n",
    "B.insert(0,0)"
   ]
  },
  {
   "cell_type": "code",
   "execution_count": 19,
   "metadata": {},
   "outputs": [],
   "source": [
    "S = effS.tolist()\n",
    "S.insert(0,0)"
   ]
  },
  {
   "cell_type": "code",
   "execution_count": 20,
   "metadata": {
    "scrolled": true
   },
   "outputs": [
    {
     "name": "stdout",
     "output_type": "stream",
     "text": [
      "[0, 1.701420945467721e-05, 1.8824239453022272e-05, 1.8824239453022272e-05, 2.6988249024494093e-05, 3.1929261731730444e-05, 3.9365885548358316e-05, 0.00012057157997326991, 0.00013924607214360596, 0.00016237113893026776, 0.0002134978706197699, 0.0002666402839214892, 0.0003141670664572582, 0.00034490007876430555, 0.00044929714318287417, 0.0005189218155404906, 0.0006777931261844666, 0.000777515817024742, 0.0008646986581322013, 0.000992396778935259, 0.0011272582903998722, 0.0012167977691521982, 0.0013333020650655473, 0.0015142239020726354, 0.0016329786872396218, 0.0018740808781666741, 0.0020630722414653494, 0.0022991788257744217, 0.0025544144425918053, 0.0027657882753217575, 0.003033052873164941, 0.0032906942971388286, 0.0035819533344776918, 0.003792453256391374, 0.003970921382183367, 0.0041149848554331075, 0.004277984389207615, 0.004507566542875708, 0.004639728401224474, 0.004731557476008338, 0.004916036757053119, 0.0051355491026516915, 0.005379631528429438, 0.005497493536096434, 0.005640846750951459, 0.0058553216467506514, 0.006040587774261506, 0.006280221529122679, 0.006479308962598433, 0.00666640096548926, 0.006735260507861132, 0.00698048857598735, 0.007092525019442232, 0.00724128572112876, 0.007391069652525784, 0.007587573951912287, 0.007690159692319927, 0.007733544555404878, 0.008000724217736312, 0.008126960849857055, 0.00821998532101958, 0.008394177244901426, 0.008500393404475627, 0.008660717677160477, 0.008843609959549383, 0.009050275064243685, 0.009160029683361553, 0.009317559711822791, 0.009450852374460859, 0.009623189540845225, 0.009802020401044506, 0.009992597008052361, 0.010118904883552786, 0.010264473695126692, 0.010438082049694226, 0.010658391466057494, 0.010865898358369501, 0.01096778379912121, 0.011129264847637611, 0.01143623703761542, 0.011718743629948953, 0.011994432066025545, 0.012117096718874568, 0.012333485461867534, 0.01244271182888623, 0.012647391229145667, 0.012804389069940936, 0.013025143175135666, 0.013289763634820893, 0.013502532865398466, 0.013681747788697985, 0.013889288303817119, 0.014048768192214374, 0.014260596110042725, 0.014427571054916983, 0.014641930317129938, 0.01477620576109922, 0.014940900662126352, 0.015157648152765197, 0.015395520848784545, 0.015802088973769068, 0.01596978345764373, 0.01618437320616918, 0.016426759610504472, 0.0166119300895828, 0.016913950242665888, 0.017101819751178127, 0.017336480916030492, 0.017533864254064602, 0.01764211248606193, 0.01786032257334212, 0.018057006833892796, 0.018250399262299613, 0.018507588813782457, 0.018648535682568208, 0.018761137229629497, 0.018934775968405093, 0.01920581773916626, 0.01946424005733364, 0.019714137826782878, 0.019850161962786897, 0.02001901733121433, 0.020197650043064102, 0.020412827966597852, 0.020620907663167015, 0.020815903995241934, 0.02097392794688704, 0.021191618226096085, 0.021405533338834614, 0.021696084071314937, 0.02207804679981781, 0.02222516689524033, 0.022430870916814637, 0.0226212949766917, 0.022824078939564382, 0.023005111305725395, 0.02326865538267518, 0.02351993338165974, 0.02365119642957446, 0.023897767148766673, 0.024192994642033876, 0.024370026549599733, 0.0245064103719275, 0.02459126094256927, 0.02474872106108146, 0.02497162956367101, 0.025403722288215844, 0.025671073152385253, 0.025944441897320324, 0.0262857278001201, 0.026451128655879935, 0.026647539396649447, 0.026788561302526957, 0.02695578602256805, 0.02709348216889184, 0.02733262670771665, 0.027471428170191808, 0.027720869476257966, 0.02794517782982559, 0.02815389052509736, 0.028270198418676867, 0.028533345124190083, 0.02872946173651007, 0.02894807922013152, 0.029083730769849273, 0.029374139847476, 0.02958035764118662, 0.029735363162283687, 0.029971343942670287, 0.030094129494799577, 0.030261728953782187, 0.030361454648009014, 0.030458238750197954, 0.030621670551413554, 0.03078914502444555, 0.030981729017209265, 0.03111012367410155, 0.031267350411156296, 0.031415595157065594, 0.031553412753408845, 0.03167195016894363, 0.03196048798998725, 0.03210090597481761, 0.032221974675588516, 0.03237860095442902, 0.03245401488453408, 0.03250891942476385, 0.03262264023531958, 0.032818184090629136, 0.03317079351494032, 0.03330959473952251, 0.033415246452603055, 0.03355639105171783, 0.033710807767795725, 0.03380258574587395, 0.03390991840781983, 0.03411721776713254, 0.03428772760076325, 0.0343693756009637, 0.034470978849706464, 0.034750166476531626, 0.034945831361770936, 0.034983026564856634, 0.03506152811488864, 0.035171891526001156, 0.03530660760492593, 0.035351035391504686, 0.03544776391920481, 0.03561569796300749, 0.03570725317169826, 0.03577976548069183, 0.03591849149549152, 0.036042358409717104, 0.03615235686960915, 0.03634342586819807, 0.036462015128860346, 0.03660810546547584, 0.03672171376075704, 0.036950029660006205, 0.03709866468183769, 0.03725631234163922, 0.037517268858269344, 0.037577561806758815, 0.037941235014630745, 0.03802465822668514, 0.03810040910976708, 0.038292880976445426, 0.03837334403663382, 0.0385096845926345, 0.038594283100869826, 0.0387012914094875, 0.038902432259415795, 0.038969696473927506, 0.039054685459032956, 0.03917773701743187, 0.0392909269820737, 0.039450438975184424, 0.03958425901772207, 0.03986532512674304, 0.03991353197387486, 0.040123658974598124, 0.04025994359015837, 0.040467684876826907, 0.040692708369269734, 0.040905107815765215, 0.04101916911569134, 0.04109017143665856, 0.04116699959168734, 0.041236838948001626, 0.04137267325234524, 0.041475097475711355, 0.041651434292666704, 0.04184018792082987, 0.041968706855466505, 0.04201390945304032, 0.04218158185477324, 0.042277799138532225, 0.042350500177123614, 0.042538190967032374, 0.042756079737032514, 0.04294141781611563, 0.043094393328541064, 0.04334960974002702, 0.043418443644584546, 0.04351112951241711, 0.04368652150718679, 0.0437509367390692, 0.04392574134780591, 0.044080551973710275, 0.04415474591525577, 0.044343415344025805, 0.044515199486735005, 0.04466005188935225, 0.045038535164896, 0.04523683433259444, 0.045556825320897304, 0.0456555898187886, 0.045741715717533035, 0.04591614919599361, 0.04609709066701186, 0.0463070162104214, 0.04690116485774432, 0.047028026881856, 0.04716058420181825, 0.047254132605162154, 0.047302263484049, 0.0474896685895613, 0.04772229562477934, 0.048089238389049244, 0.048216401114396006, 0.04853237520316799, 0.04868570100115639, 0.0489444295935615, 0.049076090334664105, 0.0493774076905456, 0.049489145325310256, 0.049645943241380025, 0.049879191044639004, 0.05011236264034009, 0.05027154742258647, 0.05038737842514837, 0.05057827002999224, 0.05076799071572295, 0.051128644493293574, 0.05128814499735205, 0.05151566985271981, 0.051929982636322126, 0.05211974139424635, 0.052633769439783554, 0.05274705597298057, 0.05302708629568348, 0.05324618551206578, 0.05345454025205008, 0.053645509528757726, 0.05379881272990202, 0.053972767179691426, 0.05421678759240497, 0.05443807769043315, 0.05457767382630778, 0.054836944139419835, 0.0549698166440801, 0.05506724583185908, 0.055255579352668525, 0.055476858277286385, 0.05567747770418995, 0.05584910722132715, 0.05600174358284361, 0.056249396039842185, 0.05632860611490335, 0.056539927886528236, 0.05679682539289962, 0.05777833293175095, 0.058216837545087614, 0.05839315052399359, 0.058612869973065404, 0.05875068221689902, 0.059592242382737394, 0.060402002071852846, 0.060535577345476696, 0.0607220393252588, 0.06096355307955721, 0.061143643224732105, 0.061469024556407945, 0.06173544142481032, 0.061970683476191266, 0.06222663649088234, 0.062420579151712535, 0.06267150590717885, 0.0629063352927178, 0.06333401631998771, 0.06365330391166897, 0.0641783529353789, 0.06438612269711395, 0.06485305235654146, 0.0652974709084959, 0.06582484792208161, 0.06614057295731791, 0.06641963926369017, 0.06682049936430882, 0.06709468941698639, 0.0673739309034303, 0.0678838463424719, 0.06830571159809802, 0.0687705933521976, 0.06915737053713045, 0.06948819257899956, 0.06990310171947305, 0.07034723536095198, 0.0706970675150842, 0.07118032890904848, 0.07161738517733172, 0.07201995335128694, 0.07245480405752536, 0.07291285202559418, 0.07323277892398747, 0.07383368116077747, 0.07442552605099184, 0.07525593980012797, 0.07578837644062916, 0.07643309555989723, 0.07702168282686041, 0.07764215364140734, 0.07807883364478324, 0.07858548540779733, 0.07901428424490775, 0.07968006563927994, 0.08020279932526163, 0.08065727712772892, 0.0811818635626704, 0.08182948294079852, 0.0825653402970151, 0.08304676326855845, 0.08357660002286785, 0.08420010993597787, 0.08488951780943094, 0.0857337731028954, 0.08677443273835948, 0.08759633159196466, 0.08847175061323777, 0.0892721895032204, 0.08995341441206997, 0.09074168825369636, 0.09144249407687595, 0.09222270927490844, 0.09359070494774162, 0.09447992401226742, 0.09521798228473566, 0.09645039025779964, 0.09741364959350962, 0.09811489561229525, 0.09917814501680076, 0.09998210223534774, 0.10100267776320779, 0.10197199968672468, 0.10301927697130746, 0.1043439454330971, 0.1056389822751127, 0.10682892195288202, 0.10816727219246136, 0.10914012032588409, 0.11054521114468294, 0.11219245514904469, 0.11332044491359942, 0.11473196638365005, 0.11619251840860267, 0.11728861319549433, 0.11840387862797996, 0.12019653281701298, 0.12153857963140023, 0.12323055372546128, 0.12562515721337567, 0.12718172415458978, 0.12879673992903212, 0.13085089338727757, 0.13293188924160249, 0.1349161723400293, 0.13692511617647832, 0.13949649148868523, 0.1414939110515312, 0.14420046403339445, 0.14685436396230522, 0.1505616000329719, 0.15316119171652184, 0.15619261307156468, 0.15931131612452085, 0.16261282209419933, 0.16612758483907908, 0.16953720984025666, 0.173601865572329, 0.1775582450181294, 0.1816444216892176, 0.1855292297097816, 0.1896445216361452, 0.19343775650839085, 0.1985184443124586, 0.20286448016551406, 0.207555785942483, 0.21303252466415168, 0.21768239013752688, 0.22326695649024453, 0.22901750578670776, 0.23493644098770766, 0.24087016488016036, 0.24732968768607347, 0.25434144559891975, 0.2615179279416333, 0.26952127325877756, 0.27782472755700544, 0.2912826177382719, 0.29970112958747663, 0.308609720825641, 0.3175977068644853, 0.32738786050662094, 0.3371596291240555, 0.34902604204644405, 0.36073274422403695, 0.3725238772639867, 0.385251227767486, 0.39896524603530753, 0.4132644355775245, 0.42796736536242885, 0.4431716565057523, 0.459093049991926, 0.4776878588432596, 0.4969720372218282, 0.5160927984956196, 0.5366040471682471, 0.559805550224812, 0.5822467645914484, 0.6072560021125203, 0.633600561038803, 0.6600537361128361, 0.6922056599993468, 0.7244643125700748, 0.7586639915100071, 0.79337591298099, 0.8315847735285987, 0.8716769979537721, 0.9161796368080262, 0.961129570221329, 1.0]\n",
      "[0, 1.4494668600402433e-05, 0.000112084382824006, 0.00012227063578023286, 0.001010739909763284, 0.001582420906243972, 0.002467516922843818, 0.0033132339277662376, 0.003927015990673759, 0.005514233584211856, 0.0071074433747081184, 0.00790109056386455, 0.00928693887633299, 0.010357712556278527, 0.012174217783889118, 0.014236425340576916, 0.015275607214100123, 0.01747858165195465, 0.019438508658413504, 0.02124452352442387, 0.02275359869208846, 0.02426911575281414, 0.027339498155737704, 0.02902081291319573, 0.030061676178513377, 0.031835095220407714, 0.03321971476147509, 0.03461421250598394, 0.03667978344354267, 0.038130707997949105, 0.03874459425180553, 0.03978295427964369, 0.041475380836747046, 0.04239299362593431, 0.044370256144188935, 0.045169096589566436, 0.04648505712671665, 0.0470530302935011, 0.04781550957888739, 0.04847858752901486, 0.04949302117045596, 0.05019268390878881, 0.05123556170931969, 0.05164042471839719, 0.052708331734854647, 0.05373334146269981, 0.05442380186109922, 0.055076215262422526, 0.05579290057426494, 0.05661614880592503, 0.05723496114053802, 0.05844425370528374, 0.059102334168397094, 0.05983430486510966, 0.06091578369912023, 0.06226894818000896, 0.06300205827864494, 0.06368788854692924, 0.0646194634322622, 0.06479797664832168, 0.06552527227519121, 0.06650168302579915, 0.06832054972567252, 0.06942492964685186, 0.07008146766878638, 0.07094283445534363, 0.0712336054915869, 0.07137227329980175, 0.07238826919048817, 0.0727846338248847, 0.07319159439882307, 0.07405359066535669, 0.07433470465354879, 0.07483729173459228, 0.07536161774507465, 0.0759502020871603, 0.07665846805023883, 0.07794410884294692, 0.07821362018872842, 0.07894793002108015, 0.07918452082017857, 0.08001824661077693, 0.08065673960243269, 0.08083921714491049, 0.08124955636728, 0.08179319528042753, 0.08221934380327925, 0.08263552328074303, 0.08309847068121241, 0.08373978457491875, 0.08400000832077223, 0.08478252525762753, 0.0856334223358785, 0.08718896233791237, 0.08777555309442232, 0.08833254396147122, 0.08853960282639135, 0.08882320774849367, 0.08912905044280538, 0.09024536639677215, 0.09065449443764523, 0.09131439455229182, 0.09228327979952004, 0.09291439213726081, 0.09335304024337747, 0.0942467874654814, 0.09474280268074653, 0.09505542044728031, 0.09685100406394095, 0.09776135163544673, 0.0987216174034941, 0.09969640731923958, 0.10017144393873789, 0.10084995756870556, 0.10152973011899627, 0.1021600670250278, 0.10232928777645436, 0.10302546168309099, 0.10374228475449783, 0.10426704255632524, 0.10468158461617388, 0.1050091311725787, 0.10533416474940162, 0.1064689618588165, 0.10672561045803952, 0.107223702241428, 0.10768195477237814, 0.10853749265442388, 0.10870102425022617, 0.11001316509478849, 0.11180803199452692, 0.11246670462221975, 0.11331647008617667, 0.11392990050455136, 0.11419960677556698, 0.11472546536093589, 0.11534126816294102, 0.11611568127903504, 0.11678385529869087, 0.11741999606470452, 0.11904095429297851, 0.11912653928796682, 0.1196925296092755, 0.12008477487418258, 0.12076474313512875, 0.12184280320150345, 0.12302069751631545, 0.12330981721288274, 0.12359480889535475, 0.12404778384951763, 0.1244742937828586, 0.12498100186995671, 0.12579563653086073, 0.12672443043783252, 0.12777195193610427, 0.12833418451370604, 0.12886322482943977, 0.12946744629556314, 0.13093272333005296, 0.13183998653546555, 0.1321222327425934, 0.1326442791207197, 0.13299425847084675, 0.133902481228242, 0.1342088014437129, 0.13453382944505285, 0.1353095156418025, 0.1358727342763157, 0.13688521231373196, 0.1380214997162407, 0.1384633339302043, 0.13888141497818285, 0.1390411360768249, 0.13990046406621678, 0.14096217559506433, 0.14125399562329197, 0.14266663379294975, 0.14336706032724508, 0.14408021240690835, 0.14469689914158287, 0.1451932991262648, 0.14603132171910269, 0.14659594228072326, 0.1466918523856393, 0.14729052874495036, 0.14772480499046814, 0.14789043966115298, 0.14898197029949875, 0.1493446925567459, 0.15025793148459798, 0.15097010848803127, 0.15156330491581485, 0.15292660726986132, 0.15358747316977725, 0.1540651965103715, 0.15570055510987885, 0.1562026004470914, 0.15669329161422485, 0.15695116854863336, 0.1581588618978491, 0.15863994950424645, 0.15886140692573808, 0.15981323301924372, 0.15981323301924372, 0.16065728660587644, 0.16102796409587206, 0.16123883275856343, 0.16136572136261781, 0.16205348024060703, 0.1621444308473897, 0.1629903308583276, 0.16391450020024317, 0.16462768883074338, 0.16549650060934368, 0.16582309466841064, 0.16611047097697373, 0.16659299331376665, 0.1670307873940884, 0.16777908581151466, 0.16904110892202232, 0.16925562191012528, 0.16960432817779514, 0.1701238026468974, 0.1705013543089719, 0.17157846936078713, 0.17189054010005664, 0.1719806209330911, 0.17262937895164204, 0.1732208360731062, 0.17481842627156624, 0.1751296508013552, 0.17531562529553116, 0.17576757094209083, 0.17619134793172112, 0.17654172879449295, 0.17838931719473863, 0.17908542902450597, 0.17951744244804238, 0.1801819473159507, 0.18027550161313396, 0.18117743641634526, 0.18170803150478543, 0.18279705701187854, 0.1832872000844195, 0.1837272955304464, 0.1839592906759493, 0.184529120701921, 0.18497362250299282, 0.1857291964280558, 0.1862364990560557, 0.18692780254883565, 0.1875872337057834, 0.18813578294442554, 0.18888291258400958, 0.18943617088913187, 0.1908920070591907, 0.19204270451075908, 0.19252752805807888, 0.1930882555636679, 0.19354121369924596, 0.19445643003889473, 0.19470460075975268, 0.19542158182303632, 0.19637745832601977, 0.19663046367707002, 0.19715161632578096, 0.1982329876380431, 0.19849344927843277, 0.19912706457459417, 0.20007190693822455, 0.20082865936041006, 0.20111623003561682, 0.20138412116570603, 0.20246983011580935, 0.20297220331168306, 0.20356187945812212, 0.20423375252444395, 0.20465064823420104, 0.20509825048158292, 0.20529715566084977, 0.20602532541364474, 0.2085988914839487, 0.2095318801862003, 0.21010005511765062, 0.21117139389649495, 0.21217316946500545, 0.21256706889316276, 0.21299025491596252, 0.21394686507475108, 0.2151464446254427, 0.21578467908547178, 0.2168177657021071, 0.21793738876502733, 0.21878161007798216, 0.2199080240177544, 0.22031264686650345, 0.22096624474618307, 0.22118427545943706, 0.22246117016507835, 0.22366959346905255, 0.2249433100152669, 0.2256034042697786, 0.22616468453655794, 0.227005465083392, 0.2275461411870659, 0.2282664190707816, 0.22913504264176252, 0.2302244911923917, 0.23093937385017793, 0.2321300164709702, 0.23310828607728035, 0.23339885541206778, 0.23419604873552502, 0.23578761125298367, 0.23675987489021177, 0.23768271074055788, 0.2379646300965077, 0.23833320745796052, 0.24018712544211887, 0.24099225562676277, 0.24182984628672063, 0.2421915500369843, 0.24255644351443828, 0.24328816633668177, 0.24370446264420106, 0.24511590831798832, 0.24599093905556277, 0.2474870110722044, 0.24903164095528393, 0.253533356710927, 0.2553982211237389, 0.2563004749381455, 0.25680200260662345, 0.25763801639517625, 0.2584617488065349, 0.2596130466671011, 0.26065400851229575, 0.26212531472579204, 0.2631951582197814, 0.26513113710029945, 0.2659897554361839, 0.26693479633734324, 0.26908655853694385, 0.2704009853519461, 0.2719879683453995, 0.27342894872381035, 0.2741465584783857, 0.27545402801449903, 0.2762057176171873, 0.2772361270538122, 0.27824665482208105, 0.28018424586093726, 0.28159760544417456, 0.28227825109796717, 0.28358612979551623, 0.28481846616577416, 0.28644502904771163, 0.28740782132582077, 0.2888327646274764, 0.289925373079241, 0.2908419892771775, 0.2917214015579315, 0.2925845547282595, 0.2946727318996445, 0.29531667213731794, 0.29666444819507365, 0.29902893022661925, 0.3007381615747199, 0.30206110906002726, 0.30369138611172203, 0.3048109692153708, 0.30610745464878325, 0.30755445690681404, 0.30857974871272864, 0.30963599850288004, 0.3121504904759659, 0.3142508536355478, 0.3155809427672218, 0.31680932114247984, 0.31777198916553756, 0.3190119884240162, 0.3207579681087012, 0.3223976748691565, 0.3234088274371372, 0.3251519337239549, 0.325988481963799, 0.3277532840219547, 0.3292580400344389, 0.3304497322055813, 0.33145317970492105, 0.3331298889072484, 0.33545131372864756, 0.3377642609209445, 0.3392513333905089, 0.34412664564451717, 0.34616472877933435, 0.349039624418656, 0.3500470283203176, 0.3514774480277288, 0.35288884068988335, 0.3543773340457312, 0.356545533300722, 0.35755473956028094, 0.36053806916415926, 0.36184444082402434, 0.3635634240054001, 0.3668540126031839, 0.369176088116978, 0.3715872210923534, 0.3745311594319712, 0.3765219397109114, 0.3793786990171812, 0.38058182085467523, 0.3821507294949456, 0.3839977168151113, 0.3870226635497654, 0.3903683694006589, 0.3925106073023424, 0.3965109276631158, 0.3988593962292607, 0.40248534502768746, 0.4053491863092206, 0.4076115938350336, 0.4094898824040775, 0.412176024339381, 0.4156732573114597, 0.4176382472523272, 0.4199511311782753, 0.42296597244030676, 0.42635325626637305, 0.42849691901407083, 0.43208525031407574, 0.4354232025386511, 0.439012172090861, 0.4428712374971923, 0.4471330754856407, 0.45291944523918093, 0.4556103948630323, 0.4613671420294083, 0.4685792104255589, 0.4734734899671215, 0.4766289244496674, 0.4806855302663429, 0.4848444268024925, 0.48798595184948074, 0.49190566885400744, 0.4962609379106173, 0.500263364266233, 0.5048611529237876, 0.5113560711048679, 0.5153228826710391, 0.5216849720351242, 0.5258233960945142, 0.5318304667644881, 0.5368119400052245, 0.5424756612070718, 0.5476042448052387, 0.5527433247702338, 0.5593816834401208, 0.5670158154799391, 0.5747081235333313, 0.5799682558633399, 0.5873048313947178, 0.59315765263966, 0.5989613094786254, 0.6059075840793309, 0.6135884500449009, 0.6221245806009277, 0.6286033775655455, 0.6363023278840106, 0.6440752868566952, 0.6506770097180038, 0.6580893846922997, 0.665299503350347, 0.6745869156872066, 0.6856455810717138, 0.6933420602361635, 0.7037000109147036, 0.7130695368864799, 0.7228158826938106, 0.7339924574616793, 0.7449021283592412, 0.7558796465060397, 0.767185063625256, 0.7769795445838298, 0.7904380019481836, 0.805228002079235, 0.8177154618934513, 0.8310079875946952, 0.8483647461994241, 0.8627947976151963, 0.8775276767753227, 0.892352049503948, 0.9039497741308207, 0.9200223154433586, 0.9352845348711158, 0.9511824864609596, 0.9634787928066406, 0.9768399541512609, 0.9912093000064723, 1.0]\n"
     ]
    }
   ],
   "source": [
    "print(B)\n",
    "print(S)"
   ]
  },
  {
   "cell_type": "markdown",
   "metadata": {},
   "source": [
    "## 2D plots: DNN vs btag_central"
   ]
  },
  {
   "cell_type": "raw",
   "metadata": {},
   "source": [
    "bkg[\"DNN_score\"] = y_pred[Y==0]\n",
    "bkg = bkg[bkg[\"btag_forward\"]>=0]"
   ]
  },
  {
   "cell_type": "raw",
   "metadata": {},
   "source": [
    "bkg_cut = bkg[bkg[\"btag_central\"]>=0]\n",
    "bkg_cut = bkg_cut[bkg_cut['btag_central']<0.4]\n",
    "    \n",
    "fig = plt.figure(figsize=(15,12))\n",
    "plt.rc('xtick',labelsize=20)\n",
    "plt.rc('ytick',labelsize=20)\n",
    "\n",
    "x1 = bkg_cut['btag_central'].to_numpy()\n",
    "x2 = bkg_cut['DNN_score'].to_numpy()\n",
    "\n",
    "w_x1 = np.full(len(x1),1/len(x1))\n",
    "w_x2 = np.full(len(x2),1/len(x2))\n",
    "\n",
    "a, b, _ = plt.hist(x1, linewidth=2, bins=40, weights=w_x1, histtype=\"step\", label=\"btag_central\")\n",
    "c, d, _ = plt.hist(x2, linewidth=2, bins=100, weights=w_x2, histtype=\"step\", label=\"DNN score\")\n",
    "\n",
    "plt.legend(fontsize=20)\n",
    "plt.title(\"Top\\n btag_central in (0,0.4)\", fontsize=20)\n",
    "\n",
    "plt.show()\n",
    "\n",
    "\n",
    "import matplotlib.colors as colors\n",
    "fig = plt.figure(figsize=(15,12))\n",
    "plt.rc('xtick',labelsize=15)\n",
    "plt.rc('ytick',labelsize=15)\n",
    "\n",
    "plt.hist2d(x2, x1, norm=colors.LogNorm(), cmap='PuBu_r', bins=(100, 40))\n",
    "plt.xlabel(\"DNN score\",fontsize=20)\n",
    "plt.ylabel(\"btag central\",fontsize=20)\n",
    "plt.title(\"Top\\n btag_central in (0,0.4)\", fontsize=20)\n",
    "plt.colorbar(extend='max')\n",
    "plt.show()"
   ]
  },
  {
   "cell_type": "raw",
   "metadata": {},
   "source": [
    "lista = [0.0, 0.1, 0.2, 0.3, 0.4]\n",
    "colors = ['blue', 'red', 'green', 'brown']\n",
    "\n",
    "fig = plt.figure(figsize=(15,12))    \n",
    "for i in range(len(lista)-1):\n",
    "    bkg_cut = bkg[bkg[\"btag_central\"]>=lista[i]]\n",
    "    bkg_cut = bkg_cut[bkg_cut['btag_central']<(lista[i+1])]\n",
    "    \n",
    "    x1 = bkg_cut['btag_central'].to_numpy()\n",
    "    x2 = bkg_cut['DNN_score'].to_numpy()\n",
    "    \n",
    "    #_ = plt.hist(x1, linestyle=None, weights=np.full(len(x1),1/len(x1)), bins=10, color=colors[i], histtype=\"stepfilled\", alpha=0.5, label='btag in ('+str(lista[i])+', '+str(lista[i+1])+')')\n",
    "    _ = plt.hist(x2, linewidth=3, weights=np.full(len(x2),1/len(x2)), bins=100, color=colors[i], histtype=\"step\", label='DNN score with btag in ('+str(lista[i])+', '+str(lista[i+1])+')')\n",
    "    \n",
    "plt.rc('xtick',labelsize=20)\n",
    "plt.rc('ytick',labelsize=20)\n",
    "plt.legend(fontsize=20)\n",
    "plt.title(\"Top sample\\n btag central in (0,0.4) in steps of 0.1\", fontsize=20)        \n",
    "plt.show()"
   ]
  },
  {
   "cell_type": "code",
   "execution_count": null,
   "metadata": {},
   "outputs": [],
   "source": []
  }
 ],
 "metadata": {
  "kernelspec": {
   "display_name": "Python 3",
   "language": "python",
   "name": "python3"
  },
  "language_info": {
   "codemirror_mode": {
    "name": "ipython",
    "version": 3
   },
   "file_extension": ".py",
   "mimetype": "text/x-python",
   "name": "python",
   "nbconvert_exporter": "python",
   "pygments_lexer": "ipython3",
   "version": "3.7.6"
  },
  "toc": {
   "base_numbering": 1,
   "nav_menu": {},
   "number_sections": true,
   "sideBar": true,
   "skip_h1_title": false,
   "title_cell": "Table of Contents",
   "title_sidebar": "Contents",
   "toc_cell": false,
   "toc_position": {},
   "toc_section_display": true,
   "toc_window_display": false
  },
  "varInspector": {
   "cols": {
    "lenName": 16,
    "lenType": 16,
    "lenVar": 40
   },
   "kernels_config": {
    "python": {
     "delete_cmd_postfix": "",
     "delete_cmd_prefix": "del ",
     "library": "var_list.py",
     "varRefreshCmd": "print(var_dic_list())"
    },
    "r": {
     "delete_cmd_postfix": ") ",
     "delete_cmd_prefix": "rm(",
     "library": "var_list.r",
     "varRefreshCmd": "cat(var_dic_list()) "
    }
   },
   "types_to_exclude": [
    "module",
    "function",
    "builtin_function_or_method",
    "instance",
    "_Feature"
   ],
   "window_display": false
  }
 },
 "nbformat": 4,
 "nbformat_minor": 2
}
