{
 "cells": [
  {
   "cell_type": "markdown",
   "metadata": {},
   "source": [
    "# Binning Studies"
   ]
  },
  {
   "cell_type": "markdown",
   "metadata": {},
   "source": [
    "## Table of Contents\n",
    "- [DNN output](#DNNoutput)<a href='#DNNoutput'></a> <br>"
   ]
  },
  {
   "cell_type": "code",
   "execution_count": 1,
   "metadata": {},
   "outputs": [],
   "source": [
    "import pandas as pd\n",
    "import numpy as np\n",
    "import matplotlib as mpl\n",
    "import matplotlib.pyplot as plt\n",
    "from collections import defaultdict\n",
    "import os\n",
    "\n",
    "mpl.rcParams['figure.figsize'] = (6,6)\n",
    "mpl.rcParams['figure.dpi'] = 100\n",
    "mpl.rcParams[\"image.origin\"] = 'lower'"
   ]
  },
  {
   "cell_type": "code",
   "execution_count": 2,
   "metadata": {},
   "outputs": [],
   "source": [
    "config = {\n",
    "    \"base_dir\":        \"/eos/home-b/bpinolin/ML_output/\",\n",
    "    \"plot_config\":     \"VBSOS\",\n",
    "    \"cut\":             \"em_loose\",\n",
    "    \"model_version\":   \"v3\"\n",
    "}"
   ]
  },
  {
   "cell_type": "code",
   "execution_count": 3,
   "metadata": {},
   "outputs": [],
   "source": [
    "config_base_dir = os.path.join(config[\"base_dir\"], config[\"plot_config\"])\n",
    "\n",
    "# create the model directory\n",
    "model_dir   = os.path.join(config_base_dir, config[\"cut\"] , \"models\",  config[\"model_version\"])\n",
    "os.makedirs(model_dir, exist_ok=True)\n",
    "\n",
    "import yaml\n",
    "model_config_file = open(model_dir + \"/model_config.yml\", \"r\")\n",
    "model_config = yaml.safe_load(model_config_file)\n",
    "\n",
    "for key in [\"samples_version\", \"cols\"]:\n",
    "    config[key] = model_config[key]"
   ]
  },
  {
   "cell_type": "code",
   "execution_count": 4,
   "metadata": {},
   "outputs": [],
   "source": [
    "# load numpy\n",
    "samples_dir = os.path.join(config_base_dir, config[\"cut\"] , \"samples\", config[\"samples_version\"])\n",
    "import pickle\n",
    "signal = pickle.load(open(os.path.join(samples_dir, \"for_training/signal_balanced.pkl\"),     \"rb\"))\n",
    "bkg    = pickle.load(open(os.path.join(samples_dir, \"for_training/background_balanced.pkl\"), \"rb\"))"
   ]
  },
  {
   "cell_type": "code",
   "execution_count": 5,
   "metadata": {
    "scrolled": true
   },
   "outputs": [],
   "source": [
    "X_sig = signal[config[\"cols\"]].values\n",
    "X_bkg = bkg[config[\"cols\"]].values\n",
    "Y_sig = np.ones(len(X_sig))\n",
    "Y_bkg = np.zeros(len(X_bkg))\n",
    "W_sig = (signal[\"weight_norm\"]).values\n",
    "W_bkg = (bkg[\"weight_norm\"]).values\n",
    "Wnn_sig = (signal[\"weight_\"]).values\n",
    "Wnn_bkg = (bkg[\"weight_\"]).values\n",
    "\n",
    "X = np.vstack([X_sig, X_bkg])\n",
    "Y = np.hstack([Y_sig, Y_bkg])\n",
    "W = np.hstack([W_sig, W_bkg])\n",
    "Wnn = np.hstack([Wnn_sig, Wnn_bkg])\n",
    "\n",
    "#X[~np.isfinite(X)] = 9999"
   ]
  },
  {
   "cell_type": "code",
   "execution_count": 6,
   "metadata": {},
   "outputs": [],
   "source": [
    "scaler = pickle.load(open(f\"{model_dir}/scaler_model.pkl\", \"rb\"))\n",
    "X_scaled = scaler.fit_transform(X)"
   ]
  },
  {
   "cell_type": "code",
   "execution_count": 7,
   "metadata": {
    "scrolled": true
   },
   "outputs": [
    {
     "name": "stderr",
     "output_type": "stream",
     "text": [
      "WARNING: Logging before flag parsing goes to stderr.\n",
      "W0505 16:14:31.699261 140118091585344 deprecation.py:323] From /cvmfs/sft.cern.ch/lcg/views/LCG_97python3/x86_64-centos7-gcc8-opt/lib/python3.7/site-packages/tensorflow/python/ops/nn_impl.py:180: add_dispatch_support.<locals>.wrapper (from tensorflow.python.ops.array_ops) is deprecated and will be removed in a future version.\n",
      "Instructions for updating:\n",
      "Use tf.where in 2.0, which has the same broadcast rule as np.where\n",
      "W0505 16:14:32.481981 140118091585344 hdf5_format.py:258] Error in loading the saved optimizer state. As a result, your model is starting with a freshly initialized optimizer.\n"
     ]
    },
    {
     "name": "stdout",
     "output_type": "stream",
     "text": [
      "Model: \"sequential_1\"\n",
      "_________________________________________________________________\n",
      "Layer (type)                 Output Shape              Param #   \n",
      "=================================================================\n",
      "dense_1 (Dense)              (None, 30)                420       \n",
      "_________________________________________________________________\n",
      "batch_normalization_1 (Batch (None, 30)                120       \n",
      "_________________________________________________________________\n",
      "dropout_1 (Dropout)          (None, 30)                0         \n",
      "_________________________________________________________________\n",
      "dense_2 (Dense)              (None, 50)                1550      \n",
      "_________________________________________________________________\n",
      "batch_normalization_2 (Batch (None, 50)                200       \n",
      "_________________________________________________________________\n",
      "activation_1 (Activation)    (None, 50)                0         \n",
      "_________________________________________________________________\n",
      "dropout_2 (Dropout)          (None, 50)                0         \n",
      "_________________________________________________________________\n",
      "dense_3 (Dense)              (None, 30)                1530      \n",
      "_________________________________________________________________\n",
      "batch_normalization_3 (Batch (None, 30)                120       \n",
      "_________________________________________________________________\n",
      "activation_2 (Activation)    (None, 30)                0         \n",
      "_________________________________________________________________\n",
      "dropout_3 (Dropout)          (None, 30)                0         \n",
      "_________________________________________________________________\n",
      "dense_4 (Dense)              (None, 1)                 31        \n",
      "=================================================================\n",
      "Total params: 3,971\n",
      "Trainable params: 3,751\n",
      "Non-trainable params: 220\n",
      "_________________________________________________________________\n"
     ]
    }
   ],
   "source": [
    "import tensorflow as tf\n",
    "\n",
    "model = tf.keras.models.load_model(os.path.join(model_dir, \"model.h5\"))\n",
    "\n",
    "model.summary()"
   ]
  },
  {
   "cell_type": "code",
   "execution_count": 8,
   "metadata": {},
   "outputs": [],
   "source": [
    "bkg_linf = bkg[config[\"cols\"]].values\n",
    "#bkg_linf[~np.isfinite(bkg_linf)] = 9999"
   ]
  },
  {
   "cell_type": "markdown",
   "metadata": {},
   "source": [
    "<a id = 'DNNoutput' ></a>\n",
    "## DNN output"
   ]
  },
  {
   "cell_type": "code",
   "execution_count": 9,
   "metadata": {},
   "outputs": [],
   "source": [
    "bkg[\"y\"] = model.predict(scaler.transform(bkg_linf), batch_size=2048)\n",
    "signal[\"y\"] = model.predict(scaler.transform(signal[config[\"cols\"]].values), batch_size=2048)"
   ]
  },
  {
   "cell_type": "code",
   "execution_count": 10,
   "metadata": {},
   "outputs": [],
   "source": [
    "top = bkg[bkg[\"sample_name\"] == \"top\"]"
   ]
  },
  {
   "cell_type": "code",
   "execution_count": 11,
   "metadata": {},
   "outputs": [
    {
     "data": {
      "image/png": "[encoded data removed]",
      "text/plain": [
       "<Figure size 700x600 with 1 Axes>"
      ]
     },
     "metadata": {
      "needs_background": "light"
     },
     "output_type": "display_data"
    }
   ],
   "source": [
    "fig, ax1 = plt.subplots(figsize=(7,6), dpi=100)\n",
    "plt.hist(top[\"y\"],   bins=50, density=True, label=\"top\",    histtype=\"step\", color=\"blue\")\n",
    "plt.hist(signal[\"y\"], bins=50,density=True, label=\"signal\", histtype=\"step\", color=\"red\")\n",
    "plt.xlabel(\"DNN output\")\n",
    "plt.legend()\n",
    "plt.show()"
   ]
  },
  {
   "cell_type": "code",
   "execution_count": 13,
   "metadata": {
    "scrolled": false
   },
   "outputs": [
    {
     "name": "stdout",
     "output_type": "stream",
     "text": [
      " Initial number of background events = 299226.73\n",
      " Initial number of signal events = 518.35\n",
      "\n",
      " signal efficiency = 0.7832\n",
      " background efficiency = 0.1013\n",
      "\n",
      " significance (before) = 0.95 \n",
      " significance (after) = 2.33\n"
     ]
    },
    {
     "data": {
      "image/png": "[encoded data removed]",
      "text/plain": [
       "<Figure size 1000x900 with 1 Axes>"
      ]
     },
     "metadata": {
      "needs_background": "light"
     },
     "output_type": "display_data"
    }
   ],
   "source": [
    "from math import sqrt\n",
    "import matplotlib.patches as mpatches\n",
    "\n",
    "lumi = 59.74\n",
    "\n",
    "fig, ax1 = plt.subplots(figsize=(10,9), dpi=100)\n",
    "\n",
    "B, B_bins, _ = plt.hist(top[\"y\"],   weights=top.weight_*lumi, bins=100, label=\"top\",  color=\"blue\", histtype=\"step\")\n",
    "S, S_bins, _ = plt.hist(signal[\"y\"], weights=signal.weight_*lumi, bins=100, label=\"signal\", color=\"red\", histtype=\"step\")\n",
    "\n",
    "Ni_B = sum(B)\n",
    "Ni_S = sum(S)\n",
    "\n",
    "print(\" Initial number of background events = {:.2f}\\n Initial number of signal events = {:.2f}\\n\".format(Ni_B, Ni_S))\n",
    "\n",
    "bd = 1\n",
    "int_B = 0\n",
    "\n",
    "while (int_B < (0.1*Ni_B)):\n",
    "    int_B = sum(B[-bd:])\n",
    "    bd += 1\n",
    "\n",
    "int_S = sum(S[-bd:])\n",
    "\n",
    "plt.axvline(S_bins[-bd], 0, max(B), label='Cut at bkg rejection = 90%', color = \"black\", linestyle = \"dashed\")\n",
    "\n",
    "print(\" signal efficiency = {:.4f}\\n background efficiency = {:.4f}\\n\".format(int_S/Ni_S, int_B/Ni_B))\n",
    "\n",
    "print(\" significance (before) = {:.2f} \\n significance (after) = {:.2f}\".format(Ni_S/sqrt(Ni_B), int_S/sqrt(int_B)))\n",
    "\n",
    "plt.yscale(\"log\")\n",
    "plt.xlabel(\"DNN output \"+config[\"cut\"], fontsize=15)\n",
    "plt.legend(loc=\"upper left\", fontsize=15)\n",
    "plt.show()"
   ]
  },
  {
   "cell_type": "code",
   "execution_count": 118,
   "metadata": {},
   "outputs": [
    {
     "data": {
      "text/plain": [
       "518.3514114152525"
      ]
     },
     "execution_count": 118,
     "metadata": {},
     "output_type": "execute_result"
    }
   ],
   "source": [
    "(signal.weight_).sum()*lumi"
   ]
  },
  {
   "cell_type": "code",
   "execution_count": 119,
   "metadata": {},
   "outputs": [
    {
     "data": {
      "text/plain": [
       "299226.7260042991"
      ]
     },
     "execution_count": 119,
     "metadata": {},
     "output_type": "execute_result"
    }
   ],
   "source": [
    "(bkg.weight_).sum()*lumi"
   ]
  },
  {
   "cell_type": "code",
   "execution_count": 138,
   "metadata": {
    "scrolled": true
   },
   "outputs": [],
   "source": [
    "sig = signal.loc[(signal['y']> 0.65)]\n",
    "back = bkg.loc[(bkg['y']> 0.65)]"
   ]
  },
  {
   "cell_type": "code",
   "execution_count": 139,
   "metadata": {
    "scrolled": true
   },
   "outputs": [
    {
     "data": {
      "text/plain": [
       "378.3558059490487"
      ]
     },
     "execution_count": 139,
     "metadata": {},
     "output_type": "execute_result"
    }
   ],
   "source": [
    "(sig.weight_).sum()*lumi"
   ]
  },
  {
   "cell_type": "code",
   "execution_count": 140,
   "metadata": {},
   "outputs": [
    {
     "data": {
      "text/plain": [
       "30648.432910998057"
      ]
     },
     "execution_count": 140,
     "metadata": {},
     "output_type": "execute_result"
    }
   ],
   "source": [
    "(back.weight_).sum()*lumi"
   ]
  },
  {
   "cell_type": "code",
   "execution_count": 141,
   "metadata": {},
   "outputs": [
    {
     "data": {
      "text/plain": [
       "2.1612065045928683"
      ]
     },
     "execution_count": 141,
     "metadata": {},
     "output_type": "execute_result"
    }
   ],
   "source": [
    "(sig.weight_).sum()*lumi / sqrt((back.weight_).sum()*lumi)"
   ]
  }
 ],
 "metadata": {
  "kernelspec": {
   "display_name": "Python 3",
   "language": "python",
   "name": "python3"
  },
  "language_info": {
   "codemirror_mode": {
    "name": "ipython",
    "version": 3
   },
   "file_extension": ".py",
   "mimetype": "text/x-python",
   "name": "python",
   "nbconvert_exporter": "python",
   "pygments_lexer": "ipython3",
   "version": "3.7.6"
  }
 },
 "nbformat": 4,
 "nbformat_minor": 4
}
