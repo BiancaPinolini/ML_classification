{
 "cells": [
  {
   "cell_type": "code",
   "execution_count": 1,
   "metadata": {
    "ExecuteTime": {
     "end_time": "2020-02-19T22:22:54.513692Z",
     "start_time": "2020-02-19T22:22:50.800400Z"
    }
   },
   "outputs": [],
   "source": [
    "import pandas as pd\n",
    "import numpy as np\n",
    "import matplotlib as mpl\n",
    "import matplotlib.pyplot as plt\n",
    "\n",
    "# mpl.rcParams['figure.figsize'] = (6,6)\n",
    "# mpl.rcParams['figure.dpi'] = 100\n",
    "# mpl.rcParams[\"image.origin\"] = 'lower'"
   ]
  },
  {
   "cell_type": "code",
   "execution_count": 2,
   "metadata": {},
   "outputs": [],
   "source": [
    "config = {\n",
    "    \"base_dir\":        \"output/\",\n",
    "    \"plot_config\":     \"VBSOS\",\n",
    "    \"cut\":             \"sr\",\n",
    "    \"model_version\":   \"v1\",\n",
    "    \"model_tag\":       \"boost_5vars_v0\",\n",
    "    \"samples_version\": \"v0\",\n",
    "    \"cols\": ['sr_PuppiMET_pt',\n",
    "             'sr_Mll',\n",
    "             'sr_ptll',\n",
    "             'sr_Mjj',\n",
    "             'sr_mth',\n",
    "             'sr_btag_first',\n",
    "             'sr_btag_second',\n",
    "             ]\n",
    "}"
   ]
  },
  {
   "cell_type": "code",
   "execution_count": 3,
   "metadata": {
    "ExecuteTime": {
     "end_time": "2020-02-19T22:27:40.497148Z",
     "start_time": "2020-02-19T22:27:38.676379Z"
    }
   },
   "outputs": [],
   "source": [
    "import os\n",
    "\n",
    "config_base_dir = os.path.join(config[\"base_dir\"], config[\"plot_config\"])\n",
    "\n",
    "# create the model directory\n",
    "model_dir   = os.path.join(config_base_dir, config[\"cut\"] , \"models\",  config[\"model_version\"])\n",
    "os.makedirs(model_dir, exist_ok=True)\n",
    "\n",
    "# load numpy\n",
    "samples_dir = os.path.join(config_base_dir, config[\"cut\"] , \"samples\", config[\"samples_version\"])\n",
    "import pickle\n",
    "signal = pickle.load(open(os.path.join(samples_dir, \"for_training/signal_balanced.pkl\"),     \"rb\"))\n",
    "bkg    = pickle.load(open(os.path.join(samples_dir, \"for_training/background_balanced.pkl\"), \"rb\"))"
   ]
  },
  {
   "cell_type": "markdown",
   "metadata": {},
   "source": [
    "## Samples preparation for NN"
   ]
  },
  {
   "cell_type": "code",
   "execution_count": 4,
   "metadata": {
    "ExecuteTime": {
     "end_time": "2020-02-19T22:32:42.022997Z",
     "start_time": "2020-02-19T22:32:38.073349Z"
    }
   },
   "outputs": [],
   "source": [
    "# Machine Leanring libraires \n",
    "from sklearn.model_selection import KFold, StratifiedKFold, train_test_split\n",
    "from sklearn.ensemble import RandomForestClassifier\n",
    "from sklearn.svm import SVC, LinearSVC\n",
    "from sklearn.neighbors import KNeighborsClassifier\n",
    "\n",
    "\n",
    "# Import useful Evaluation Metrics\n",
    "from sklearn import metrics\n",
    "from sklearn.metrics import recall_score, roc_auc_score, accuracy_score, confusion_matrix, make_scorer, classification_report, roc_curve, auc, f1_score\n",
    "from sklearn.ensemble import RandomForestRegressor, RandomForestClassifier "
   ]
  },
  {
   "cell_type": "code",
   "execution_count": 5,
   "metadata": {
    "ExecuteTime": {
     "end_time": "2020-02-19T22:40:36.380980Z",
     "start_time": "2020-02-19T22:40:36.314946Z"
    }
   },
   "outputs": [],
   "source": [
    "X_sig = signal[config[\"cols\"]].values\n",
    "X_bkg = bkg[config[\"cols\"]].values[:X_sig.shape[0]]\n",
    "Y_sig = np.ones(len(X_sig))\n",
    "Y_bkg = np.zeros(len(X_bkg))\n",
    "W_sig = (signal[\"weight_norm\"]).values\n",
    "W_bkg = (bkg[\"weight_norm\"]).values\n",
    "Wnn_sig = (signal[\"weight_\"]).values\n",
    "Wnn_bkg = (bkg[\"weight_\"]).values"
   ]
  },
  {
   "cell_type": "code",
   "execution_count": 6,
   "metadata": {
    "ExecuteTime": {
     "end_time": "2020-02-19T22:40:37.585985Z",
     "start_time": "2020-02-19T22:40:37.569805Z"
    }
   },
   "outputs": [],
   "source": [
    "X = np.vstack([X_sig, X_bkg])\n",
    "Y = np.hstack([Y_sig, Y_bkg])\n",
    "W = np.hstack([W_sig, W_bkg])\n",
    "Wnn = np.hstack([Wnn_sig, Wnn_bkg])"
   ]
  },
  {
   "cell_type": "code",
   "execution_count": 7,
   "metadata": {},
   "outputs": [],
   "source": [
    "from sklearn.preprocessing import StandardScaler"
   ]
  },
  {
   "cell_type": "code",
   "execution_count": 8,
   "metadata": {
    "ExecuteTime": {
     "end_time": "2020-02-19T22:40:38.115989Z",
     "start_time": "2020-02-19T22:40:38.076022Z"
    }
   },
   "outputs": [],
   "source": [
    "scaler = StandardScaler()\n",
    "X_scaled = scaler.fit_transform(X)\n",
    "pickle.dump(scaler, open(f\"{model_dir}/scaler_model.pkl\", \"wb\"))"
   ]
  },
  {
   "cell_type": "markdown",
   "metadata": {},
   "source": [
    " # BDT "
   ]
  },
  {
   "cell_type": "code",
   "execution_count": 9,
   "metadata": {
    "ExecuteTime": {
     "end_time": "2020-02-19T22:44:49.774112Z",
     "start_time": "2020-02-19T22:43:34.894772Z"
    },
    "scrolled": true
   },
   "outputs": [
    {
     "name": "stdout",
     "output_type": "stream",
     "text": [
      "Train AUC 0.9963553056336562, train acc 0.9963553056336562\n",
      "Val AUC 0.7132444814660558, val acc 0.7132444814660558\n",
      "Train AUC 0.9961470373841508, train acc 0.9961470373841508\n",
      "Val AUC 0.7155351936693045, val acc 0.7155351936693044\n",
      "Train AUC 0.996641674476726, train acc 0.996641674476726\n",
      "Val AUC 0.7127238650562266, val acc 0.7127238650562265\n",
      "Train AUC 0.9958608840526891, train acc 0.9958608840526891\n",
      "Val AUC 0.7132888981462195, val acc 0.7132888981462195\n",
      "Train AUC 0.9965897849742281, train acc 0.9965897849742281\n",
      "Val AUC 0.7137054780254113, val acc 0.7137054780254114\n",
      "Train AUC 0.9959387691346454, train acc 0.9959387691346454\n",
      "Val AUC 0.7139733444398166, val acc 0.7139733444398167\n",
      "Train AUC 0.9962511715089035, train acc 0.9962511715089035\n",
      "Val AUC 0.715847563515202, val acc 0.715847563515202\n",
      "Train AUC 0.9960429032593981, train acc 0.9960429032593981\n",
      "Val AUC 0.7127238650562265, val acc 0.7127238650562265\n",
      "Train AUC 0.9960431092830738, train acc 0.9960431092830738\n",
      "Val AUC 0.7139137679650073, val acc 0.7139137679650073\n",
      "Train AUC 0.9959650127557661, train acc 0.9959650127557661\n",
      "Val AUC 0.714330347844199, val acc 0.7143303478441991\n",
      "Train AUC 0.9959908361970217, train acc 0.9959908361970218\n",
      "Val AUC 0.7113702623906706, val acc 0.7113702623906706\n",
      "Train AUC 0.9960429032593981, train acc 0.9960429032593981\n",
      "Val AUC 0.7141815910037485, val acc 0.7141815910037485\n",
      "Train AUC 0.996329272102468, train acc 0.996329272102468\n",
      "Val AUC 0.7084548104956269, val acc 0.7084548104956269\n",
      "Train AUC 0.9965116884469205, train acc 0.9965116884469204\n",
      "Val AUC 0.7111018537804624, val acc 0.7111018537804624\n",
      "Train AUC 0.9966158171499974, train acc 0.9966158171499974\n",
      "Val AUC 0.7157883774213705, val acc 0.7157883774213706\n",
      "Train AUC 0.9963553056336562, train acc 0.9963553056336562\n",
      "Val AUC 0.7102249062890462, val acc 0.7102249062890462\n",
      "Train AUC 0.9961210038529625, train acc 0.9961210038529626\n",
      "Val AUC 0.7119950020824656, val acc 0.7119950020824657\n",
      "Train AUC 0.9962251379777153, train acc 0.9962251379777153\n",
      "Val AUC 0.7064764681382757, val acc 0.7064764681382757\n",
      "Train AUC 0.9962253345134586, train acc 0.9962253345134586\n",
      "Val AUC 0.7188085815455114, val acc 0.7188085815455113\n",
      "Train AUC 0.9960951736346125, train acc 0.9960951736346124\n",
      "Val AUC 0.7128723182670278, val acc 0.7128723182670277\n",
      "Train AUC 0.9958346350098928, train acc 0.9958346350098928\n",
      "Val AUC 0.7129321116201582, val acc 0.7129321116201582\n",
      "Train AUC 0.9961470373841508, train acc 0.9961470373841508\n",
      "Val AUC 0.7038733860891295, val acc 0.7038733860891295\n",
      "Train AUC 0.9959648026658335, train acc 0.9959648026658336\n",
      "Val AUC 0.7129321116201583, val acc 0.7129321116201582\n",
      "Train AUC 0.9962773988649972, train acc 0.9962773988649971\n",
      "Val AUC 0.7068319100187461, val acc 0.7068319100187461\n",
      "Train AUC 0.9957046909980737, train acc 0.9957046909980736\n",
      "Val AUC 0.7157883774213706, val acc 0.7157883774213706\n",
      "Train AUC 0.996329272102468, train acc 0.996329272102468\n",
      "Val AUC 0.711057892544773, val acc 0.711057892544773\n",
      "Train AUC 0.9957825679475164, train acc 0.9957825679475164\n",
      "Val AUC 0.7181382757184506, val acc 0.7181382757184507\n",
      "Train AUC 0.9961470373841509, train acc 0.9961470373841508\n",
      "Val AUC 0.7093919200333195, val acc 0.7093919200333194\n",
      "Train AUC 0.9957827875253813, train acc 0.9957827875253814\n",
      "Val AUC 0.7123515934180379, val acc 0.7123515934180379\n",
      "Train AUC 0.9956786588223044, train acc 0.9956786588223043\n",
      "Val AUC 0.7101645490522809, val acc 0.7101645490522808\n",
      "Train AUC 0.9961991044465272, train acc 0.9961991044465272\n",
      "Val AUC 0.7143898375676803, val acc 0.7143898375676802\n",
      "Train AUC 0.9963032385712798, train acc 0.9963032385712798\n",
      "Val AUC 0.704185755935027, val acc 0.7041857559350271\n",
      "Train AUC 0.9960689367905863, train acc 0.9960689367905863\n",
      "Val AUC 0.7130362349021241, val acc 0.7130362349021241\n",
      "Train AUC 0.9961472379861509, train acc 0.9961472379861509\n",
      "Val AUC 0.7107894188710685, val acc 0.7107894188710685\n",
      "Train AUC 0.9958348518769198, train acc 0.9958348518769199\n",
      "Val AUC 0.7156842324515725, val acc 0.7156842324515726\n",
      "Train AUC 0.9960949703217743, train acc 0.9960949703217744\n",
      "Val AUC 0.7136609745939193, val acc 0.7136609745939192\n",
      "Train AUC 0.9963292721024678, train acc 0.996329272102468\n",
      "Val AUC 0.7188671386922115, val acc 0.7188671386922115\n",
      "Train AUC 0.9959648026658335, train acc 0.9959648026658336\n",
      "Val AUC 0.7077259475218658, val acc 0.7077259475218659\n",
      "Train AUC 0.9956786588223044, train acc 0.9956786588223043\n",
      "Val AUC 0.7118308685690481, val acc 0.7118308685690481\n",
      "Train AUC 0.9960691414588431, train acc 0.9960691414588432\n",
      "Val AUC 0.7156842324515726, val acc 0.7156842324515726\n",
      "Train AUC 0.9956524002915755, train acc 0.9956524002915755\n",
      "Val AUC 0.7147022074135778, val acc 0.7147022074135777\n",
      "Train AUC 0.9964594397584088, train acc 0.9964594397584088\n",
      "Val AUC 0.7239691795085381, val acc 0.7239691795085381\n",
      "Train AUC 0.9958346350098926, train acc 0.9958346350098928\n",
      "Val AUC 0.7113702623906706, val acc 0.7113702623906706\n",
      "Train AUC 0.995860884052689, train acc 0.9958608840526891\n",
      "Val AUC 0.7158925223911685, val acc 0.7158925223911685\n",
      "Train AUC 0.9961732701619201, train acc 0.9961732701619201\n",
      "Val AUC 0.7108935638408664, val acc 0.7108935638408664\n",
      "Train AUC 0.9959127356034572, train acc 0.9959127356034573\n",
      "Val AUC 0.7181382757184507, val acc 0.7181382757184507\n",
      "Train AUC 0.9964334062272207, train acc 0.9964334062272207\n",
      "Val AUC 0.7099125364431488, val acc 0.7099125364431487\n",
      "Train AUC 0.9964334062272207, train acc 0.9964334062272207\n",
      "Val AUC 0.7153269471053727, val acc 0.7153269471053728\n",
      "Train AUC 0.9959650127557661, train acc 0.9959650127557661\n",
      "Val AUC 0.7151635076025827, val acc 0.7151635076025828\n",
      "Train AUC 0.9962253345134585, train acc 0.9962253345134586\n",
      "Val AUC 0.709852114142887, val acc 0.7098521141428868\n"
     ]
    }
   ],
   "source": [
    "i = 0\n",
    "k_out   = 10    # number of iterations\n",
    "k_in    = 5     # k-fold cross validation\n",
    "\n",
    "n_estimators  = [3, 9, 16, 32, 64, 100, 120, 140] # 200 32, 64, 100\n",
    "\n",
    "train_results = []\n",
    "test_results  = []\n",
    "val_results  = []\n",
    "\n",
    "train_results_acc = []\n",
    "test_results_acc  = []\n",
    "val_results_acc = []\n",
    "\n",
    "acc = np.zeros(k_in)\n",
    "sens = np.zeros(k_in)\n",
    "spec = np.zeros(k_in)\n",
    "roc = np.zeros(k_in)\n",
    "\n",
    "acc_avg  = np.zeros(k_out)\n",
    "sens_avg = np.zeros(k_out)\n",
    "spec_avg = np.zeros(k_out) \n",
    "auc_avg = np.zeros(k_out) \n",
    "\n",
    "while i<k_out: # set number of iterations\n",
    "\n",
    "    # Split training and testing, then use training set for the k-fold cross validation\n",
    "    X_train, X_test, Y_train, Y_test = train_test_split(X, Y, test_size=0.10, shuffle=True, stratify = Y)\n",
    "    \n",
    "    skf = StratifiedKFold(n_splits=k_in, shuffle = True)\n",
    "    for train_index, val_index in skf.split(X_train, Y_train):\n",
    "        \n",
    "        # 4-folds for traing\n",
    "        X_tr = X_train[train_index]\n",
    "        y_tr = Y_train[train_index]  \n",
    "        \n",
    "        # 1 fold for validation\n",
    "        X_val = X_train[val_index]\n",
    "        y_val = Y_train[val_index]    \n",
    "\n",
    "\n",
    "        rf = RandomForestClassifier(n_estimators=20, class_weight='balanced_subsample', n_jobs=-1)\n",
    "        rf.fit(X_tr, y_tr) \n",
    "\n",
    "        train_pred = rf.predict(X_tr)\n",
    "        false_positive_rate, true_positive_rate, thresholds = roc_curve(y_tr, train_pred)\n",
    "        roc_auc = auc(false_positive_rate, true_positive_rate)\n",
    "        train_acc = accuracy_score(y_tr, train_pred)                \n",
    "        train_results.append(roc_auc)\n",
    "        train_results_acc.append(train_acc)\n",
    "        \n",
    "        print(f\"Train AUC {roc_auc}, train acc {train_acc}\")\n",
    "\n",
    "        val_pred = rf.predict(X_val)\n",
    "        false_positive_rate, true_positive_rate, thresholds = roc_curve(y_val, val_pred)\n",
    "        roc_auc = auc(false_positive_rate, true_positive_rate)\n",
    "        val_acc = accuracy_score(y_val, val_pred) \n",
    "        val_results.append(roc_auc)\n",
    "        val_results_acc.append(val_acc)      \n",
    "        \n",
    "        print(f\"Val AUC {roc_auc}, val acc {val_acc}\")\n",
    "                  \n",
    "    i +=1"
   ]
  },
  {
   "cell_type": "markdown",
   "metadata": {},
   "source": [
    "# Evaluation"
   ]
  },
  {
   "cell_type": "code",
   "execution_count": 20,
   "metadata": {},
   "outputs": [
    {
     "name": "stdout",
     "output_type": "stream",
     "text": [
      ">>> Computing AUC...\n"
     ]
    },
    {
     "ename": "NameError",
     "evalue": "name 'model' is not defined",
     "output_type": "error",
     "traceback": [
      "\u001b[0;31m---------------------------------------------------------------------------\u001b[0m",
      "\u001b[0;31mNameError\u001b[0m                                 Traceback (most recent call last)",
      "\u001b[0;32m<ipython-input-20-db053fbabb22>\u001b[0m in \u001b[0;36m<module>\u001b[0;34m\u001b[0m\n\u001b[1;32m      3\u001b[0m \u001b[0;34m\u001b[0m\u001b[0m\n\u001b[1;32m      4\u001b[0m \u001b[0;32mfrom\u001b[0m \u001b[0msklearn\u001b[0m\u001b[0;34m.\u001b[0m\u001b[0mmetrics\u001b[0m \u001b[0;32mimport\u001b[0m \u001b[0mroc_auc_score\u001b[0m\u001b[0;34m,\u001b[0m \u001b[0mroc_curve\u001b[0m\u001b[0;34m\u001b[0m\u001b[0m\n\u001b[0;32m----> 5\u001b[0;31m \u001b[0mpred_test\u001b[0m  \u001b[0;34m=\u001b[0m \u001b[0mmodel\u001b[0m\u001b[0;34m.\u001b[0m\u001b[0mpredict\u001b[0m\u001b[0;34m(\u001b[0m\u001b[0mX_test\u001b[0m\u001b[0;34m,\u001b[0m  \u001b[0mbatch_size\u001b[0m\u001b[0;34m=\u001b[0m\u001b[0;36m2048\u001b[0m\u001b[0;34m)\u001b[0m\u001b[0;34m\u001b[0m\u001b[0m\n\u001b[0m",
      "\u001b[0;31mNameError\u001b[0m: name 'model' is not defined"
     ]
    }
   ],
   "source": [
    "# Evalutation\n",
    "print(\">>> Computing AUC...\")\n",
    "\n",
    "from sklearn.metrics import roc_auc_score, roc_curve\n",
    "\n",
    "pred_test  = model.predict(X_test,  batch_size=2048)"
   ]
  },
  {
   "cell_type": "code",
   "execution_count": 18,
   "metadata": {
    "ExecuteTime": {
     "end_time": "2020-01-27T12:56:04.845533Z",
     "start_time": "2020-01-27T12:56:02.953256Z"
    },
    "scrolled": false
   },
   "outputs": [
    {
     "name": "stdout",
     "output_type": "stream",
     "text": [
      ">>> Computing AUC...\n"
     ]
    },
    {
     "ename": "NameError",
     "evalue": "name 'model' is not defined",
     "output_type": "error",
     "traceback": [
      "\u001b[0;31m---------------------------------------------------------------------------\u001b[0m",
      "\u001b[0;31mNameError\u001b[0m                                 Traceback (most recent call last)",
      "\u001b[0;32m<ipython-input-18-733906a382e0>\u001b[0m in \u001b[0;36m<module>\u001b[0;34m\u001b[0m\n\u001b[1;32m      4\u001b[0m \u001b[0;32mfrom\u001b[0m \u001b[0msklearn\u001b[0m\u001b[0;34m.\u001b[0m\u001b[0mmetrics\u001b[0m \u001b[0;32mimport\u001b[0m \u001b[0mroc_auc_score\u001b[0m\u001b[0;34m,\u001b[0m \u001b[0mroc_curve\u001b[0m\u001b[0;34m\u001b[0m\u001b[0m\n\u001b[1;32m      5\u001b[0m \u001b[0;34m\u001b[0m\u001b[0m\n\u001b[0;32m----> 6\u001b[0;31m \u001b[0mpred_test\u001b[0m  \u001b[0;34m=\u001b[0m \u001b[0mmodel\u001b[0m\u001b[0;34m.\u001b[0m\u001b[0mpredict\u001b[0m\u001b[0;34m(\u001b[0m\u001b[0mX_test\u001b[0m\u001b[0;34m,\u001b[0m  \u001b[0mbatch_size\u001b[0m\u001b[0;34m=\u001b[0m\u001b[0;36m2048\u001b[0m\u001b[0;34m)\u001b[0m\u001b[0;34m\u001b[0m\u001b[0m\n\u001b[0m\u001b[1;32m      7\u001b[0m \u001b[0mpred_train\u001b[0m \u001b[0;34m=\u001b[0m \u001b[0mmodel\u001b[0m\u001b[0;34m.\u001b[0m\u001b[0mpredict\u001b[0m\u001b[0;34m(\u001b[0m\u001b[0mX_train\u001b[0m\u001b[0;34m,\u001b[0m \u001b[0mbatch_size\u001b[0m\u001b[0;34m=\u001b[0m\u001b[0;36m2048\u001b[0m\u001b[0;34m)\u001b[0m\u001b[0;34m\u001b[0m\u001b[0m\n\u001b[1;32m      8\u001b[0m \u001b[0mauc_w_test\u001b[0m  \u001b[0;34m=\u001b[0m \u001b[0mroc_auc_score\u001b[0m\u001b[0;34m(\u001b[0m\u001b[0my_test\u001b[0m\u001b[0;34m,\u001b[0m \u001b[0mpred_test\u001b[0m\u001b[0;34m,\u001b[0m  \u001b[0msample_weight\u001b[0m\u001b[0;34m=\u001b[0m\u001b[0mW_test\u001b[0m\u001b[0;34m)\u001b[0m\u001b[0;34m\u001b[0m\u001b[0m\n",
      "\u001b[0;31mNameError\u001b[0m: name 'model' is not defined"
     ]
    }
   ],
   "source": [
    "\n",
    "\n",
    "pred_train = model.predict(X_train, batch_size=2048)\n",
    "auc_w_test  = roc_auc_score(y_test, pred_test,  sample_weight=W_test)\n",
    "auc_w_train = roc_auc_score(y_train,pred_train, sample_weight=W_train)\n",
    "fpW_test,  tpW_test,  thW_test  = roc_curve(y_test,  pred_test , sample_weight=W_test)\n",
    "fpW_train, tpW_train, thW_train = roc_curve(y_train, pred_train, sample_weight=W_train)\n",
    "#print(\"AUC score: \" + str(auc))\n",
    "\n",
    "fig, ax1 = plt.subplots(figsize=(7,6), dpi=100)\n",
    "\n",
    "# ax1.plot(fp, tp, label=f\"ROC (AUC={auc:.3f})\", color=\"blue\")\n",
    "ax1.plot(fpW_test,  tpW_test,  label=f\"ROC test  (AUC={auc_w_test:.3f})\", color=\"red\")\n",
    "ax1.plot(fpW_train, tpW_train, label=f\"ROC train (AUC={auc_w_train:.3f})\", color=\"blue\")\n",
    "\n",
    "ax1.set_xlabel(\"Bkg contamination\", fontsize=18)\n",
    "ax1.set_ylabel(\"Signal efficiency\", fontsize=18)\n",
    "\n",
    "#ax1.plot([0,1],[1,1],\"b--\")\n",
    "ax1.tick_params(\"y\",labelsize=\"large\")\n",
    "\n",
    "ax1.grid()\n",
    "\n",
    "ax1.legend(loc=(0.4, 0.5), fontsize=\"large\")\n",
    "\n",
    "fig.tight_layout()"
   ]
  },
  {
   "cell_type": "code",
   "execution_count": 107,
   "metadata": {},
   "outputs": [],
   "source": [
    "#r = model.evaluate_generator(training_generator, steps=1000)\n",
    "#r = model.evaluate_generator(validation_generator, steps=1000)\n"
   ]
  },
  {
   "cell_type": "code",
   "execution_count": 108,
   "metadata": {},
   "outputs": [],
   "source": [
    "#print(model.metrics_names, r)"
   ]
  },
  {
   "cell_type": "code",
   "execution_count": null,
   "metadata": {
    "ExecuteTime": {
     "end_time": "2020-01-27T12:49:29.244227Z",
     "start_time": "2020-01-27T12:49:28.845434Z"
    }
   },
   "outputs": [],
   "source": [
    "fig, ax = plt.subplots(figsize=(7,6), dpi=100)\n",
    "ax.plot(history.epoch, history.history[\"val_loss\"], label=\"validation loss\")\n",
    "ax.plot(history.epoch, history.history[\"loss\"], label=\"training loss\")\n",
    "plt.legend()"
   ]
  },
  {
   "cell_type": "code",
   "execution_count": null,
   "metadata": {
    "ExecuteTime": {
     "end_time": "2020-01-27T12:50:20.776939Z",
     "start_time": "2020-01-27T12:50:20.294558Z"
    }
   },
   "outputs": [],
   "source": [
    "results_test  = model.predict(X_test, batch_size=2048)\n",
    "fig, ax1 = plt.subplots(figsize=(7,6), dpi=100)\n",
    "plt.hist(results_test[y_test==0],weights=W_test[y_test==0], bins=25, density=True, label=\"false test\", histtype=\"step\")\n",
    "plt.hist(results_test[y_test==1],weights=W_test[y_test==1], bins=25, density=True, label=\"true test\", histtype=\"step\")\n",
    "results_train = model.predict(X_train, batch_size=2048)\n",
    "plt.hist(results_train[y_train==0],weights=W_train[y_train==0], bins=25, density=True, label=\"false train\", histtype=\"step\")\n",
    "plt.hist(results_train[y_train==1],weights=W_train[y_train==1], bins=25, density=True, label=\"true train\", histtype=\"step\")\n",
    "#plt.yscale(\"log\")\n",
    "plt.legend()\n",
    "\n",
    "# \n",
    "# \n",
    "\n",
    "#results_train[y_train==1]\n",
    "rtest  = [x[0] for x in results_test[y_test==1]]\n",
    "rtrain = [x[0] for x in results_train[y_train==1]]\n",
    "\n",
    "from scipy import stats\n",
    "stats.ks_2samp(rtrain, rtest)"
   ]
  },
  {
   "cell_type": "markdown",
   "metadata": {},
   "source": [
    "## Evaluation by sample"
   ]
  },
  {
   "cell_type": "code",
   "execution_count": 57,
   "metadata": {
    "ExecuteTime": {
     "end_time": "2020-01-27T12:50:31.732230Z",
     "start_time": "2020-01-27T12:50:30.443931Z"
    }
   },
   "outputs": [],
   "source": [
    "bkg[\"y\"] = model.predict(scaler.transform(bkg[config[\"cols\"]].values), batch_size=2048)"
   ]
  },
  {
   "cell_type": "code",
   "execution_count": 58,
   "metadata": {
    "ExecuteTime": {
     "end_time": "2020-01-27T12:50:36.367097Z",
     "start_time": "2020-01-27T12:50:36.146436Z"
    }
   },
   "outputs": [],
   "source": [
    "signal[\"y\"] = model.predict(scaler.transform(signal[config[\"cols\"]].values), batch_size=2048)"
   ]
  },
  {
   "cell_type": "code",
   "execution_count": 59,
   "metadata": {
    "ExecuteTime": {
     "end_time": "2020-01-27T12:50:40.753728Z",
     "start_time": "2020-01-27T12:50:40.440558Z"
    }
   },
   "outputs": [],
   "source": [
    "wjets = bkg[bkg[\"sample_name\"] == \"Wjets\"]\n",
    "top = bkg[bkg[\"sample_name\"] == \"top\"]\n",
    "dy = bkg[bkg[\"sample_name\"] == \"DY\"]"
   ]
  },
  {
   "cell_type": "code",
   "execution_count": null,
   "metadata": {
    "ExecuteTime": {
     "end_time": "2020-01-27T12:50:45.162949Z",
     "start_time": "2020-01-27T12:50:44.453275Z"
    }
   },
   "outputs": [],
   "source": [
    "fig, ax1 = plt.subplots(figsize=(7,6), dpi=100)\n",
    "plt.hist(bkg[bkg[\"sample_name\"] == \"Wjets\"][\"y\"], bins=50, density=True, label=\"W+jets\", histtype=\"step\")\n",
    "plt.hist(bkg[bkg[\"sample_name\"] == \"top\"][\"y\"],   bins=50, density=True, label=\"top\",    histtype=\"step\")\n",
    "plt.hist(bkg[bkg[\"sample_name\"] == \"DY\"][\"y\"],    bins=50, density=True, label=\"DY\",     histtype=\"step\")\n",
    "\n",
    "plt.hist(signal[\"y\"], bins=50,density=True, label=\"signal\", histtype=\"step\")\n",
    "#plt.yscale(\"log\")\n",
    "plt.legend()"
   ]
  },
  {
   "cell_type": "code",
   "execution_count": null,
   "metadata": {
    "ExecuteTime": {
     "end_time": "2020-01-27T12:50:49.149563Z",
     "start_time": "2020-01-27T12:50:48.775604Z"
    }
   },
   "outputs": [],
   "source": [
    "fig, ax1 = plt.subplots(figsize=(7,6), dpi=100)\n",
    "plt.hist(wjets[\"y\"], weights=wjets.weight_norm, bins=50, density=True, label=\"W+jets\", histtype=\"step\")\n",
    "plt.hist(top[\"y\"],   weights=top.weight_norm,  bins=50, density=True, label=\"top\",    histtype=\"step\")\n",
    "plt.hist(dy[\"y\"],    weights=dy.weight_norm,  bins=50, density=True, label=\"DY\",     histtype=\"step\")\n",
    "\n",
    "plt.hist(signal[\"y\"], weights=signal.weight_norm, bins=50,density=True, label=\"signal\", histtype=\"step\")\n",
    "#plt.yscale(\"log\")\n",
    "plt.legend()"
   ]
  },
  {
   "cell_type": "code",
   "execution_count": null,
   "metadata": {},
   "outputs": [],
   "source": [
    "## some useful snippets\n",
    "\n",
    "## callbacks\n",
    "# auto_save = ModelCheckpoint(\"../models/model12_balanced_100_50.hd5\", monitor='val_loss', \n",
    "#                     verbose=1, save_best_only=True, save_weights_only=False, \n",
    "#                     mode='auto', period=5)\n",
    "#\n",
    "# early_stop = EarlyStopping(monitor='val_loss', min_delta=0.0001, \n",
    "#                             patience=10, verbose=1)\n",
    "\n",
    "\n",
    "\n",
    "\n",
    "\n",
    "\n",
    "## In case you do not want to use the generators\n",
    "# history = model.fit(\n",
    "#             X_train,y_train, \n",
    "#             sample_weight=W_train, \n",
    "#             epochs=50,\n",
    "#             validation_data = (X_val, y_val, W_val),\n",
    "#             batch_size=1024,\n",
    "#             shuffle=True \n",
    "#             )"
   ]
  },
  {
   "cell_type": "code",
   "execution_count": null,
   "metadata": {},
   "outputs": [],
   "source": []
  }
 ],
 "metadata": {
  "kernelspec": {
   "display_name": "Python 3",
   "language": "python",
   "name": "python3"
  },
  "language_info": {
   "codemirror_mode": {
    "name": "ipython",
    "version": 3
   },
   "file_extension": ".py",
   "mimetype": "text/x-python",
   "name": "python",
   "nbconvert_exporter": "python",
   "pygments_lexer": "ipython3",
   "version": "3.6.5"
  },
  "toc": {
   "base_numbering": 1,
   "nav_menu": {},
   "number_sections": true,
   "sideBar": true,
   "skip_h1_title": false,
   "title_cell": "Table of Contents",
   "title_sidebar": "Contents",
   "toc_cell": false,
   "toc_position": {},
   "toc_section_display": true,
   "toc_window_display": false
  },
  "varInspector": {
   "cols": {
    "lenName": 16,
    "lenType": 16,
    "lenVar": 40
   },
   "kernels_config": {
    "python": {
     "delete_cmd_postfix": "",
     "delete_cmd_prefix": "del ",
     "library": "var_list.py",
     "varRefreshCmd": "print(var_dic_list())"
    },
    "r": {
     "delete_cmd_postfix": ") ",
     "delete_cmd_prefix": "rm(",
     "library": "var_list.r",
     "varRefreshCmd": "cat(var_dic_list()) "
    }
   },
   "types_to_exclude": [
    "module",
    "function",
    "builtin_function_or_method",
    "instance",
    "_Feature"
   ],
   "window_display": false
  }
 },
 "nbformat": 4,
 "nbformat_minor": 2
}
