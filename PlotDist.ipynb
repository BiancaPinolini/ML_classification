{
 "cells": [
  {
   "cell_type": "code",
   "execution_count": 1,
   "metadata": {},
   "outputs": [],
   "source": [
    "import pandas as pd\n",
    "import numpy as np\n",
    "import matplotlib as mpl\n",
    "import matplotlib.pyplot as plt"
   ]
  },
  {
   "cell_type": "code",
   "execution_count": 2,
   "metadata": {},
   "outputs": [],
   "source": [
    "config = {\n",
    "    \"base_dir\":        \"/eos/home-b/bpinolin/ML_output/\",\n",
    "    \"plot_config\":     \"VBSOS\",\n",
    "    \"cut\":             \"sr\",\n",
    "    \"model_version\":   \"v0\",\n",
    "    \"samples_version\": \"v0\"\n",
    "}"
   ]
  },
  {
   "cell_type": "code",
   "execution_count": 3,
   "metadata": {},
   "outputs": [],
   "source": [
    "import os\n",
    "\n",
    "config_base_dir = os.path.join(config[\"base_dir\"], config[\"plot_config\"])\n",
    "# create the model directory\n",
    "model_dir   = os.path.join(config_base_dir, config[\"cut\"] , \"models\",  config[\"model_version\"])\n",
    "# load numpy\n",
    "samples_dir = os.path.join(config_base_dir, config[\"cut\"] , \"samples\", config[\"samples_version\"])\n",
    "file_sig_bal = os.path.join(samples_dir, \"for_training/signal_balanced.pkl\")\n",
    "file_bkg_bal = os.path.join(samples_dir, \"for_training/background_balanced.pkl\")"
   ]
  },
  {
   "cell_type": "code",
   "execution_count": 4,
   "metadata": {},
   "outputs": [],
   "source": [
    "import pickle\n",
    "signal = pickle.load(open(file_sig_bal, \"rb\"))\n",
    "bkg = pickle.load(open(file_bkg_bal, \"rb\"))"
   ]
  },
  {
   "cell_type": "code",
   "execution_count": 5,
   "metadata": {},
   "outputs": [
    {
     "data": {
      "text/plain": [
       "131234.22"
      ]
     },
     "execution_count": 5,
     "metadata": {},
     "output_type": "execute_result"
    }
   ],
   "source": [
    "lumi = 59.74\n",
    "round((bkg.weight_).sum()*lumi,2)"
   ]
  },
  {
   "cell_type": "code",
   "execution_count": 6,
   "metadata": {
    "scrolled": true
   },
   "outputs": [
    {
     "data": {
      "text/plain": [
       "Index(['detajj', 'eta1', 'eta2', 'detall', 'jetpt1', 'jetpt2', 'met', 'dphill',\n",
       "       'dphijj', 'Mll', 'btag_first', 'dR_jl1', 'dR_jl2', 'Zeppll', 'weight_',\n",
       "       'sample_name', 'class', 'signal', 'weight_norm'],\n",
       "      dtype='object')"
      ]
     },
     "execution_count": 6,
     "metadata": {},
     "output_type": "execute_result"
    }
   ],
   "source": [
    "bkg.columns"
   ]
  },
  {
   "cell_type": "code",
   "execution_count": 8,
   "metadata": {},
   "outputs": [
    {
     "name": "stdout",
     "output_type": "stream",
     "text": [
      "Mll\n"
     ]
    }
   ],
   "source": [
    "var = bkg.columns[9]\n",
    "print(var)\n",
    "Nbin = 20\n",
    "Rrange = (0,350)"
   ]
  },
  {
   "cell_type": "code",
   "execution_count": 10,
   "metadata": {
    "scrolled": false
   },
   "outputs": [
    {
     "data": {
      "image/png": "[encoded data removed]",
      "text/plain": [
       "<Figure size 500x400 with 1 Axes>"
      ]
     },
     "metadata": {
      "needs_background": "light"
     },
     "output_type": "display_data"
    },
    {
     "data": {
      "image/png": "[encoded data removed]",
      "text/plain": [
       "<Figure size 500x400 with 1 Axes>"
      ]
     },
     "metadata": {
      "needs_background": "light"
     },
     "output_type": "display_data"
    },
    {
     "name": "stdout",
     "output_type": "stream",
     "text": [
      "NS =  142.0\n",
      "NB =  131234.2\n"
     ]
    }
   ],
   "source": [
    "fig, ax1 = plt.subplots(figsize=(5,4), dpi=100)\n",
    "\n",
    "plt.hist(signal[var], density = True, weights=signal.weight_*lumi, histtype=\"step\", bins=Nbin, color=\"red\", label=\"signal\", range=Rrange)\n",
    "plt.hist(bkg[var], density = True, weights=bkg.weight_*lumi, histtype=\"step\", bins=Nbin, color=\"blue\", label=\"top\", range=Rrange)\n",
    "\n",
    "plt.legend()\n",
    "plt.xlabel(var)\n",
    "plt.show()\n",
    "\n",
    "fig, ax1 = plt.subplots(figsize=(5,4), dpi=100)\n",
    "plt.hist(signal[var], weights=signal.weight_*lumi, histtype=\"step\", bins=Nbin, color=\"red\", label=\"signal\", range=Rrange)\n",
    "plt.hist(bkg[var], weights=bkg.weight_*lumi, histtype=\"step\", bins=Nbin, color=\"blue\", label=\"top\", range=Rrange)\n",
    "                                             \n",
    "plt.legend()\n",
    "plt.xlabel(var)\n",
    "plt.yscale(\"log\")\n",
    "plt.show()\n",
    "                        \n",
    "print(\"NS = \", round((signal.weight_).sum()*lumi,1))\n",
    "print(\"NB = \", round((bkg.weight_).sum()*lumi,1))"
   ]
  },
  {
   "cell_type": "code",
   "execution_count": null,
   "metadata": {},
   "outputs": [],
   "source": []
  }
 ],
 "metadata": {
  "kernelspec": {
   "display_name": "Python 3",
   "language": "python",
   "name": "python3"
  },
  "language_info": {
   "codemirror_mode": {
    "name": "ipython",
    "version": 3
   },
   "file_extension": ".py",
   "mimetype": "text/x-python",
   "name": "python",
   "nbconvert_exporter": "python",
   "pygments_lexer": "ipython3",
   "version": "3.7.6"
  }
 },
 "nbformat": 4,
 "nbformat_minor": 4
}
