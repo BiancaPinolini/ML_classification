{
 "cells": [
  {
   "cell_type": "code",
   "execution_count": 1,
   "metadata": {},
   "outputs": [],
   "source": [
    "import pandas as pd\n",
    "import numpy as np\n",
    "import matplotlib as mpl\n",
    "import matplotlib.pyplot as plt"
   ]
  },
  {
   "cell_type": "code",
   "execution_count": 2,
   "metadata": {},
   "outputs": [],
   "source": [
    "config = {\n",
    "    \"base_dir\":        \"/eos/home-b/bpinolin/ML_output/\",\n",
    "    \"plot_config\":     \"VBSOS\",\n",
    "    \"cut\":             \"sr\",\n",
    "    \"samples_version\": \"v2\",\n",
    "    \"cols\": [\n",
    "             'detajj',\n",
    "             'ptll',\n",
    "             'detall',        \n",
    "             'log(jetpt1)', \n",
    "             'log(jetpt2)', \n",
    "             'met',\n",
    "             'dphill',\n",
    "             'dphijj',\n",
    "             'Mll',\n",
    "             'btag_central',\n",
    "             'btag_forward',\n",
    "             'dR_jl1',\n",
    "             'dR_jl2',\n",
    "             'Zeppll',\n",
    "             'mjj'\n",
    "             'log(mjj)',\n",
    "             'Zepp1',\n",
    "             'Zepp2',\n",
    "             'eta1',\n",
    "             'eta2',\n",
    "             'Jet_nConst_central',\n",
    "             'Jet_nConst_forward',\n",
    "             'qgl_forward',\n",
    "             'qgl_central',\n",
    "             'area_forward',\n",
    "             'area_central'\n",
    "            ],\n",
    "}"
   ]
  },
  {
   "cell_type": "code",
   "execution_count": 3,
   "metadata": {},
   "outputs": [],
   "source": [
    "import os\n",
    "\n",
    "config_base_dir = os.path.join(config[\"base_dir\"], config[\"plot_config\"])\n",
    "# load numpy\n",
    "samples_dir = os.path.join(config_base_dir, config[\"cut\"] , \"samples\", config[\"samples_version\"])\n",
    "file_sig_bal = os.path.join(samples_dir, \"for_training/signal_balanced.pkl\")\n",
    "file_bkg_bal = os.path.join(samples_dir, \"for_training/background_balanced.pkl\")"
   ]
  },
  {
   "cell_type": "code",
   "execution_count": 4,
   "metadata": {},
   "outputs": [],
   "source": [
    "import pickle\n",
    "signal = pickle.load(open(file_sig_bal, \"rb\"))\n",
    "bkg = pickle.load(open(file_bkg_bal, \"rb\"))"
   ]
  },
  {
   "cell_type": "code",
   "execution_count": 5,
   "metadata": {},
   "outputs": [],
   "source": [
    "bkg = bkg.dropna()\n",
    "signal = signal.dropna()"
   ]
  },
  {
   "cell_type": "code",
   "execution_count": 6,
   "metadata": {},
   "outputs": [],
   "source": [
    "#signal[\"mjj\"] = np.log(signal['mjj'])\n",
    "#bkg[\"mjj\"] = np.log(bkg['mjj'])\n",
    "signal[\"jetpt1\"] = np.log(signal['jetpt1'])\n",
    "bkg[\"jetpt1\"] = np.log(bkg['jetpt1'])\n",
    "signal[\"jetpt2\"] = np.log(signal['jetpt2'])\n",
    "bkg[\"jetpt2\"] = np.log(bkg['jetpt2'])\n",
    "signal = signal.rename(columns={'mjj': 'log(mjj)', 'jetpt1': 'log(jetpt1)', 'jetpt2': 'log(jetpt2)'})                       \n",
    "bkg = bkg.rename(columns={'mjj': 'log(mjj)', 'jetpt1': 'log(jetpt1)', 'jetpt2': 'log(jetpt2)'})"
   ]
  },
  {
   "cell_type": "raw",
   "metadata": {
    "scrolled": false
   },
   "source": [
    "for col in config[\"cols\"]:\n",
    "    fig = plt.figure(figsize=(6,5), dpi=100)\n",
    "    _ = plt.hist(signal[col], bins=30, histtype=\"step\", density=True, color=\"red\", label=\"Signal\")\n",
    "    _ = plt.hist(bkg[col], bins=30, histtype=\"step\", density=True, color=\"blue\", label=\"Top\")\n",
    "    plt.legend()\n",
    "    plt.xlabel(col)"
   ]
  },
  {
   "cell_type": "markdown",
   "metadata": {},
   "source": [
    "## Comparing train and test"
   ]
  },
  {
   "cell_type": "raw",
   "metadata": {},
   "source": [
    "# signal_new = signal\n",
    "bkg_new = bkg"
   ]
  },
  {
   "cell_type": "raw",
   "metadata": {},
   "source": [
    "for col in config[\"cols\"]:\n",
    "    fig = plt.figure(figsize=(6,5), dpi=100)\n",
    "    n_S, S, _ = plt.hist(signal[col], bins=100, histtype=\"step\", density=True, label=\"Test samples\")\n",
    "    n_T, T, _ = plt.hist(signal_new[col], bins=100, histtype=\"step\", density=True, label=\"Train samples\")\n",
    "    plt.legend()\n",
    "    plt.xlabel(col)\n",
    "    plt.title(\"Signal comparison\")\n",
    "    #plt.savefig(\"/eos/home-b/bpinolin/SWAN_projects/ML_classification/plots/Train-Test-comp/Signal_\"+col+\".png\")\n",
    "    #plt.show()"
   ]
  },
  {
   "cell_type": "raw",
   "metadata": {},
   "source": [
    "import matplotlib.pyplot as plt\n",
    "from numpy.random import normal\n",
    "\n",
    "y = []"
   ]
  },
  {
   "cell_type": "raw",
   "metadata": {},
   "source": [
    "signal = signal[signal['mjj']<=4500]\n",
    "signal_new = signal_new[signal_new['mjj']<=4500]"
   ]
  },
  {
   "cell_type": "raw",
   "metadata": {},
   "source": [
    "y.append(signal[\"mjj\"])\n",
    "y.append(signal_new[\"mjj\"])"
   ]
  },
  {
   "cell_type": "raw",
   "metadata": {},
   "source": [
    "fig, (ax1, ax2) = plt.subplots(nrows=2, figsize=(6,5), dpi=100)\n",
    "\n",
    "\n",
    "ns, bins, patches = ax1.hist(y, density=True, histtype='step', bins=10, label=['Test','Train'])\n",
    "\n",
    "ax1.legend()\n",
    "\n",
    "ax2.bar(bins[:-1], ns[0] / ns[1], width=0.99)\n",
    "\n",
    "ax2.set_ylabel('Ratio')\n",
    "\n",
    "ax1.set_title(\"Signal mjj\")\n",
    "#ax2.set_ylabel('Ratio (a/b)')"
   ]
  },
  {
   "cell_type": "markdown",
   "metadata": {},
   "source": [
    "## Plotting weights"
   ]
  },
  {
   "cell_type": "raw",
   "metadata": {
    "scrolled": false
   },
   "source": [
    "fig = plt.figure(figsize=(6,5), dpi=100)\n",
    "_ = plt.hist(signal[\"puWeight\"], bins=100, histtype=\"step\", label=\"Signal\", color='red', range=(0,3.5))\n",
    "plt.title(\"puWeight Signal with 0-weight events\")\n",
    "plt.show()"
   ]
  },
  {
   "cell_type": "raw",
   "metadata": {},
   "source": [
    "signal = signal[signal['puWeight'] >= 0.01]"
   ]
  },
  {
   "cell_type": "raw",
   "metadata": {},
   "source": [
    "fig = plt.figure(figsize=(6,5), dpi=100)\n",
    "_ = plt.hist(signal[\"puWeight\"], bins=100, histtype=\"step\", label=\"Signal\", color='red')\n",
    "plt.title(\"puWeight Signal without 0-weight events\")\n",
    "plt.show()"
   ]
  },
  {
   "cell_type": "markdown",
   "metadata": {
    "scrolled": false
   },
   "source": [
    "fig = plt.figure(figsize=(6,5), dpi=100)\n",
    "_ = plt.hist(bkg[\"puWeight\"], bins=100, histtype=\"step\", density=True, label=\"top\", color='blue')\n",
    "plt.title(\"puWeight Background with 0-weight events\")\n",
    "plt.show()"
   ]
  },
  {
   "cell_type": "raw",
   "metadata": {},
   "source": [
    "bkg = bkg[bkg['puWeight'] >= 0.09]"
   ]
  },
  {
   "cell_type": "raw",
   "metadata": {},
   "source": [
    "fig = plt.figure(figsize=(6,5), dpi=100)\n",
    "_ = plt.hist(bkg[\"puWeight\"], bins=100, histtype=\"step\", density=True, label=\"top\", color='blue')\n",
    "plt.title(\"puWeight Background without 0-weight events\")\n",
    "plt.show()"
   ]
  },
  {
   "cell_type": "raw",
   "metadata": {},
   "source": [
    "len(signal)"
   ]
  },
  {
   "cell_type": "raw",
   "metadata": {},
   "source": [
    "len(bkg)"
   ]
  },
  {
   "cell_type": "raw",
   "metadata": {},
   "source": [
    "fig = plt.figure(figsize=(6,5), dpi=100)\n",
    "_ = plt.hist(bkg[\"Pileup_nTrueInt\"], bins=40, histtype=\"step\", density=True, label=\"top\", color='blue')\n",
    "#plt.legend()\n",
    "plt.title(\"Pileup_nTrueInt background 2016\")\n",
    "plt.show()"
   ]
  },
  {
   "cell_type": "raw",
   "metadata": {},
   "source": [
    "a = bkg[\"puWeight\"]\n",
    "b = bkg[\"Pileup_nTrueInt\"]"
   ]
  },
  {
   "cell_type": "raw",
   "metadata": {
    "scrolled": false
   },
   "source": [
    "import matplotlib\n",
    "\n",
    "fig = plt.figure(figsize=(6,5), dpi=100)\n",
    "\n",
    "plt.hist2d(a,b, bins=40, norm=matplotlib.colors.LogNorm(vmin=1,vmax=a.max()))\n",
    "\n",
    "plt.colorbar(extend='max')\n",
    "plt.xlabel(\"puWeight\")\n",
    "plt.ylabel(\"Pileup_nTrueInt\")\n",
    "plt.show()"
   ]
  },
  {
   "cell_type": "markdown",
   "metadata": {},
   "source": [
    "## Check weights Wnn"
   ]
  },
  {
   "cell_type": "raw",
   "metadata": {},
   "source": [
    "from sklearn.preprocessing import StandardScaler, RobustScaler, MinMaxScaler\n",
    "from sklearn.model_selection import train_test_split"
   ]
  },
  {
   "cell_type": "raw",
   "metadata": {},
   "source": [
    "bkg = bkg[bkg['weight_'] >= 0.0028]"
   ]
  },
  {
   "cell_type": "raw",
   "metadata": {},
   "source": [
    "X_sig = signal[config[\"cols\"]].values\n",
    "X_bkg = bkg[config[\"cols\"]].values\n",
    "Y_sig = np.ones(len(X_sig))\n",
    "Y_bkg = np.zeros(len(X_bkg))\n",
    "W_sig = (signal[\"weight_norm\"]).values\n",
    "W_bkg = (bkg[\"weight_norm\"]).values\n",
    "Wnn_sig = (signal[\"weight_\"]).values\n",
    "Wnn_bkg = (bkg[\"weight_\"]).values\n",
    "\n",
    "X = np.vstack([X_sig, X_bkg])\n",
    "Y = np.hstack([Y_sig, Y_bkg])\n",
    "W = np.hstack([W_sig, W_bkg])\n",
    "Wnn = np.hstack([Wnn_sig, Wnn_bkg])"
   ]
  },
  {
   "cell_type": "raw",
   "metadata": {},
   "source": [
    "X_sig_new = signal_new[config[\"cols\"]].values\n",
    "X_bkg_new = bkg_new[config[\"cols\"]].values\n",
    "Y_sig_new = np.ones(len(X_sig_new))\n",
    "Y_bkg_new = np.zeros(len(X_bkg_new))\n",
    "\n",
    "X_new = np.vstack([X_sig_new, X_bkg_new])\n",
    "Y_new = np.hstack([Y_sig_new, Y_bkg_new])"
   ]
  },
  {
   "cell_type": "raw",
   "metadata": {},
   "source": [
    "fig = plt.figure(figsize=(6,5), dpi=100)\n",
    "_ = plt.hist(Wnn_sig, bins=100, histtype=\"step\", color='red', range=(0,0.003))\n",
    "plt.title(\"weights used for the ROC of the DNN for the signal\")\n",
    "plt.show()"
   ]
  },
  {
   "cell_type": "raw",
   "metadata": {},
   "source": [
    "fig = plt.figure(figsize=(6,5), dpi=100)\n",
    "_ = plt.hist(Wnn_bkg, bins=100, histtype=\"step\", color='blue')\n",
    "plt.title(\"weights of DNN ROC for the bkg AFTER the cut of 0-weight events\")\n",
    "#plt.yscale(\"log\")\n",
    "plt.show()"
   ]
  },
  {
   "cell_type": "markdown",
   "metadata": {},
   "source": [
    "## Plotting all variables"
   ]
  },
  {
   "cell_type": "raw",
   "metadata": {},
   "source": [
    "scaler = StandardScaler()\n",
    "X_scaled = scaler.fit_transform(X)"
   ]
  },
  {
   "cell_type": "raw",
   "metadata": {},
   "source": [
    "top = scaler.transform(bkg[bkg.sample_name==\"top\"][config[\"cols\"]].values)"
   ]
  },
  {
   "cell_type": "raw",
   "metadata": {},
   "source": [
    "for idx,col in enumerate(config[\"cols\"]):\n",
    "    fig = plt.figure(figsize=(6,5), dpi=100)\n",
    "    _ = plt.hist(X_scaled[Y==1,idx], bins=100, histtype=\"step\", density=True, label=\"Signal\", color='red')\n",
    "    _ = plt.hist(top[:,idx], bins=100, histtype=\"step\", density=True, label=\"top\", color='blue')\n",
    "    plt.legend()\n",
    "    plt.title(col)\n",
    "    plt.show()"
   ]
  },
  {
   "cell_type": "markdown",
   "metadata": {},
   "source": [
    "## Extracting mjj for ROC"
   ]
  },
  {
   "cell_type": "code",
   "execution_count": 7,
   "metadata": {},
   "outputs": [],
   "source": [
    "signal = signal[(signal['log(mjj)'] >= 500) & (signal[\"detajj\"] >= 3.5)]\n",
    "bkg = bkg[(bkg['log(mjj)'] >= 500) & (bkg[\"detajj\"] >= 3.5)]"
   ]
  },
  {
   "cell_type": "code",
   "execution_count": 8,
   "metadata": {},
   "outputs": [],
   "source": [
    "bins = 26"
   ]
  },
  {
   "cell_type": "code",
   "execution_count": 9,
   "metadata": {},
   "outputs": [
    {
     "data": {
      "image/png": "[encoded data removed]",
      "text/plain": [
       "<Figure size 600x500 with 1 Axes>"
      ]
     },
     "metadata": {
      "needs_background": "light"
     },
     "output_type": "display_data"
    }
   ],
   "source": [
    "fig = plt.figure(figsize=(6,5), dpi=100)\n",
    "_ = plt.hist(signal[\"log(mjj)\"], bins=bins, histtype=\"step\", weights=signal[\"weight_\"], label=\"Signal\", color='red', density = True, range=(500,7000))\n",
    "_ = plt.hist(bkg[\"log(mjj)\"], bins=bins, histtype=\"step\", weights=bkg[\"weight_\"], label=\"top\", color='blue', density = True, range=(500,7000))\n",
    "plt.legend()\n",
    "plt.title(\"mjj\")\n",
    "plt.show()"
   ]
  },
  {
   "cell_type": "code",
   "execution_count": 10,
   "metadata": {},
   "outputs": [
    {
     "data": {
      "image/png": "[encoded data removed]",
      "text/plain": [
       "<Figure size 600x500 with 1 Axes>"
      ]
     },
     "metadata": {
      "needs_background": "light"
     },
     "output_type": "display_data"
    }
   ],
   "source": [
    "fig = plt.figure(figsize=(6,5), dpi=100)\n",
    "n_sig, b, _ = plt.hist(signal[\"log(mjj)\"], bins=bins, histtype=\"step\", weights=signal[\"weight_\"], label=\"Signal\", color='red', range=(500,7000))\n",
    "n_bkg, b, _ = plt.hist(bkg[\"log(mjj)\"], bins=bins, histtype=\"step\", weights=bkg[\"weight_\"], label=\"top\", color='blue', range=(500,7000))\n",
    "plt.legend()\n",
    "plt.title(\"mjj\")\n",
    "plt.show()"
   ]
  },
  {
   "cell_type": "code",
   "execution_count": 11,
   "metadata": {},
   "outputs": [],
   "source": [
    "s_n = 0 \n",
    "for i in range (10,26):\n",
    "    s_n = n_sig[i]+s_n\n",
    "n_sig[9] = n_sig[9]+s_n\n",
    "n_sig = n_sig[0:10]"
   ]
  },
  {
   "cell_type": "code",
   "execution_count": 12,
   "metadata": {},
   "outputs": [],
   "source": [
    "b_n = 0 \n",
    "for i in range (10,26):\n",
    "    b_n = n_bkg[i]+b_n\n",
    "n_bkg[9] = n_bkg[9]+b_n\n",
    "n_bkg = n_bkg[0:10]"
   ]
  },
  {
   "cell_type": "code",
   "execution_count": 13,
   "metadata": {},
   "outputs": [],
   "source": [
    "effS = np.array([])\n",
    "effB = np.array([])\n",
    "\n",
    "for i in range(len(n_sig)):\n",
    "    i = i+1\n",
    "    S = sum(n_sig[-i:len(n_sig)])\n",
    "    effS = np.append(effS, S/sum(n_sig))\n",
    "    \n",
    "for j in range(len(n_bkg)):\n",
    "    j = j+1\n",
    "    B = sum(n_bkg[-j:len(n_bkg)])\n",
    "    effB = np.append(effB, B/sum(n_bkg))"
   ]
  },
  {
   "cell_type": "code",
   "execution_count": 14,
   "metadata": {},
   "outputs": [],
   "source": [
    "# Considero efficienza di segnale e fondo delle selezioni\n",
    "import numpy as np\n",
    "\n",
    "new_effS = np.array([])\n",
    "new_effB = np.array([])\n",
    "\n",
    "for i in range (len(effS)):\n",
    "    add = effS[i]*0.22\n",
    "    new_effS = np.append(new_effS, add)\n",
    "\n",
    "for i in range (len(effB)):\n",
    "    add = effB[i]*0.0032\n",
    "    new_effB = np.append(new_effB, add)"
   ]
  },
  {
   "cell_type": "code",
   "execution_count": 15,
   "metadata": {},
   "outputs": [
    {
     "name": "stdout",
     "output_type": "stream",
     "text": [
      "[0.016652076612578077, 0.023757038079396726, 0.032217423858040994, 0.04384045177270729, 0.06044560846630901, 0.08027106065524124, 0.10612842885543847, 0.14183299417620507, 0.17984879289512745, 0.22]\n",
      "[3.497778481090437e-05, 4.7826936440574375e-05, 7.338039944268233e-05, 0.00012268326782301716, 0.00019543387438956898, 0.0003417175685593304, 0.0005615704329733347, 0.0009313912952099339, 0.001717398612972831, 0.0032]\n"
     ]
    }
   ],
   "source": [
    "print(new_effS.tolist())\n",
    "print(new_effB.tolist())"
   ]
  },
  {
   "cell_type": "code",
   "execution_count": null,
   "metadata": {},
   "outputs": [],
   "source": []
  }
 ],
 "metadata": {
  "kernelspec": {
   "display_name": "Python 3",
   "language": "python",
   "name": "python3"
  },
  "language_info": {
   "codemirror_mode": {
    "name": "ipython",
    "version": 3
   },
   "file_extension": ".py",
   "mimetype": "text/x-python",
   "name": "python",
   "nbconvert_exporter": "python",
   "pygments_lexer": "ipython3",
   "version": "3.7.6"
  }
 },
 "nbformat": 4,
 "nbformat_minor": 4
}
