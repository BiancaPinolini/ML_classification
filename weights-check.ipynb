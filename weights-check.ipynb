{
 "cells": [
  {
   "cell_type": "code",
   "execution_count": 1,
   "metadata": {},
   "outputs": [],
   "source": [
    "import pandas as pd\n",
    "import numpy as np\n",
    "import matplotlib as mpl\n",
    "import matplotlib.pyplot as plt"
   ]
  },
  {
   "cell_type": "code",
   "execution_count": 2,
   "metadata": {},
   "outputs": [],
   "source": [
    "config = {\n",
    "    \"base_dir\":        \"/eos/home-b/bpinolin/ML_output/\",\n",
    "    \"plot_config\":     \"VBSOS\",\n",
    "    \"cut\":             \"sr\",\n",
    "    \"samples_version\": \"mjj_v7/highZ\",\n",
    "    \"cols\": [\n",
    "             'detajj',\n",
    "             'ptll',\n",
    "             'detall',        \n",
    "             'jetpt1', \n",
    "             'jetpt2', \n",
    "             'met',\n",
    "             'dphill',\n",
    "             'dphijj',\n",
    "             'Mll',\n",
    "             'btag_central',\n",
    "             'btag_forward',\n",
    "             'dR_jl1',\n",
    "             'dR_jl2',\n",
    "             'Zeppll',\n",
    "             'mjj',\n",
    "             'Zepp1',\n",
    "             'Zepp2',\n",
    "             'eta1',\n",
    "             'eta2',\n",
    "             'qgl_forward',\n",
    "             'qgl_central',\n",
    "            ],\n",
    "}"
   ]
  },
  {
   "cell_type": "code",
   "execution_count": 3,
   "metadata": {},
   "outputs": [],
   "source": [
    "ye = \"2018\""
   ]
  },
  {
   "cell_type": "code",
   "execution_count": 4,
   "metadata": {},
   "outputs": [],
   "source": [
    "import os\n",
    "\n",
    "config_base_dir = os.path.join(config[\"base_dir\"], config[\"plot_config\"])\n",
    "# load numpy\n",
    "samples_dir = os.path.join(config_base_dir, config[\"cut\"] , \"samples\", config[\"samples_version\"])\n",
    "file_sig_bal = os.path.join(samples_dir, \"for_training_\"+ye+\"/signal_balanced.pkl\")\n",
    "file_bkg_bal = os.path.join(samples_dir, \"for_training_\"+ye+\"/background_balanced.pkl\")"
   ]
  },
  {
   "cell_type": "code",
   "execution_count": 5,
   "metadata": {},
   "outputs": [],
   "source": [
    "import pickle\n",
    "signal = pickle.load(open(file_sig_bal, \"rb\"))\n",
    "bkg = pickle.load(open(file_bkg_bal, \"rb\"))"
   ]
  },
  {
   "cell_type": "code",
   "execution_count": 6,
   "metadata": {},
   "outputs": [],
   "source": [
    "bkg = bkg.dropna()\n",
    "signal = signal.dropna()"
   ]
  },
  {
   "cell_type": "raw",
   "metadata": {},
   "source": [
    "signal[\"log(mjj)\"] = np.log(signal['mjj'])\n",
    "bkg[\"log(mjj)\"] = np.log(bkg['mjj'])\n",
    "\n",
    "signal[\"log(jetpt1)\"] = np.log(signal['jetpt1'])\n",
    "bkg[\"log(jetpt1)\"] = np.log(bkg['jetpt1'])\n",
    "\n",
    "signal[\"log(jetpt2)\"] = np.log(signal['jetpt2'])\n",
    "bkg[\"log(jetpt2)\"] = np.log(bkg['jetpt2'])"
   ]
  },
  {
   "cell_type": "raw",
   "metadata": {},
   "source": [
    "var = 'Jet_nConst_forward'\n",
    "bins = 14\n",
    "ran = (5,40)\n",
    "\n",
    "fig = plt.figure(figsize=(6,5), dpi=100)\n",
    "_ = plt.hist(signal[var], bins=bins, histtype=\"step\", density=True, label=\"Signal\", color='red', range=ran)\n",
    "_ = plt.hist(bkg[var], bins=bins, histtype=\"step\", density=True, label=\"top\", color='blue', range=ran)\n",
    "plt.legend()\n",
    "plt.title(var)\n",
    "plt.show()"
   ]
  },
  {
   "cell_type": "raw",
   "metadata": {
    "scrolled": false
   },
   "source": [
    "for col in config[\"cols\"]:\n",
    "    fig = plt.figure(figsize=(6,5), dpi=100)\n",
    "    _ = plt.hist(signal[col], bins=30, histtype=\"step\", density=True, color=\"red\", label=\"Signal\")\n",
    "    _ = plt.hist(bkg[col], bins=30, histtype=\"step\", density=True, color=\"blue\", label=\"Top\")\n",
    "    plt.legend()\n",
    "    plt.xlabel(col)"
   ]
  },
  {
   "cell_type": "markdown",
   "metadata": {},
   "source": [
    "## Comparing train and test"
   ]
  },
  {
   "cell_type": "raw",
   "metadata": {},
   "source": [
    "# signal_new = signal\n",
    "bkg_new = bkg"
   ]
  },
  {
   "cell_type": "raw",
   "metadata": {},
   "source": [
    "for col in config[\"cols\"]:\n",
    "    fig = plt.figure(figsize=(6,5), dpi=100)\n",
    "    n_S, S, _ = plt.hist(signal[col], bins=100, histtype=\"step\", density=True, label=\"Test samples\")\n",
    "    n_T, T, _ = plt.hist(signal_new[col], bins=100, histtype=\"step\", density=True, label=\"Train samples\")\n",
    "    plt.legend()\n",
    "    plt.xlabel(col)\n",
    "    plt.title(\"Signal comparison\")\n",
    "    #plt.savefig(\"/eos/home-b/bpinolin/SWAN_projects/ML_classification/plots/Train-Test-comp/Signal_\"+col+\".png\")\n",
    "    #plt.show()"
   ]
  },
  {
   "cell_type": "raw",
   "metadata": {},
   "source": [
    "import matplotlib.pyplot as plt\n",
    "from numpy.random import normal\n",
    "\n",
    "y = []"
   ]
  },
  {
   "cell_type": "raw",
   "metadata": {},
   "source": [
    "signal = signal[signal['mjj']<=4500]\n",
    "signal_new = signal_new[signal_new['mjj']<=4500]"
   ]
  },
  {
   "cell_type": "raw",
   "metadata": {},
   "source": [
    "y.append(signal[\"mjj\"])\n",
    "y.append(signal_new[\"mjj\"])"
   ]
  },
  {
   "cell_type": "raw",
   "metadata": {},
   "source": [
    "fig, (ax1, ax2) = plt.subplots(nrows=2, figsize=(6,5), dpi=100)\n",
    "\n",
    "\n",
    "ns, bins, patches = ax1.hist(y, density=True, histtype='step', bins=10, label=['Test','Train'])\n",
    "\n",
    "ax1.legend()\n",
    "\n",
    "ax2.bar(bins[:-1], ns[0] / ns[1], width=0.99)\n",
    "\n",
    "ax2.set_ylabel('Ratio')\n",
    "\n",
    "ax1.set_title(\"Signal mjj\")\n",
    "#ax2.set_ylabel('Ratio (a/b)')"
   ]
  },
  {
   "cell_type": "markdown",
   "metadata": {},
   "source": [
    "## Plotting weights"
   ]
  },
  {
   "cell_type": "raw",
   "metadata": {
    "scrolled": false
   },
   "source": [
    "fig = plt.figure(figsize=(6,5), dpi=100)\n",
    "_ = plt.hist(signal[\"puWeight\"], bins=100, histtype=\"step\", label=\"Signal\", color='red', range=(0,3.5))\n",
    "plt.title(\"puWeight Signal with 0-weight events\")\n",
    "plt.show()"
   ]
  },
  {
   "cell_type": "raw",
   "metadata": {},
   "source": [
    "signal = signal[signal['puWeight'] >= 0.01]"
   ]
  },
  {
   "cell_type": "raw",
   "metadata": {},
   "source": [
    "fig = plt.figure(figsize=(6,5), dpi=100)\n",
    "_ = plt.hist(signal[\"puWeight\"], bins=100, histtype=\"step\", label=\"Signal\", color='red')\n",
    "plt.title(\"puWeight Signal without 0-weight events\")\n",
    "plt.show()"
   ]
  },
  {
   "cell_type": "markdown",
   "metadata": {
    "scrolled": false
   },
   "source": [
    "fig = plt.figure(figsize=(6,5), dpi=100)\n",
    "_ = plt.hist(bkg[\"puWeight\"], bins=100, histtype=\"step\", density=True, label=\"top\", color='blue')\n",
    "plt.title(\"puWeight Background with 0-weight events\")\n",
    "plt.show()"
   ]
  },
  {
   "cell_type": "raw",
   "metadata": {},
   "source": [
    "bkg = bkg[bkg['puWeight'] >= 0.09]"
   ]
  },
  {
   "cell_type": "raw",
   "metadata": {},
   "source": [
    "fig = plt.figure(figsize=(6,5), dpi=100)\n",
    "_ = plt.hist(bkg[\"puWeight\"], bins=100, histtype=\"step\", density=True, label=\"top\", color='blue')\n",
    "plt.title(\"puWeight Background without 0-weight events\")\n",
    "plt.show()"
   ]
  },
  {
   "cell_type": "raw",
   "metadata": {},
   "source": [
    "len(signal)"
   ]
  },
  {
   "cell_type": "raw",
   "metadata": {},
   "source": [
    "len(bkg)"
   ]
  },
  {
   "cell_type": "raw",
   "metadata": {},
   "source": [
    "fig = plt.figure(figsize=(6,5), dpi=100)\n",
    "_ = plt.hist(bkg[\"Pileup_nTrueInt\"], bins=40, histtype=\"step\", density=True, label=\"top\", color='blue')\n",
    "#plt.legend()\n",
    "plt.title(\"Pileup_nTrueInt background 2016\")\n",
    "plt.show()"
   ]
  },
  {
   "cell_type": "raw",
   "metadata": {},
   "source": [
    "a = bkg[\"puWeight\"]\n",
    "b = bkg[\"Pileup_nTrueInt\"]"
   ]
  },
  {
   "cell_type": "raw",
   "metadata": {
    "scrolled": false
   },
   "source": [
    "import matplotlib\n",
    "\n",
    "fig = plt.figure(figsize=(6,5), dpi=100)\n",
    "\n",
    "plt.hist2d(a,b, bins=40, norm=matplotlib.colors.LogNorm(vmin=1,vmax=a.max()))\n",
    "\n",
    "plt.colorbar(extend='max')\n",
    "plt.xlabel(\"puWeight\")\n",
    "plt.ylabel(\"Pileup_nTrueInt\")\n",
    "plt.show()"
   ]
  },
  {
   "cell_type": "markdown",
   "metadata": {},
   "source": [
    "## Check weights Wnn"
   ]
  },
  {
   "cell_type": "raw",
   "metadata": {},
   "source": [
    "from sklearn.preprocessing import StandardScaler, RobustScaler, MinMaxScaler\n",
    "from sklearn.model_selection import train_test_split"
   ]
  },
  {
   "cell_type": "raw",
   "metadata": {},
   "source": [
    "bkg = bkg[bkg['weight_'] >= 0.0028]"
   ]
  },
  {
   "cell_type": "raw",
   "metadata": {},
   "source": [
    "X_sig = signal[config[\"cols\"]].values\n",
    "X_bkg = bkg[config[\"cols\"]].values\n",
    "Y_sig = np.ones(len(X_sig))\n",
    "Y_bkg = np.zeros(len(X_bkg))\n",
    "W_sig = (signal[\"weight_norm\"]).values\n",
    "W_bkg = (bkg[\"weight_norm\"]).values\n",
    "Wnn_sig = (signal[\"weight_\"]).values\n",
    "Wnn_bkg = (bkg[\"weight_\"]).values\n",
    "\n",
    "X = np.vstack([X_sig, X_bkg])\n",
    "Y = np.hstack([Y_sig, Y_bkg])\n",
    "W = np.hstack([W_sig, W_bkg])\n",
    "Wnn = np.hstack([Wnn_sig, Wnn_bkg])"
   ]
  },
  {
   "cell_type": "raw",
   "metadata": {},
   "source": [
    "X_sig_new = signal_new[config[\"cols\"]].values\n",
    "X_bkg_new = bkg_new[config[\"cols\"]].values\n",
    "Y_sig_new = np.ones(len(X_sig_new))\n",
    "Y_bkg_new = np.zeros(len(X_bkg_new))\n",
    "\n",
    "X_new = np.vstack([X_sig_new, X_bkg_new])\n",
    "Y_new = np.hstack([Y_sig_new, Y_bkg_new])"
   ]
  },
  {
   "cell_type": "raw",
   "metadata": {},
   "source": [
    "fig = plt.figure(figsize=(6,5), dpi=100)\n",
    "_ = plt.hist(Wnn_sig, bins=100, histtype=\"step\", color='red', range=(0,0.003))\n",
    "plt.title(\"weights used for the ROC of the DNN for the signal\")\n",
    "plt.show()"
   ]
  },
  {
   "cell_type": "raw",
   "metadata": {},
   "source": [
    "fig = plt.figure(figsize=(6,5), dpi=100)\n",
    "_ = plt.hist(Wnn_bkg, bins=100, histtype=\"step\", color='blue')\n",
    "plt.title(\"weights of DNN ROC for the bkg AFTER the cut of 0-weight events\")\n",
    "#plt.yscale(\"log\")\n",
    "plt.show()"
   ]
  },
  {
   "cell_type": "markdown",
   "metadata": {},
   "source": [
    "## Plotting all variables"
   ]
  },
  {
   "cell_type": "raw",
   "metadata": {},
   "source": [
    "## draw input variables\n",
    "\n",
    "for var in config[\"cols\"]:\n",
    "    fig = plt.figure(figsize=(6,5), dpi=100)\n",
    "    _ = plt.hist(signal[var], bins=20, histtype=\"step\", density=True, label=\"Signal\", color='red')\n",
    "    _ = plt.hist(bkg[var], bins=20, histtype=\"step\", density=True, label=\"top\", color='blue')\n",
    "    plt.legend()\n",
    "    plt.title(var)\n",
    "    plt.show()"
   ]
  },
  {
   "cell_type": "raw",
   "metadata": {},
   "source": [
    "scaler = StandardScaler()\n",
    "X_scaled = scaler.fit_transform(X)"
   ]
  },
  {
   "cell_type": "raw",
   "metadata": {},
   "source": [
    "top = scaler.transform(bkg[bkg.sample_name==\"top\"][config[\"cols\"]].values)"
   ]
  },
  {
   "cell_type": "raw",
   "metadata": {},
   "source": [
    "for idx,col in enumerate(config[\"cols\"]):\n",
    "    fig = plt.figure(figsize=(6,5), dpi=100)\n",
    "    _ = plt.hist(X_scaled[Y==1,idx], bins=100, histtype=\"step\", density=True, label=\"Signal\", color='red')\n",
    "    _ = plt.hist(top[:,idx], bins=100, histtype=\"step\", density=True, label=\"top\", color='blue')\n",
    "    plt.legend()\n",
    "    plt.title(col)\n",
    "    plt.show()"
   ]
  },
  {
   "cell_type": "markdown",
   "metadata": {},
   "source": [
    "## Extracting mjj for ROC"
   ]
  },
  {
   "cell_type": "code",
   "execution_count": 7,
   "metadata": {},
   "outputs": [],
   "source": [
    "signal = signal[(signal['mjj'] >= 500) & (signal[\"detajj\"] >= 3.5)]\n",
    "bkg = bkg[(bkg['mjj'] >= 500) & (bkg[\"detajj\"] >= 3.5)]"
   ]
  },
  {
   "cell_type": "markdown",
   "metadata": {},
   "source": [
    "#v6 \n",
    "\n",
    "sig_tot = 51435\n",
    "bkg_tot = 1733357\n",
    "\n",
    "eS = round(len(signal)/sig_tot,3)\n",
    "eB = round(len(bkg)/bkg_tot,3)\n",
    "\n",
    "print(\"Queste percentuali vengono utilizzate per la ROC di mjj\")\n",
    "print(\"% signal = \", eS)\n",
    "print(\"% bkg = \", eB)\n",
    "\n"
   ]
  },
  {
   "cell_type": "code",
   "execution_count": 8,
   "metadata": {},
   "outputs": [],
   "source": [
    "# v7 \n",
    "low_sig = 24035\n",
    "low_bkg = 117863\n",
    "high_sig = 9944\n",
    "high_bkg = 91882\n",
    "\n",
    "low_sig_2016 = 2257\n",
    "low_bkg_2016 = 62870\n",
    "low_sig_2017 = 11050\n",
    "low_bkg_2017 = 8435\n",
    "low_sig_2018 = 10728\n",
    "low_bkg_2018 = 46558\n",
    "\n",
    "high_sig_2016 = 901\n",
    "high_bkg_2016 = 48379\n",
    "high_sig_2017 = 4582\n",
    "high_bkg_2017 = 7306\n",
    "high_sig_2018 = 4461\n",
    "high_bkg_2018 = 36197"
   ]
  },
  {
   "cell_type": "code",
   "execution_count": 9,
   "metadata": {},
   "outputs": [
    {
     "name": "stdout",
     "output_type": "stream",
     "text": [
      "Queste percentuali vengono utilizzate per la ROC di mjj\n",
      "% signal =  0.441\n",
      "% bkg =  0.118\n"
     ]
    }
   ],
   "source": [
    "eS = round(len(signal)/high_sig_2018,3)\n",
    "eB = round(len(bkg)/high_bkg_2018,3)\n",
    "\n",
    "print(\"Queste percentuali vengono utilizzate per la ROC di mjj\")\n",
    "print(\"% signal = \", eS)\n",
    "print(\"% bkg = \", eB)"
   ]
  },
  {
   "cell_type": "code",
   "execution_count": 10,
   "metadata": {},
   "outputs": [],
   "source": [
    "bins = 26"
   ]
  },
  {
   "cell_type": "code",
   "execution_count": 11,
   "metadata": {},
   "outputs": [
    {
     "data": {
      "image/png": "[encoded data removed]",
      "text/plain": [
       "<Figure size 600x500 with 1 Axes>"
      ]
     },
     "metadata": {
      "needs_background": "light"
     },
     "output_type": "display_data"
    }
   ],
   "source": [
    "fig = plt.figure(figsize=(6,5), dpi=100)\n",
    "_ = plt.hist(signal[\"mjj\"], bins=10, histtype=\"step\", label=\"Signal\", color='red', density = True, range=(500,3000))\n",
    "_ = plt.hist(bkg[\"mjj\"], bins=10, histtype=\"step\", label=\"top\", color='blue', density = True, range=(500,3000))\n",
    "plt.legend()\n",
    "plt.title(\"mjj\")\n",
    "plt.show()"
   ]
  },
  {
   "cell_type": "code",
   "execution_count": 12,
   "metadata": {},
   "outputs": [
    {
     "data": {
      "image/png": "[encoded data removed]",
      "text/plain": [
       "<Figure size 600x500 with 1 Axes>"
      ]
     },
     "metadata": {
      "needs_background": "light"
     },
     "output_type": "display_data"
    }
   ],
   "source": [
    "fig = plt.figure(figsize=(6,5), dpi=100)\n",
    "_ = plt.hist(signal[\"mjj\"], bins=bins, histtype=\"step\", label=\"Signal\", color='red', density = True, range=(500,7000))\n",
    "_ = plt.hist(bkg[\"mjj\"], bins=bins, histtype=\"step\", label=\"top\", color='blue', density = True, range=(500,7000))\n",
    "plt.legend()\n",
    "plt.title(\"mjj\")\n",
    "plt.show()"
   ]
  },
  {
   "cell_type": "code",
   "execution_count": 13,
   "metadata": {},
   "outputs": [
    {
     "data": {
      "image/png": "[encoded data removed]",
      "text/plain": [
       "<Figure size 600x500 with 1 Axes>"
      ]
     },
     "metadata": {
      "needs_background": "light"
     },
     "output_type": "display_data"
    }
   ],
   "source": [
    "fig = plt.figure(figsize=(6,5), dpi=100)\n",
    "n_sig, b, _ = plt.hist(signal[\"mjj\"], bins=bins, histtype=\"step\", weights=signal[\"weight_\"], label=\"Signal\", color='red', range=(500,7000))\n",
    "n_bkg, b, _ = plt.hist(bkg[\"mjj\"], bins=bins, histtype=\"step\", weights=bkg[\"weight_\"], label=\"top\", color='blue', range=(500,7000))\n",
    "plt.legend()\n",
    "plt.title(\"mjj\")\n",
    "plt.show()"
   ]
  },
  {
   "cell_type": "code",
   "execution_count": 14,
   "metadata": {},
   "outputs": [],
   "source": [
    "s_n = 0 \n",
    "for i in range (10,26):\n",
    "    s_n = n_sig[i]+s_n\n",
    "n_sig[9] = n_sig[9]+s_n\n",
    "n_sig = n_sig[0:10]"
   ]
  },
  {
   "cell_type": "code",
   "execution_count": 15,
   "metadata": {},
   "outputs": [],
   "source": [
    "b_n = 0 \n",
    "for i in range (10,26):\n",
    "    b_n = n_bkg[i]+b_n\n",
    "n_bkg[9] = n_bkg[9]+b_n\n",
    "n_bkg = n_bkg[0:10]"
   ]
  },
  {
   "cell_type": "code",
   "execution_count": 16,
   "metadata": {},
   "outputs": [],
   "source": [
    "effS = np.array([])\n",
    "effB = np.array([])\n",
    "\n",
    "for i in range(len(n_sig)):\n",
    "    i = i+1\n",
    "    S = sum(n_sig[-i:len(n_sig)])\n",
    "    effS = np.append(effS, S/sum(n_sig))\n",
    "    \n",
    "for j in range(len(n_bkg)):\n",
    "    j = j+1\n",
    "    B = sum(n_bkg[-j:len(n_bkg)])\n",
    "    effB = np.append(effB, B/sum(n_bkg))"
   ]
  },
  {
   "cell_type": "code",
   "execution_count": 17,
   "metadata": {},
   "outputs": [],
   "source": [
    "# Considero efficienza di segnale e fondo delle selezioni\n",
    "import numpy as np\n",
    "\n",
    "new_effS = np.array([])\n",
    "new_effB = np.array([])\n",
    "\n",
    "for i in range (len(effS)):\n",
    "    add = effS[i]*eS\n",
    "    new_effS = np.append(new_effS, add)\n",
    "\n",
    "for i in range (len(effB)):\n",
    "    add = effB[i]*eB\n",
    "    new_effB = np.append(new_effB, add)"
   ]
  },
  {
   "cell_type": "code",
   "execution_count": 18,
   "metadata": {},
   "outputs": [
    {
     "name": "stdout",
     "output_type": "stream",
     "text": [
      "[0.0340792876588319, 0.05002357780465735, 0.06340670238977562, 0.0897102026676778, 0.12380841055718458, 0.1631812074565937, 0.21454378228086488, 0.2839574220418111, 0.361440289640627, 0.441]\n",
      "[0.0009966453819907053, 0.0016485309563382883, 0.002336394421737882, 0.0037495174065071187, 0.006325236369068179, 0.011544500257885299, 0.020208001145836218, 0.03493040976849165, 0.06259881478771019, 0.118]\n"
     ]
    }
   ],
   "source": [
    "print(new_effS.tolist())\n",
    "print(new_effB.tolist())"
   ]
  },
  {
   "cell_type": "code",
   "execution_count": 19,
   "metadata": {},
   "outputs": [],
   "source": [
    "#lowZ\n",
    "effS = [0.040736472838376614, 0.05592562623469381, 0.07529862873688523, 0.10234279953073973, 0.13693768198893794, 0.18217557243460117, 0.23630815018365495, 0.30505888526302605, 0.3819601920044726, 0.454]\n",
    "effB = [0.001075247949232022, 0.0015620747593655096, 0.002264210950241044, 0.0031539771722153493, 0.004669219640331847, 0.007975161961550653, 0.013339413847672394, 0.023428039433529148, 0.04283398824289765, 0.085]"
   ]
  },
  {
   "cell_type": "code",
   "execution_count": 20,
   "metadata": {},
   "outputs": [],
   "source": [
    "#highZ\n",
    "effS = [0, 0.03479523631328408, 0.04869692682234104, 0.06424209753284536, 0.09000961687265412, 0.1225713588821826, 0.16453253671610635, 0.21817307288143747, 0.28825310983642677, 0.3709494388387954, 0.453]\n",
    "effB = [0, 0.0006909014245792193, 0.0011881134640089048, 0.0017806344125014413, 0.0030796128289360142, 0.0050430705116278705, 0.00987160689445902, 0.019265550843253657, 0.03417609550930723, 0.061353772346771494, 0.118]"
   ]
  },
  {
   "cell_type": "code",
   "execution_count": 21,
   "metadata": {},
   "outputs": [],
   "source": [
    "#lowZ_2016\n",
    "effS = [0, 0.04073459170740681, 0.05710113542555851, 0.07613402052124975, 0.09798413668847471, 0.13778335892434188, 0.18606329549405073, 0.2389362851366623, 0.3124086021752812, 0.3980387511444776, 0.474]\n",
    "effB = [0, 0.0009646524417219953, 0.0015044727935291096, 0.0021702838626095748, 0.0030014821573354764, 0.004834352741713671, 0.007740799873624115, 0.012998052288319318, 0.02193276516729728, 0.04125777504581491, 0.082]"
   ]
  },
  {
   "cell_type": "code",
   "execution_count": 22,
   "metadata": {},
   "outputs": [],
   "source": [
    "#lowZ_2017\n",
    "effS = [0, 0.0345532238342732, 0.04690953444688321, 0.06552355749390308, 0.09233668706236772, 0.12577057797848304, 0.17004879626641253, 0.2260985021929782, 0.29564366693092814, 0.37608694241556506, 0.453]\n",
    "effB = [0, 0.0014468728869540574, 0.001989029874749897, 0.0029713063490725707, 0.0037165596753267896, 0.005187022603619501, 0.009437853020820682, 0.015051409654965342, 0.027085145054930405, 0.04797114049059617, 0.096]"
   ]
  },
  {
   "cell_type": "code",
   "execution_count": 23,
   "metadata": {},
   "outputs": [],
   "source": [
    "#lowZ_2018\n",
    "effS = [0, 0.044851511352654264, 0.061403111183579155, 0.08156960435053123, 0.11117737918709028, 0.14467043378299185, 0.1896896064115783, 0.24375413416548064, 0.3107854347428993, 0.382752539357105, 0.451]\n",
    "effB = [0, 0.0010047672747616606, 0.0014776974629195506, 0.002085638806448078, 0.003217712486019244, 0.004751624200330773, 0.008016822765273202, 0.013899354462467374, 0.024489639471684355, 0.045176368703367435, 0.089]"
   ]
  },
  {
   "cell_type": "code",
   "execution_count": 24,
   "metadata": {},
   "outputs": [],
   "source": [
    "#highZ_2016\n",
    "effS = [0, 0.03750581172848121, 0.04694916807938441, 0.06557749542055273, 0.09090875360571196, 0.12109668052587204, 0.16561400059043307, 0.21895084412831, 0.28428614305680316, 0.38003767367452745, 0.469]\n",
    "effB = [0, 0.0006481525942471852, 0.0011017388265213367, 0.001832315535591636, 0.0032407622054924255, 0.005608318562376584, 0.010623218235661586, 0.018898220400150878, 0.033105814456889336, 0.061618066678400536, 0.118]"
   ]
  },
  {
   "cell_type": "code",
   "execution_count": 25,
   "metadata": {},
   "outputs": [],
   "source": [
    "#highZ_2017\n",
    "effS = [0, 0.03419320737147321, 0.04765873528610692, 0.06471545906559502, 0.08988703727965194, 0.12147984976655476, 0.16597835143317763, 0.22349969061721264, 0.29771258038786963, 0.3804019815171224, 0.462]\n",
    "effB = [0, 0.00033842017629959014, 0.0006729940466291922, 0.0010477024110872935, 0.0021256931682145865, 0.0030342763632688406, 0.0072405963203804645, 0.018346919678604565, 0.033994112082928865, 0.05960597050499501, 0.118]"
   ]
  },
  {
   "cell_type": "code",
   "execution_count": 26,
   "metadata": {},
   "outputs": [],
   "source": [
    "#highZ_2018\n",
    "effS = [0, 0.0340792876588319, 0.05002357780465735, 0.06340670238977562, 0.0897102026676778, 0.12380841055718458, 0.1631812074565937, 0.21454378228086488, 0.2839574220418111, 0.361440289640627, 0.441]\n",
    "effB = [0, 0.0009966453819907053, 0.0016485309563382883, 0.002336394421737882, 0.0037495174065071187, 0.006325236369068179, 0.011544500257885299, 0.020208001145836218, 0.03493040976849165, 0.06259881478771019, 0.118]"
   ]
  },
  {
   "cell_type": "code",
   "execution_count": 27,
   "metadata": {},
   "outputs": [],
   "source": [
    "#loose_highZ_v6\n",
    "effS = [0.005833038446435099, 0.008721293796773017, 0.011650806761574352, 0.01664890135125221, 0.022899812915647667, 0.03076327166080431, 0.042458057098190116, 0.05673653619027725, 0.07442631981310047, 0.093]\n",
    "effB = [3.7459287019305e-05, 6.648439084312007e-05, 0.00010834895276814026, 0.00017534211085604967, 0.0002983938504988536, 0.0005998124242305254, 0.001038762860234798, 0.0017248107243469253, 0.0032129149399471014, 0.006]"
   ]
  },
  {
   "cell_type": "code",
   "execution_count": 28,
   "metadata": {},
   "outputs": [],
   "source": [
    "#loose_lowZ_v6\n",
    "effS = [0.017641963851241026, 0.024306848986602788, 0.03292895992210296, 0.04600748957769348, 0.061723765160101945, 0.0832576891185893, 0.11126097142921929, 0.14591573776311473, 0.1845723948378583, 0.222]\n",
    "effB = [5.7822175904867295e-05, 8.63281516447751e-05, 0.0001264453488047206, 0.00019671040643474963, 0.00030328983596466716, 0.0005426713654973182, 0.0009067261879144509, 0.0016212367755612572, 0.003048036812689291, 0.006]"
   ]
  }
 ],
 "metadata": {
  "kernelspec": {
   "display_name": "Python 3",
   "language": "python",
   "name": "python3"
  },
  "language_info": {
   "codemirror_mode": {
    "name": "ipython",
    "version": 3
   },
   "file_extension": ".py",
   "mimetype": "text/x-python",
   "name": "python",
   "nbconvert_exporter": "python",
   "pygments_lexer": "ipython3",
   "version": "3.7.6"
  }
 },
 "nbformat": 4,
 "nbformat_minor": 4
}
