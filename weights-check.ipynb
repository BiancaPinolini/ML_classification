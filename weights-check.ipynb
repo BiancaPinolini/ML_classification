{
 "cells": [
  {
   "cell_type": "code",
   "execution_count": 1,
   "metadata": {},
   "outputs": [],
   "source": [
    "import pandas as pd\n",
    "import numpy as np\n",
    "import matplotlib as mpl\n",
    "import matplotlib.pyplot as plt"
   ]
  },
  {
   "cell_type": "code",
   "execution_count": 2,
   "metadata": {},
   "outputs": [],
   "source": [
    "config = {\n",
    "    \"base_dir\":        \"/eos/home-b/bpinolin/ML_output/\",\n",
    "    \"plot_config\":     \"VBSOS\",\n",
    "    \"cut\":             \"sr\",\n",
    "    \"samples_version\": \"mjj_v7/top_WW/highZ\",\n",
    "    \"cols\": [\n",
    "             'detajj',\n",
    "             'ptll',\n",
    "             'detall',        \n",
    "             'jetpt1', \n",
    "             'jetpt2', \n",
    "             'met',\n",
    "             'dphill',\n",
    "             'dphijj',\n",
    "             'Mll',\n",
    "             'dR_jl1',\n",
    "             'dR_jl2',\n",
    "             'mjj',\n",
    "             'Zepp1',\n",
    "             'Zepp2',\n",
    "             'qgl_forward',\n",
    "             'qgl_central',\n",
    "             'mtw1',\n",
    "             'mtw2'\n",
    "            ],\n",
    "}"
   ]
  },
  {
   "cell_type": "code",
   "execution_count": 3,
   "metadata": {},
   "outputs": [],
   "source": [
    "ye = \"2017\""
   ]
  },
  {
   "cell_type": "code",
   "execution_count": 4,
   "metadata": {},
   "outputs": [],
   "source": [
    "# import os\n",
    "\n",
    "# config_base_dir = os.path.join(config[\"base_dir\"], config[\"plot_config\"])\n",
    "# # load numpy\n",
    "# samples_dir = os.path.join(config_base_dir, config[\"cut\"] , \"samples\", config[\"samples_version\"])\n",
    "# file_sig_bal = os.path.join(samples_dir, \"for_training/signal_balanced.pkl\")\n",
    "# file_bkg_bal = os.path.join(samples_dir, \"for_training/background_balanced.pkl\")"
   ]
  },
  {
   "cell_type": "code",
   "execution_count": 5,
   "metadata": {},
   "outputs": [],
   "source": [
    "import os\n",
    "\n",
    "config_base_dir = os.path.join(config[\"base_dir\"], config[\"plot_config\"])\n",
    "# load numpy\n",
    "samples_dir = os.path.join(config_base_dir, config[\"cut\"] , \"samples\", config[\"samples_version\"])\n",
    "file_sig_bal = os.path.join(samples_dir, \"for_training_\"+ye+\"/signal_balanced.pkl\")\n",
    "file_bkg_bal = os.path.join(samples_dir, \"for_training_\"+ye+\"/background_balanced.pkl\")"
   ]
  },
  {
   "cell_type": "code",
   "execution_count": 6,
   "metadata": {},
   "outputs": [],
   "source": [
    "import pickle\n",
    "signal = pickle.load(open(file_sig_bal, \"rb\"))\n",
    "bkg = pickle.load(open(file_bkg_bal, \"rb\"))"
   ]
  },
  {
   "cell_type": "code",
   "execution_count": 7,
   "metadata": {},
   "outputs": [],
   "source": [
    "bkg = bkg.dropna()\n",
    "signal = signal.dropna()"
   ]
  },
  {
   "cell_type": "markdown",
   "metadata": {},
   "source": [
    "## Comparing train and test"
   ]
  },
  {
   "cell_type": "raw",
   "metadata": {},
   "source": [
    "signal_train = signal\n",
    "bkg_train = bkg"
   ]
  },
  {
   "cell_type": "raw",
   "metadata": {},
   "source": [
    "for col in config[\"cols\"]:\n",
    "    fig = plt.figure(figsize=(6,5), dpi=100)\n",
    "    n_S, S, _ = plt.hist(bkg[col], bins=100, histtype=\"step\", density=True, label=\"Test samples\")\n",
    "    n_T, T, _ = plt.hist(bkg_train[col], bins=100, histtype=\"step\", density=True, label=\"Train samples\")\n",
    "    plt.legend()\n",
    "    plt.xlabel(col)\n",
    "    plt.title(\"Background comparison\")\n",
    "    plt.savefig(\"/eos/home-b/bpinolin/SWAN_projects/ML_classification/plots/Train-Test_v7/Background_\"+col+\".png\")\n",
    "    plt.show()"
   ]
  },
  {
   "cell_type": "raw",
   "metadata": {},
   "source": [
    "for col in config[\"cols\"]:\n",
    "    fig = plt.figure(figsize=(6,5), dpi=100)\n",
    "    n_S, S, _ = plt.hist(signal[col], bins=100, histtype=\"step\", density=True, label=\"Test samples\")\n",
    "    n_T, T, _ = plt.hist(signal_train[col], bins=100, histtype=\"step\", density=True, label=\"Train samples\")\n",
    "    plt.legend()\n",
    "    plt.xlabel(col)\n",
    "    plt.title(\"Signal comparison\")\n",
    "    plt.savefig(\"/eos/home-b/bpinolin/SWAN_projects/ML_classification/plots/Train-Test_v7/Signal_\"+col+\".png\")\n",
    "    plt.show()"
   ]
  },
  {
   "cell_type": "markdown",
   "metadata": {},
   "source": [
    "## Plotting weights"
   ]
  },
  {
   "cell_type": "raw",
   "metadata": {
    "scrolled": false
   },
   "source": [
    "fig = plt.figure(figsize=(6,5), dpi=100)\n",
    "_ = plt.hist(signal[\"puWeight\"], bins=100, histtype=\"step\", label=\"Signal\", color='red', range=(0,3.5))\n",
    "plt.title(\"puWeight Signal with 0-weight events\")\n",
    "plt.show()"
   ]
  },
  {
   "cell_type": "raw",
   "metadata": {},
   "source": [
    "signal = signal[signal['puWeight'] >= 0.01]"
   ]
  },
  {
   "cell_type": "raw",
   "metadata": {},
   "source": [
    "fig = plt.figure(figsize=(6,5), dpi=100)\n",
    "_ = plt.hist(signal[\"puWeight\"], bins=100, histtype=\"step\", label=\"Signal\", color='red')\n",
    "plt.title(\"puWeight Signal without 0-weight events\")\n",
    "plt.show()"
   ]
  },
  {
   "cell_type": "markdown",
   "metadata": {
    "scrolled": false
   },
   "source": [
    "fig = plt.figure(figsize=(6,5), dpi=100)\n",
    "_ = plt.hist(bkg[\"puWeight\"], bins=100, histtype=\"step\", density=True, label=\"top\", color='blue')\n",
    "plt.title(\"puWeight Background with 0-weight events\")\n",
    "plt.show()"
   ]
  },
  {
   "cell_type": "raw",
   "metadata": {},
   "source": [
    "bkg = bkg[bkg['puWeight'] >= 0.09]"
   ]
  },
  {
   "cell_type": "raw",
   "metadata": {},
   "source": [
    "fig = plt.figure(figsize=(6,5), dpi=100)\n",
    "_ = plt.hist(bkg[\"puWeight\"], bins=100, histtype=\"step\", density=True, label=\"top\", color='blue')\n",
    "plt.title(\"puWeight Background without 0-weight events\")\n",
    "plt.show()"
   ]
  },
  {
   "cell_type": "raw",
   "metadata": {},
   "source": [
    "len(signal)"
   ]
  },
  {
   "cell_type": "raw",
   "metadata": {},
   "source": [
    "len(bkg)"
   ]
  },
  {
   "cell_type": "raw",
   "metadata": {},
   "source": [
    "fig = plt.figure(figsize=(6,5), dpi=100)\n",
    "_ = plt.hist(bkg[\"Pileup_nTrueInt\"], bins=40, histtype=\"step\", density=True, label=\"top\", color='blue')\n",
    "#plt.legend()\n",
    "plt.title(\"Pileup_nTrueInt background 2016\")\n",
    "plt.show()"
   ]
  },
  {
   "cell_type": "raw",
   "metadata": {},
   "source": [
    "a = bkg[\"puWeight\"]\n",
    "b = bkg[\"Pileup_nTrueInt\"]"
   ]
  },
  {
   "cell_type": "raw",
   "metadata": {
    "scrolled": false
   },
   "source": [
    "import matplotlib\n",
    "\n",
    "fig = plt.figure(figsize=(6,5), dpi=100)\n",
    "\n",
    "plt.hist2d(a,b, bins=40, norm=matplotlib.colors.LogNorm(vmin=1,vmax=a.max()))\n",
    "\n",
    "plt.colorbar(extend='max')\n",
    "plt.xlabel(\"puWeight\")\n",
    "plt.ylabel(\"Pileup_nTrueInt\")\n",
    "plt.show()"
   ]
  },
  {
   "cell_type": "markdown",
   "metadata": {},
   "source": [
    "## Check weights Wnn"
   ]
  },
  {
   "cell_type": "raw",
   "metadata": {},
   "source": [
    "from sklearn.preprocessing import StandardScaler, RobustScaler, MinMaxScaler\n",
    "from sklearn.model_selection import train_test_split"
   ]
  },
  {
   "cell_type": "raw",
   "metadata": {},
   "source": [
    "bkg = bkg[bkg['weight_'] >= 0.0028]"
   ]
  },
  {
   "cell_type": "raw",
   "metadata": {},
   "source": [
    "X_sig = signal[config[\"cols\"]].values\n",
    "X_bkg = bkg[config[\"cols\"]].values\n",
    "Y_sig = np.ones(len(X_sig))\n",
    "Y_bkg = np.zeros(len(X_bkg))\n",
    "W_sig = (signal[\"weight_norm\"]).values\n",
    "W_bkg = (bkg[\"weight_norm\"]).values\n",
    "Wnn_sig = (signal[\"weight_\"]).values\n",
    "Wnn_bkg = (bkg[\"weight_\"]).values\n",
    "\n",
    "X = np.vstack([X_sig, X_bkg])\n",
    "Y = np.hstack([Y_sig, Y_bkg])\n",
    "W = np.hstack([W_sig, W_bkg])\n",
    "Wnn = np.hstack([Wnn_sig, Wnn_bkg])"
   ]
  },
  {
   "cell_type": "raw",
   "metadata": {},
   "source": [
    "X_sig_new = signal_new[config[\"cols\"]].values\n",
    "X_bkg_new = bkg_new[config[\"cols\"]].values\n",
    "Y_sig_new = np.ones(len(X_sig_new))\n",
    "Y_bkg_new = np.zeros(len(X_bkg_new))\n",
    "\n",
    "X_new = np.vstack([X_sig_new, X_bkg_new])\n",
    "Y_new = np.hstack([Y_sig_new, Y_bkg_new])"
   ]
  },
  {
   "cell_type": "raw",
   "metadata": {},
   "source": [
    "fig = plt.figure(figsize=(6,5), dpi=100)\n",
    "_ = plt.hist(Wnn_sig, bins=100, histtype=\"step\", color='red', range=(0,0.003))\n",
    "plt.title(\"weights used for the ROC of the DNN for the signal\")\n",
    "plt.show()"
   ]
  },
  {
   "cell_type": "raw",
   "metadata": {},
   "source": [
    "fig = plt.figure(figsize=(6,5), dpi=100)\n",
    "_ = plt.hist(Wnn_bkg, bins=100, histtype=\"step\", color='blue')\n",
    "plt.title(\"weights of DNN ROC for the bkg AFTER the cut of 0-weight events\")\n",
    "#plt.yscale(\"log\")\n",
    "plt.show()"
   ]
  },
  {
   "cell_type": "markdown",
   "metadata": {},
   "source": [
    "## Plotting all variables"
   ]
  },
  {
   "cell_type": "raw",
   "metadata": {},
   "source": [
    "## draw input variables\n",
    "\n",
    "for var in config[\"cols\"]:\n",
    "    fig = plt.figure(figsize=(6,5), dpi=100)\n",
    "    _ = plt.hist(signal[var], bins=20, histtype=\"step\", density=True, label=\"Signal\", color='red')\n",
    "    _ = plt.hist(bkg[var], bins=20, histtype=\"step\", density=True, label=\"top\", color='blue')\n",
    "    plt.legend()\n",
    "    plt.title(var)\n",
    "    plt.show()"
   ]
  },
  {
   "cell_type": "raw",
   "metadata": {},
   "source": [
    "scaler = StandardScaler()\n",
    "X_scaled = scaler.fit_transform(X)"
   ]
  },
  {
   "cell_type": "raw",
   "metadata": {},
   "source": [
    "top = scaler.transform(bkg[bkg.sample_name==\"top\"][config[\"cols\"]].values)"
   ]
  },
  {
   "cell_type": "raw",
   "metadata": {},
   "source": [
    "for idx,col in enumerate(config[\"cols\"]):\n",
    "    fig = plt.figure(figsize=(6,5), dpi=100)\n",
    "    _ = plt.hist(X_scaled[Y==1,idx], bins=100, histtype=\"step\", density=True, label=\"Signal\", color='red')\n",
    "    _ = plt.hist(top[:,idx], bins=100, histtype=\"step\", density=True, label=\"top\", color='blue')\n",
    "    plt.legend()\n",
    "    plt.title(col)\n",
    "    plt.show()"
   ]
  },
  {
   "cell_type": "markdown",
   "metadata": {},
   "source": [
    "## Extracting mjj for ROC"
   ]
  },
  {
   "cell_type": "raw",
   "metadata": {},
   "source": [
    "signal = signal[(signal['mjj'] >= 500) & (signal[\"detajj\"] >= 3.5)]\n",
    "bkg = bkg[(bkg['mjj'] >= 500) & (bkg[\"detajj\"] >= 3.5)]"
   ]
  },
  {
   "cell_type": "raw",
   "metadata": {},
   "source": [
    "#v6 \n",
    "\n",
    "sig_tot = 51435\n",
    "bkg_tot = 1733357\n",
    "\n",
    "eS = round(len(signal)/sig_tot,3)\n",
    "eB = round(len(bkg)/bkg_tot,3)\n",
    "\n",
    "print(\"Queste percentuali vengono utilizzate per la ROC di mjj\")\n",
    "print(\"% signal = \", eS)\n",
    "print(\"% bkg = \", eB)"
   ]
  },
  {
   "cell_type": "raw",
   "metadata": {},
   "source": [
    "#v7 top+WW\n",
    "low_sig = 225\n",
    "low_bkg = 7155\n",
    "\n",
    "low_sig_2016 = 46\n",
    "low_bkg_2016 = 1929\n",
    "low_sig_2017 = 67\n",
    "low_bkg_2017 = 2058\n",
    "low_sig_2018 = 113\n",
    "low_bkg_2018 = 3168\n",
    "\n",
    "high_sig = 93\n",
    "high_bkg = 6063\n",
    "\n",
    "high_sig_2016 = 18\n",
    "high_bkg_2016 = 1582\n",
    "high_sig_2017 = 28\n",
    "high_bkg_2017 = 1808\n",
    "high_sig_2018 = 47\n",
    "high_bkg_2018 = 2672"
   ]
  },
  {
   "cell_type": "code",
   "execution_count": 8,
   "metadata": {},
   "outputs": [],
   "source": [
    "#v7 top+WW loose\n",
    "low_sig = 145\n",
    "low_bkg = 1903\n",
    "\n",
    "low_sig_2016 = 31\n",
    "low_bkg_2016 = 493\n",
    "low_sig_2017 = 42\n",
    "low_bkg_2017 = 555\n",
    "low_sig_2018 = 72\n",
    "low_bkg_2018 = 854\n",
    "\n",
    "high_sig = 59\n",
    "high_bkg = 1824\n",
    "\n",
    "high_sig_2016 = 11\n",
    "high_bkg_2016 = 470\n",
    "high_sig_2017 = 17\n",
    "high_bkg_2017 = 532\n",
    "high_sig_2018 = 30\n",
    "high_bkg_2018 = 820"
   ]
  },
  {
   "cell_type": "code",
   "execution_count": 9,
   "metadata": {},
   "outputs": [
    {
     "name": "stdout",
     "output_type": "stream",
     "text": [
      "Queste percentuali vengono utilizzate per la ROC di mjj\n",
      "% signal =  0.747\n",
      "% bkg =  0.435\n"
     ]
    }
   ],
   "source": [
    "eS = round(signal.weight_.sum()/high_sig_2017,3)\n",
    "eB = round(bkg.weight_.sum()/high_bkg_2017,3)\n",
    "\n",
    "print(\"Queste percentuali vengono utilizzate per la ROC di mjj\")\n",
    "print(\"% signal = \", eS)\n",
    "print(\"% bkg = \", eB)"
   ]
  },
  {
   "cell_type": "code",
   "execution_count": 10,
   "metadata": {},
   "outputs": [],
   "source": [
    "bins = 26"
   ]
  },
  {
   "cell_type": "code",
   "execution_count": 11,
   "metadata": {},
   "outputs": [
    {
     "data": {
      "image/png": "[encoded data removed]",
      "text/plain": [
       "<Figure size 600x500 with 1 Axes>"
      ]
     },
     "metadata": {
      "needs_background": "light"
     },
     "output_type": "display_data"
    }
   ],
   "source": [
    "fig = plt.figure(figsize=(6,5), dpi=100)\n",
    "_ = plt.hist(signal[\"mjj\"], bins=10, histtype=\"step\", label=\"Signal\", color='red', density = True, range=(500,3000))\n",
    "_ = plt.hist(bkg[\"mjj\"], bins=10, histtype=\"step\", label=\"top\", color='blue', density = True, range=(500,3000))\n",
    "plt.legend()\n",
    "plt.title(\"mjj\")\n",
    "plt.show()"
   ]
  },
  {
   "cell_type": "code",
   "execution_count": 12,
   "metadata": {},
   "outputs": [
    {
     "data": {
      "image/png": "[encoded data removed]",
      "text/plain": [
       "<Figure size 600x500 with 1 Axes>"
      ]
     },
     "metadata": {
      "needs_background": "light"
     },
     "output_type": "display_data"
    }
   ],
   "source": [
    "fig = plt.figure(figsize=(6,5), dpi=100)\n",
    "_ = plt.hist(signal[\"mjj\"], bins=bins, histtype=\"step\", label=\"Signal\", color='red', density = True, range=(500,7000))\n",
    "_ = plt.hist(bkg[\"mjj\"], bins=bins, histtype=\"step\", label=\"top\", color='blue', density = True, range=(500,7000))\n",
    "plt.legend()\n",
    "plt.title(\"mjj\")\n",
    "plt.show()"
   ]
  },
  {
   "cell_type": "code",
   "execution_count": 13,
   "metadata": {},
   "outputs": [
    {
     "data": {
      "image/png": "[encoded data removed]",
      "text/plain": [
       "<Figure size 600x500 with 1 Axes>"
      ]
     },
     "metadata": {
      "needs_background": "light"
     },
     "output_type": "display_data"
    }
   ],
   "source": [
    "fig = plt.figure(figsize=(6,5), dpi=100)\n",
    "n_sig, b, _ = plt.hist(signal[\"mjj\"], bins=bins, histtype=\"step\", weights=signal[\"weight_\"], label=\"Signal\", color='red', range=(500,7000))\n",
    "n_bkg, b, _ = plt.hist(bkg[\"mjj\"], bins=bins, histtype=\"step\", weights=bkg[\"weight_\"], label=\"top\", color='blue', range=(500,7000))\n",
    "plt.legend()\n",
    "plt.title(\"mjj\")\n",
    "plt.show()"
   ]
  },
  {
   "cell_type": "code",
   "execution_count": 14,
   "metadata": {},
   "outputs": [],
   "source": [
    "s_n = 0 \n",
    "for i in range (10,26):\n",
    "    s_n = n_sig[i]+s_n\n",
    "n_sig[9] = n_sig[9]+s_n\n",
    "n_sig = n_sig[0:10]"
   ]
  },
  {
   "cell_type": "code",
   "execution_count": 15,
   "metadata": {},
   "outputs": [],
   "source": [
    "b_n = 0 \n",
    "for i in range (10,26):\n",
    "    b_n = n_bkg[i]+b_n\n",
    "n_bkg[9] = n_bkg[9]+b_n\n",
    "n_bkg = n_bkg[0:10]"
   ]
  },
  {
   "cell_type": "code",
   "execution_count": 16,
   "metadata": {},
   "outputs": [],
   "source": [
    "effS = np.array([])\n",
    "effB = np.array([])\n",
    "\n",
    "for i in range(len(n_sig)):\n",
    "    i = i+1\n",
    "    S = sum(n_sig[-i:len(n_sig)])\n",
    "    effS = np.append(effS, S/sum(n_sig))\n",
    "    \n",
    "for j in range(len(n_bkg)):\n",
    "    j = j+1\n",
    "    B = sum(n_bkg[-j:len(n_bkg)])\n",
    "    effB = np.append(effB, B/sum(n_bkg))"
   ]
  },
  {
   "cell_type": "code",
   "execution_count": 17,
   "metadata": {},
   "outputs": [],
   "source": [
    "# Considero efficienza di segnale e fondo delle selezioni\n",
    "import numpy as np\n",
    "\n",
    "new_effS = np.array([])\n",
    "new_effB = np.array([])\n",
    "\n",
    "for i in range (len(effS)):\n",
    "    add = effS[i]*eS\n",
    "    new_effS = np.append(new_effS, add)\n",
    "\n",
    "for i in range (len(effB)):\n",
    "    add = effB[i]*eB\n",
    "    new_effB = np.append(new_effB, add)"
   ]
  },
  {
   "cell_type": "code",
   "execution_count": 18,
   "metadata": {},
   "outputs": [
    {
     "name": "stdout",
     "output_type": "stream",
     "text": [
      "[0.05407355753546939, 0.07263090420745363, 0.0999914710503162, 0.13943465950678852, 0.19605338475931, 0.2651784802812508, 0.3573922741362265, 0.47851987802869206, 0.6101925520392124, 0.747]\n",
      "[0.0016393981552189232, 0.003054447791857279, 0.00421258154064431, 0.010378679358417523, 0.017137355259180736, 0.034324859763294586, 0.07160819919629002, 0.13186794386741496, 0.23496237687053165, 0.435]\n"
     ]
    }
   ],
   "source": [
    "print(new_effS.tolist())\n",
    "print(new_effB.tolist())"
   ]
  },
  {
   "cell_type": "code",
   "execution_count": 19,
   "metadata": {},
   "outputs": [],
   "source": [
    "#highZ\n",
    "effS = [0, 0.05159226015957822, 0.07214194349625715, 0.0956193362925989, 0.1350886943047355, 0.18579459753254737, 0.25651683443271217, 0.34264551661935705, 0.4576258762032668, 0.5885600907891492, 0.72]\n",
    "effB = [0, 0.0033085801177216547, 0.005724267845254365, 0.008258929043057545, 0.014256364058895687, 0.023577428422127386, 0.0434167110740181, 0.07756741340809739, 0.1368924309002695, 0.24198437224593516, 0.44]"
   ]
  },
  {
   "cell_type": "code",
   "execution_count": 20,
   "metadata": {},
   "outputs": [],
   "source": [
    "#highZ 2016\n",
    "effS_2016 = [0, 0.05380802597897315, 0.0701935440419858, 0.10125281871820904, 0.13793647034646125, 0.18431804830829304, 0.26823062717535484, 0.3546356961574026, 0.4804557434669528, 0.6378114521818993, 0.786]\n",
    "effB_2016 = [0, 0.00264040273798799, 0.004190749349595994, 0.006794664988370699, 0.011793694881092947, 0.022608041524389163, 0.04152595932484219, 0.07045653643910822, 0.12847112271763725, 0.2349367168502759, 0.434]"
   ]
  },
  {
   "cell_type": "code",
   "execution_count": 21,
   "metadata": {},
   "outputs": [],
   "source": [
    "#highZ 2017\n",
    "effS_2017 = [0, 0.05407355753546939, 0.07263090420745363, 0.0999914710503162, 0.13943465950678852, 0.19605338475931, 0.2651784802812508, 0.3573922741362265, 0.47851987802869206, 0.6101925520392124, 0.747]\n",
    "effB_2017 = [0, 0.0016393981552189232, 0.003054447791857279, 0.00421258154064431, 0.010378679358417523, 0.017137355259180736, 0.034324859763294586, 0.07160819919629002, 0.13186794386741496, 0.23496237687053165, 0.435]"
   ]
  },
  {
   "cell_type": "code",
   "execution_count": 22,
   "metadata": {},
   "outputs": [],
   "source": [
    "#highZ 2018\n",
    "effS_2018 = [0, 0.05105706145389535, 0.07493180730523896, 0.0941963495291841, 0.1359886268585641, 0.1865824060995558, 0.2556830700269535, 0.3410715324177613, 0.45234683758912725, 0.5774516649886237, 0.704]\n",
    "effB_2018 = [0, 0.004777481732930086, 0.008340388262005425, 0.011730833182258909, 0.018195190540619573, 0.028330768399177073, 0.05043380780459729, 0.0855665764089809, 0.14507825759781529, 0.25075527778065576, 0.447]"
   ]
  },
  {
   "cell_type": "code",
   "execution_count": 23,
   "metadata": {},
   "outputs": [],
   "source": [
    "#lowZ\n",
    "effS = [0, 0.05921764471472966, 0.08113918097565394, 0.11201119364444732, 0.1532978767386876, 0.20567130996274324, 0.27402648951058795, 0.3582544143664585, 0.4648048728848857, 0.5851677585123848, 0.697]\n",
    "effB = [0, 0.0041309496555800695, 0.005768270915204816, 0.009539628161946204, 0.014252853995835346, 0.021711888509408275, 0.03643450750886549, 0.06254971579812878, 0.11182204118445911, 0.20350743201846141, 0.393]"
   ]
  },
  {
   "cell_type": "code",
   "execution_count": 24,
   "metadata": {},
   "outputs": [],
   "source": [
    "#lowZ_2016\n",
    "effS_2016 = [0, 0.05407557101768713, 0.07565668807506448, 0.10549868807308381, 0.13527000560276647, 0.19298778006417167, 0.2630507191258994, 0.3417570530978811, 0.4478112690382182, 0.5691038766871134, 0.685]\n",
    "effB_2016 = [0, 0.003594307961747034, 0.005586053569671899, 0.008628224251351376, 0.012353417388146763, 0.01917687085963256, 0.031690186335024226, 0.05652681177696748, 0.09636744567222975, 0.17942395179340861, 0.366]"
   ]
  },
  {
   "cell_type": "code",
   "execution_count": 25,
   "metadata": {},
   "outputs": [],
   "source": [
    "#lowZ_2017\n",
    "effS_2017 = [0, 0.05161780325108563, 0.0692147928061122, 0.09777085233239342, 0.138747133618037, 0.18843625754713797, 0.2548697171612336, 0.3427587457994873, 0.44820830894019603, 0.5757442887157196, 0.689]\n",
    "effB_2017 = [0, 0.005049891165914777, 0.005488364960916574, 0.009830015144609811, 0.01477114938521758, 0.02156202618105251, 0.038591417299234335, 0.06089133949336431, 0.11776412533312047, 0.2148337314299521, 0.411]"
   ]
  },
  {
   "cell_type": "code",
   "execution_count": 26,
   "metadata": {},
   "outputs": [],
   "source": [
    "#lowZ_2018\n",
    "effS_2018 = [0, 0.06596513246883429, 0.09059333853969168, 0.12331182854781304, 0.16980638885737212, 0.2215328413510011, 0.2903884362287602, 0.37499809381020177, 0.4825827583215006, 0.5985610069564808, 0.708]\n",
    "effB_2018 = [0, 0.0038548092146939374, 0.0060719513444135184, 0.00990450699312245, 0.015054177773303722, 0.02333662559239239, 0.037877044239967524, 0.06728810907419587, 0.11720758466436591, 0.21063626992666656, 0.398]"
   ]
  }
 ],
 "metadata": {
  "kernelspec": {
   "display_name": "Python 3",
   "language": "python",
   "name": "python3"
  },
  "language_info": {
   "codemirror_mode": {
    "name": "ipython",
    "version": 3
   },
   "file_extension": ".py",
   "mimetype": "text/x-python",
   "name": "python",
   "nbconvert_exporter": "python",
   "pygments_lexer": "ipython3",
   "version": "3.7.6"
  }
 },
 "nbformat": 4,
 "nbformat_minor": 4
}
